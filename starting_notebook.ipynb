{
 "cells": [
  {
   "cell_type": "markdown",
   "metadata": {},
   "source": [
    "## Introduction to R workshop\n",
    "\n",
    "This is a markdown cell where we can write formatted text!!!"
   ]
  },
  {
   "cell_type": "markdown",
   "metadata": {},
   "source": [
    "#### Overview\n",
    "\n",
    "-------\n",
    "\n",
    "- [ ] What's Jupyter? \n",
    "- [ ] How do I work with the syzygy service? \n",
    "- [ ] What's the point of the syzygy service? "
   ]
  },
  {
   "cell_type": "code",
   "execution_count": null,
   "metadata": {},
   "outputs": [],
   "source": [
    "# This is a code cell, where we can run some R code!\n",
    "print(\"Hiya folks\")"
   ]
  },
  {
   "cell_type": "markdown",
   "metadata": {},
   "source": [
    "#### Markdown Cells\n",
    "\n",
    "-----------------\n",
    "\n",
    "This is a text cell.\n",
    "\n",
    "We can write _fancy_ **text**!\n",
    "\n",
    "We can write fancy math: \n",
    "\n",
    "$$\n",
    "e^{i \\pi} + 1 = 0\n",
    "$$"
   ]
  },
  {
   "cell_type": "markdown",
   "metadata": {},
   "source": [
    "We can also write `code`.\n",
    "\n",
    "```\n",
    "this is a block of code. \n",
    "\n",
    "there is lots of code here. \n",
    "\n",
    "i am a coder. \n",
    "\n",
    "code. \n",
    "```\n",
    "\n",
    "and quote people:\n",
    "\n",
    "> \"Don't trust everything you read on the internet.\" --- Abraham Lincoln"
   ]
  },
  {
   "cell_type": "markdown",
   "metadata": {},
   "source": [
    "#### Bells and Whistles \n",
    "\n",
    "--------------\n",
    "\n",
    "- [ ] `git` integration\n",
    "- [ ] command palette\n",
    "- [ ] documentation\n",
    "- [ ] changing the view\n",
    "- [ ] other languages"
   ]
  },
  {
   "cell_type": "markdown",
   "metadata": {},
   "source": [
    "### Setup\n",
    "\n",
    "--------------"
   ]
  },
  {
   "cell_type": "code",
   "execution_count": null,
   "metadata": {},
   "outputs": [],
   "source": [
    "library(tidyverse)\n",
    "gapminder <- read_csv(\"data/gapminder_data.csv\")"
   ]
  }
 ],
 "metadata": {
  "kernelspec": {
   "display_name": "R",
   "language": "R",
   "name": "ir"
  },
  "language_info": {
   "codemirror_mode": "r",
   "file_extension": ".r",
   "mimetype": "text/x-r-source",
   "name": "R",
   "pygments_lexer": "r",
   "version": "3.5.1"
  }
 },
 "nbformat": 4,
 "nbformat_minor": 2
}
