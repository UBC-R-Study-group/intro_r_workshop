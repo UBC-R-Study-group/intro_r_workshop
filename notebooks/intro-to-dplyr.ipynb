{
 "cells": [
  {
   "cell_type": "markdown",
   "metadata": {},
   "source": [
    "## Intro to `dplyr()`\n",
    "\n",
    "This lesson will cover some basic functions that can be used to manipulate data in R.\n",
    "Again, we will be using the gapminder data set, which includes country information on GDP, population, etc.\n",
    "\n",
    "This material is based on a Software Carpentry lesson, available on their [website](http://swcarpentry.github.io/r-novice-gapminder/13-dplyr/index.html).\n",
    "\n",
    "There are five main functions we'll be talking about today, each allowing us to manipulate data frames. These five functions are:\n",
    "\n",
    "* `select()`  --  Choose columns (variables or attributes) from our data frame\n",
    "* `filter()`  --  Choose rows (samples or observations) from our data frame\n",
    "* `mutate()`  --  Create new columns, based on existing ones\n",
    "* `group_by()`  --  Group rows based on a particular column/value within that column \n",
    "* `summarize()`  --  Perform some function on the grouped data\n",
    "\n",
    "\n",
    "If you haven't already, make sure you have `dplyr()` and `gapminder()` installed and loaded with the following commands:\n"
   ]
  },
  {
   "cell_type": "code",
   "execution_count": 16,
   "metadata": {},
   "outputs": [],
   "source": [
    "# Download the packages\n",
    "#install.packages(c(\"dplyr\", \"gapminder\"))\n",
    "\n",
    "# Load the packages for use\n",
    "library(dplyr)\n",
    "library(gapminder)"
   ]
  },
  {
   "cell_type": "markdown",
   "metadata": {},
   "source": [
    "Let's take a quick look at our data frame to remind ourselves of its structure. We do this using the `head()` command, which will display the first 10 rows (given by `n = 10`) of our data frame. "
   ]
  },
  {
   "cell_type": "code",
   "execution_count": 17,
   "metadata": {},
   "outputs": [
    {
     "data": {
      "text/html": [
       "<table>\n",
       "<thead><tr><th scope=col>country</th><th scope=col>continent</th><th scope=col>year</th><th scope=col>lifeExp</th><th scope=col>pop</th><th scope=col>gdpPercap</th></tr></thead>\n",
       "<tbody>\n",
       "\t<tr><td>Afghanistan</td><td>Asia       </td><td>1952       </td><td>28.801     </td><td> 8425333   </td><td>779.4453   </td></tr>\n",
       "\t<tr><td>Afghanistan</td><td>Asia       </td><td>1957       </td><td>30.332     </td><td> 9240934   </td><td>820.8530   </td></tr>\n",
       "\t<tr><td>Afghanistan</td><td>Asia       </td><td>1962       </td><td>31.997     </td><td>10267083   </td><td>853.1007   </td></tr>\n",
       "\t<tr><td>Afghanistan</td><td>Asia       </td><td>1967       </td><td>34.020     </td><td>11537966   </td><td>836.1971   </td></tr>\n",
       "\t<tr><td>Afghanistan</td><td>Asia       </td><td>1972       </td><td>36.088     </td><td>13079460   </td><td>739.9811   </td></tr>\n",
       "\t<tr><td>Afghanistan</td><td>Asia       </td><td>1977       </td><td>38.438     </td><td>14880372   </td><td>786.1134   </td></tr>\n",
       "\t<tr><td>Afghanistan</td><td>Asia       </td><td>1982       </td><td>39.854     </td><td>12881816   </td><td>978.0114   </td></tr>\n",
       "\t<tr><td>Afghanistan</td><td>Asia       </td><td>1987       </td><td>40.822     </td><td>13867957   </td><td>852.3959   </td></tr>\n",
       "\t<tr><td>Afghanistan</td><td>Asia       </td><td>1992       </td><td>41.674     </td><td>16317921   </td><td>649.3414   </td></tr>\n",
       "\t<tr><td>Afghanistan</td><td>Asia       </td><td>1997       </td><td>41.763     </td><td>22227415   </td><td>635.3414   </td></tr>\n",
       "</tbody>\n",
       "</table>\n"
      ],
      "text/latex": [
       "\\begin{tabular}{r|llllll}\n",
       " country & continent & year & lifeExp & pop & gdpPercap\\\\\n",
       "\\hline\n",
       "\t Afghanistan & Asia        & 1952        & 28.801      &  8425333    & 779.4453   \\\\\n",
       "\t Afghanistan & Asia        & 1957        & 30.332      &  9240934    & 820.8530   \\\\\n",
       "\t Afghanistan & Asia        & 1962        & 31.997      & 10267083    & 853.1007   \\\\\n",
       "\t Afghanistan & Asia        & 1967        & 34.020      & 11537966    & 836.1971   \\\\\n",
       "\t Afghanistan & Asia        & 1972        & 36.088      & 13079460    & 739.9811   \\\\\n",
       "\t Afghanistan & Asia        & 1977        & 38.438      & 14880372    & 786.1134   \\\\\n",
       "\t Afghanistan & Asia        & 1982        & 39.854      & 12881816    & 978.0114   \\\\\n",
       "\t Afghanistan & Asia        & 1987        & 40.822      & 13867957    & 852.3959   \\\\\n",
       "\t Afghanistan & Asia        & 1992        & 41.674      & 16317921    & 649.3414   \\\\\n",
       "\t Afghanistan & Asia        & 1997        & 41.763      & 22227415    & 635.3414   \\\\\n",
       "\\end{tabular}\n"
      ],
      "text/markdown": [
       "\n",
       "country | continent | year | lifeExp | pop | gdpPercap | \n",
       "|---|---|---|---|---|---|---|---|---|---|\n",
       "| Afghanistan | Asia        | 1952        | 28.801      |  8425333    | 779.4453    | \n",
       "| Afghanistan | Asia        | 1957        | 30.332      |  9240934    | 820.8530    | \n",
       "| Afghanistan | Asia        | 1962        | 31.997      | 10267083    | 853.1007    | \n",
       "| Afghanistan | Asia        | 1967        | 34.020      | 11537966    | 836.1971    | \n",
       "| Afghanistan | Asia        | 1972        | 36.088      | 13079460    | 739.9811    | \n",
       "| Afghanistan | Asia        | 1977        | 38.438      | 14880372    | 786.1134    | \n",
       "| Afghanistan | Asia        | 1982        | 39.854      | 12881816    | 978.0114    | \n",
       "| Afghanistan | Asia        | 1987        | 40.822      | 13867957    | 852.3959    | \n",
       "| Afghanistan | Asia        | 1992        | 41.674      | 16317921    | 649.3414    | \n",
       "| Afghanistan | Asia        | 1997        | 41.763      | 22227415    | 635.3414    | \n",
       "\n",
       "\n"
      ],
      "text/plain": [
       "   country     continent year lifeExp pop      gdpPercap\n",
       "1  Afghanistan Asia      1952 28.801   8425333 779.4453 \n",
       "2  Afghanistan Asia      1957 30.332   9240934 820.8530 \n",
       "3  Afghanistan Asia      1962 31.997  10267083 853.1007 \n",
       "4  Afghanistan Asia      1967 34.020  11537966 836.1971 \n",
       "5  Afghanistan Asia      1972 36.088  13079460 739.9811 \n",
       "6  Afghanistan Asia      1977 38.438  14880372 786.1134 \n",
       "7  Afghanistan Asia      1982 39.854  12881816 978.0114 \n",
       "8  Afghanistan Asia      1987 40.822  13867957 852.3959 \n",
       "9  Afghanistan Asia      1992 41.674  16317921 649.3414 \n",
       "10 Afghanistan Asia      1997 41.763  22227415 635.3414 "
      ]
     },
     "metadata": {},
     "output_type": "display_data"
    }
   ],
   "source": [
    "head(gapminder, n = 10)"
   ]
  },
  {
   "cell_type": "markdown",
   "metadata": {},
   "source": [
    "### Choose Columns: select()\n",
    "\n",
    "The first function we'll be using is `select()`. This function let's us pick columns from our data frame, based on name (e.g. year) or by index (e.g. 3). \n",
    "\n",
    "![](https://swcarpentry.github.io/r-novice-gapminder/fig/13-dplyr-fig1.png)\n",
    "\n",
    "Let's try using `select()` to pick out a few columns: \"country\", \"year\", \"lifeExp\", and \"pop\". We'll be assigning these columns to a new data frame, `gapminder_select`. Then we'll use `head()` to see if it worked."
   ]
  },
  {
   "cell_type": "code",
   "execution_count": 18,
   "metadata": {},
   "outputs": [
    {
     "data": {
      "text/html": [
       "<table>\n",
       "<thead><tr><th scope=col>country</th><th scope=col>year</th><th scope=col>lifeExp</th><th scope=col>pop</th></tr></thead>\n",
       "<tbody>\n",
       "\t<tr><td>Afghanistan</td><td>1952       </td><td>28.801     </td><td> 8425333   </td></tr>\n",
       "\t<tr><td>Afghanistan</td><td>1957       </td><td>30.332     </td><td> 9240934   </td></tr>\n",
       "\t<tr><td>Afghanistan</td><td>1962       </td><td>31.997     </td><td>10267083   </td></tr>\n",
       "\t<tr><td>Afghanistan</td><td>1967       </td><td>34.020     </td><td>11537966   </td></tr>\n",
       "\t<tr><td>Afghanistan</td><td>1972       </td><td>36.088     </td><td>13079460   </td></tr>\n",
       "\t<tr><td>Afghanistan</td><td>1977       </td><td>38.438     </td><td>14880372   </td></tr>\n",
       "\t<tr><td>Afghanistan</td><td>1982       </td><td>39.854     </td><td>12881816   </td></tr>\n",
       "\t<tr><td>Afghanistan</td><td>1987       </td><td>40.822     </td><td>13867957   </td></tr>\n",
       "\t<tr><td>Afghanistan</td><td>1992       </td><td>41.674     </td><td>16317921   </td></tr>\n",
       "\t<tr><td>Afghanistan</td><td>1997       </td><td>41.763     </td><td>22227415   </td></tr>\n",
       "</tbody>\n",
       "</table>\n"
      ],
      "text/latex": [
       "\\begin{tabular}{r|llll}\n",
       " country & year & lifeExp & pop\\\\\n",
       "\\hline\n",
       "\t Afghanistan & 1952        & 28.801      &  8425333   \\\\\n",
       "\t Afghanistan & 1957        & 30.332      &  9240934   \\\\\n",
       "\t Afghanistan & 1962        & 31.997      & 10267083   \\\\\n",
       "\t Afghanistan & 1967        & 34.020      & 11537966   \\\\\n",
       "\t Afghanistan & 1972        & 36.088      & 13079460   \\\\\n",
       "\t Afghanistan & 1977        & 38.438      & 14880372   \\\\\n",
       "\t Afghanistan & 1982        & 39.854      & 12881816   \\\\\n",
       "\t Afghanistan & 1987        & 40.822      & 13867957   \\\\\n",
       "\t Afghanistan & 1992        & 41.674      & 16317921   \\\\\n",
       "\t Afghanistan & 1997        & 41.763      & 22227415   \\\\\n",
       "\\end{tabular}\n"
      ],
      "text/markdown": [
       "\n",
       "country | year | lifeExp | pop | \n",
       "|---|---|---|---|---|---|---|---|---|---|\n",
       "| Afghanistan | 1952        | 28.801      |  8425333    | \n",
       "| Afghanistan | 1957        | 30.332      |  9240934    | \n",
       "| Afghanistan | 1962        | 31.997      | 10267083    | \n",
       "| Afghanistan | 1967        | 34.020      | 11537966    | \n",
       "| Afghanistan | 1972        | 36.088      | 13079460    | \n",
       "| Afghanistan | 1977        | 38.438      | 14880372    | \n",
       "| Afghanistan | 1982        | 39.854      | 12881816    | \n",
       "| Afghanistan | 1987        | 40.822      | 13867957    | \n",
       "| Afghanistan | 1992        | 41.674      | 16317921    | \n",
       "| Afghanistan | 1997        | 41.763      | 22227415    | \n",
       "\n",
       "\n"
      ],
      "text/plain": [
       "   country     year lifeExp pop     \n",
       "1  Afghanistan 1952 28.801   8425333\n",
       "2  Afghanistan 1957 30.332   9240934\n",
       "3  Afghanistan 1962 31.997  10267083\n",
       "4  Afghanistan 1967 34.020  11537966\n",
       "5  Afghanistan 1972 36.088  13079460\n",
       "6  Afghanistan 1977 38.438  14880372\n",
       "7  Afghanistan 1982 39.854  12881816\n",
       "8  Afghanistan 1987 40.822  13867957\n",
       "9  Afghanistan 1992 41.674  16317921\n",
       "10 Afghanistan 1997 41.763  22227415"
      ]
     },
     "metadata": {},
     "output_type": "display_data"
    }
   ],
   "source": [
    "# select() code here:\n",
    "gapminder_select <- select(gapminder, country, year, lifeExp, pop)\n",
    "\n",
    "# Check the data frame:\n",
    "head(gapminder_select, n = 10)"
   ]
  },
  {
   "cell_type": "markdown",
   "metadata": {},
   "source": [
    "As you can see, our new data frame contains only a subset of the columns from the original data frame, based on the names we provided in the `select()` command. \n",
    "\n",
    "***\n",
    "\n",
    "Here we'll also introduce another great feature of `dplyr()`: the pipe (  **%>%** ). This symbol sends or pipes an object (e.g. a data frame like gapminder) INTO a function (e.g. `select()`). \n",
    "So, the above `select()` command can be rewritten as follows (NOTE: the \".\" is a placeholder, which represents the object being piped). Again, we can check our result using `head()`."
   ]
  },
  {
   "cell_type": "code",
   "execution_count": 19,
   "metadata": {},
   "outputs": [
    {
     "data": {
      "text/html": [
       "<table>\n",
       "<thead><tr><th scope=col>country</th><th scope=col>year</th><th scope=col>lifeExp</th><th scope=col>pop</th></tr></thead>\n",
       "<tbody>\n",
       "\t<tr><td>Afghanistan</td><td>1952       </td><td>28.801     </td><td> 8425333   </td></tr>\n",
       "\t<tr><td>Afghanistan</td><td>1957       </td><td>30.332     </td><td> 9240934   </td></tr>\n",
       "\t<tr><td>Afghanistan</td><td>1962       </td><td>31.997     </td><td>10267083   </td></tr>\n",
       "\t<tr><td>Afghanistan</td><td>1967       </td><td>34.020     </td><td>11537966   </td></tr>\n",
       "\t<tr><td>Afghanistan</td><td>1972       </td><td>36.088     </td><td>13079460   </td></tr>\n",
       "\t<tr><td>Afghanistan</td><td>1977       </td><td>38.438     </td><td>14880372   </td></tr>\n",
       "\t<tr><td>Afghanistan</td><td>1982       </td><td>39.854     </td><td>12881816   </td></tr>\n",
       "\t<tr><td>Afghanistan</td><td>1987       </td><td>40.822     </td><td>13867957   </td></tr>\n",
       "\t<tr><td>Afghanistan</td><td>1992       </td><td>41.674     </td><td>16317921   </td></tr>\n",
       "\t<tr><td>Afghanistan</td><td>1997       </td><td>41.763     </td><td>22227415   </td></tr>\n",
       "</tbody>\n",
       "</table>\n"
      ],
      "text/latex": [
       "\\begin{tabular}{r|llll}\n",
       " country & year & lifeExp & pop\\\\\n",
       "\\hline\n",
       "\t Afghanistan & 1952        & 28.801      &  8425333   \\\\\n",
       "\t Afghanistan & 1957        & 30.332      &  9240934   \\\\\n",
       "\t Afghanistan & 1962        & 31.997      & 10267083   \\\\\n",
       "\t Afghanistan & 1967        & 34.020      & 11537966   \\\\\n",
       "\t Afghanistan & 1972        & 36.088      & 13079460   \\\\\n",
       "\t Afghanistan & 1977        & 38.438      & 14880372   \\\\\n",
       "\t Afghanistan & 1982        & 39.854      & 12881816   \\\\\n",
       "\t Afghanistan & 1987        & 40.822      & 13867957   \\\\\n",
       "\t Afghanistan & 1992        & 41.674      & 16317921   \\\\\n",
       "\t Afghanistan & 1997        & 41.763      & 22227415   \\\\\n",
       "\\end{tabular}\n"
      ],
      "text/markdown": [
       "\n",
       "country | year | lifeExp | pop | \n",
       "|---|---|---|---|---|---|---|---|---|---|\n",
       "| Afghanistan | 1952        | 28.801      |  8425333    | \n",
       "| Afghanistan | 1957        | 30.332      |  9240934    | \n",
       "| Afghanistan | 1962        | 31.997      | 10267083    | \n",
       "| Afghanistan | 1967        | 34.020      | 11537966    | \n",
       "| Afghanistan | 1972        | 36.088      | 13079460    | \n",
       "| Afghanistan | 1977        | 38.438      | 14880372    | \n",
       "| Afghanistan | 1982        | 39.854      | 12881816    | \n",
       "| Afghanistan | 1987        | 40.822      | 13867957    | \n",
       "| Afghanistan | 1992        | 41.674      | 16317921    | \n",
       "| Afghanistan | 1997        | 41.763      | 22227415    | \n",
       "\n",
       "\n"
      ],
      "text/plain": [
       "   country     year lifeExp pop     \n",
       "1  Afghanistan 1952 28.801   8425333\n",
       "2  Afghanistan 1957 30.332   9240934\n",
       "3  Afghanistan 1962 31.997  10267083\n",
       "4  Afghanistan 1967 34.020  11537966\n",
       "5  Afghanistan 1972 36.088  13079460\n",
       "6  Afghanistan 1977 38.438  14880372\n",
       "7  Afghanistan 1982 39.854  12881816\n",
       "8  Afghanistan 1987 40.822  13867957\n",
       "9  Afghanistan 1992 41.674  16317921\n",
       "10 Afghanistan 1997 41.763  22227415"
      ]
     },
     "metadata": {},
     "output_type": "display_data"
    }
   ],
   "source": [
    "# select() using pipe syntax\n",
    "gapminder_pipe <- gapminder %>% select(., country, year, lifeExp, pop)\n",
    "\n",
    "head(gapminder_pipe, n = 10)"
   ]
  },
  {
   "cell_type": "markdown",
   "metadata": {},
   "source": [
    "We can actually simplify the above command further - dplyr's functions such as `select()` are smart enough that you don't actually need to include the \".\" placeholder, as shown below."
   ]
  },
  {
   "cell_type": "code",
   "execution_count": 20,
   "metadata": {},
   "outputs": [
    {
     "data": {
      "text/html": [
       "<table>\n",
       "<thead><tr><th scope=col>country</th><th scope=col>year</th><th scope=col>lifeExp</th><th scope=col>pop</th></tr></thead>\n",
       "<tbody>\n",
       "\t<tr><td>Afghanistan</td><td>1952       </td><td>28.801     </td><td> 8425333   </td></tr>\n",
       "\t<tr><td>Afghanistan</td><td>1957       </td><td>30.332     </td><td> 9240934   </td></tr>\n",
       "\t<tr><td>Afghanistan</td><td>1962       </td><td>31.997     </td><td>10267083   </td></tr>\n",
       "\t<tr><td>Afghanistan</td><td>1967       </td><td>34.020     </td><td>11537966   </td></tr>\n",
       "\t<tr><td>Afghanistan</td><td>1972       </td><td>36.088     </td><td>13079460   </td></tr>\n",
       "\t<tr><td>Afghanistan</td><td>1977       </td><td>38.438     </td><td>14880372   </td></tr>\n",
       "\t<tr><td>Afghanistan</td><td>1982       </td><td>39.854     </td><td>12881816   </td></tr>\n",
       "\t<tr><td>Afghanistan</td><td>1987       </td><td>40.822     </td><td>13867957   </td></tr>\n",
       "\t<tr><td>Afghanistan</td><td>1992       </td><td>41.674     </td><td>16317921   </td></tr>\n",
       "\t<tr><td>Afghanistan</td><td>1997       </td><td>41.763     </td><td>22227415   </td></tr>\n",
       "</tbody>\n",
       "</table>\n"
      ],
      "text/latex": [
       "\\begin{tabular}{r|llll}\n",
       " country & year & lifeExp & pop\\\\\n",
       "\\hline\n",
       "\t Afghanistan & 1952        & 28.801      &  8425333   \\\\\n",
       "\t Afghanistan & 1957        & 30.332      &  9240934   \\\\\n",
       "\t Afghanistan & 1962        & 31.997      & 10267083   \\\\\n",
       "\t Afghanistan & 1967        & 34.020      & 11537966   \\\\\n",
       "\t Afghanistan & 1972        & 36.088      & 13079460   \\\\\n",
       "\t Afghanistan & 1977        & 38.438      & 14880372   \\\\\n",
       "\t Afghanistan & 1982        & 39.854      & 12881816   \\\\\n",
       "\t Afghanistan & 1987        & 40.822      & 13867957   \\\\\n",
       "\t Afghanistan & 1992        & 41.674      & 16317921   \\\\\n",
       "\t Afghanistan & 1997        & 41.763      & 22227415   \\\\\n",
       "\\end{tabular}\n"
      ],
      "text/markdown": [
       "\n",
       "country | year | lifeExp | pop | \n",
       "|---|---|---|---|---|---|---|---|---|---|\n",
       "| Afghanistan | 1952        | 28.801      |  8425333    | \n",
       "| Afghanistan | 1957        | 30.332      |  9240934    | \n",
       "| Afghanistan | 1962        | 31.997      | 10267083    | \n",
       "| Afghanistan | 1967        | 34.020      | 11537966    | \n",
       "| Afghanistan | 1972        | 36.088      | 13079460    | \n",
       "| Afghanistan | 1977        | 38.438      | 14880372    | \n",
       "| Afghanistan | 1982        | 39.854      | 12881816    | \n",
       "| Afghanistan | 1987        | 40.822      | 13867957    | \n",
       "| Afghanistan | 1992        | 41.674      | 16317921    | \n",
       "| Afghanistan | 1997        | 41.763      | 22227415    | \n",
       "\n",
       "\n"
      ],
      "text/plain": [
       "   country     year lifeExp pop     \n",
       "1  Afghanistan 1952 28.801   8425333\n",
       "2  Afghanistan 1957 30.332   9240934\n",
       "3  Afghanistan 1962 31.997  10267083\n",
       "4  Afghanistan 1967 34.020  11537966\n",
       "5  Afghanistan 1972 36.088  13079460\n",
       "6  Afghanistan 1977 38.438  14880372\n",
       "7  Afghanistan 1982 39.854  12881816\n",
       "8  Afghanistan 1987 40.822  13867957\n",
       "9  Afghanistan 1992 41.674  16317921\n",
       "10 Afghanistan 1997 41.763  22227415"
      ]
     },
     "metadata": {},
     "output_type": "display_data"
    }
   ],
   "source": [
    "# select() using pipe syntax w/out a placeholder\n",
    "gapminder_pipe2 <- gapminder %>% select(country, year, lifeExp, pop)\n",
    "\n",
    "head(gapminder_pipe2, n = 10)"
   ]
  },
  {
   "cell_type": "markdown",
   "metadata": {},
   "source": [
    "#### Challenge 1\n",
    "Using the `select()` command and pipe (` %>% `) notation, pick the following columns from the `gapminder` data frame, assign them to a new variable (we'll use **x**), and display the results using `head(x, n = 10)`. Columns to choose are:\n",
    "\n",
    "* continent\n",
    "* GDP per capita\n",
    "* life expectancy\n",
    "* year"
   ]
  },
  {
   "cell_type": "code",
   "execution_count": 21,
   "metadata": {},
   "outputs": [],
   "source": [
    "# Answer here:\n",
    "# x <- select()"
   ]
  },
  {
   "cell_type": "markdown",
   "metadata": {},
   "source": [
    "### Choose Rows: filter()\n",
    "\n",
    "So we've covered selecting columns, but what about rows? This is where `filter()` comes in. This function allows us to choose rows from our data frame using some logical criteria. An example is filtering for rows in which the country is Canada. This can also be applied to numerical values, such as the year being equal to 1967, or life expectancy greater than 30. \n",
    "\n",
    "NOTE: In R, equality (e.g. country is Canada, year is 1967) is done using a double equals sign (`==`).\n",
    "\n",
    "![](https://jules32.github.io/2016-07-12-Oxford/dplyr_tidyr/img/rstudio-cheatsheet-filter.png)\n",
    "\n",
    "Let's go through a couple examples. "
   ]
  },
  {
   "cell_type": "code",
   "execution_count": 22,
   "metadata": {
    "scrolled": true
   },
   "outputs": [
    {
     "data": {
      "text/html": [
       "<table>\n",
       "<thead><tr><th scope=col>country</th><th scope=col>continent</th><th scope=col>year</th><th scope=col>lifeExp</th><th scope=col>pop</th><th scope=col>gdpPercap</th></tr></thead>\n",
       "<tbody>\n",
       "\t<tr><td>Canada  </td><td>Americas</td><td>1952    </td><td>68.75   </td><td>14785584</td><td>11367.16</td></tr>\n",
       "\t<tr><td>Canada  </td><td>Americas</td><td>1957    </td><td>69.96   </td><td>17010154</td><td>12489.95</td></tr>\n",
       "\t<tr><td>Canada  </td><td>Americas</td><td>1962    </td><td>71.30   </td><td>18985849</td><td>13462.49</td></tr>\n",
       "\t<tr><td>Canada  </td><td>Americas</td><td>1967    </td><td>72.13   </td><td>20819767</td><td>16076.59</td></tr>\n",
       "\t<tr><td>Canada  </td><td>Americas</td><td>1972    </td><td>72.88   </td><td>22284500</td><td>18970.57</td></tr>\n",
       "\t<tr><td>Canada  </td><td>Americas</td><td>1977    </td><td>74.21   </td><td>23796400</td><td>22090.88</td></tr>\n",
       "\t<tr><td>Canada  </td><td>Americas</td><td>1982    </td><td>75.76   </td><td>25201900</td><td>22898.79</td></tr>\n",
       "\t<tr><td>Canada  </td><td>Americas</td><td>1987    </td><td>76.86   </td><td>26549700</td><td>26626.52</td></tr>\n",
       "\t<tr><td>Canada  </td><td>Americas</td><td>1992    </td><td>77.95   </td><td>28523502</td><td>26342.88</td></tr>\n",
       "\t<tr><td>Canada  </td><td>Americas</td><td>1997    </td><td>78.61   </td><td>30305843</td><td>28954.93</td></tr>\n",
       "</tbody>\n",
       "</table>\n"
      ],
      "text/latex": [
       "\\begin{tabular}{r|llllll}\n",
       " country & continent & year & lifeExp & pop & gdpPercap\\\\\n",
       "\\hline\n",
       "\t Canada   & Americas & 1952     & 68.75    & 14785584 & 11367.16\\\\\n",
       "\t Canada   & Americas & 1957     & 69.96    & 17010154 & 12489.95\\\\\n",
       "\t Canada   & Americas & 1962     & 71.30    & 18985849 & 13462.49\\\\\n",
       "\t Canada   & Americas & 1967     & 72.13    & 20819767 & 16076.59\\\\\n",
       "\t Canada   & Americas & 1972     & 72.88    & 22284500 & 18970.57\\\\\n",
       "\t Canada   & Americas & 1977     & 74.21    & 23796400 & 22090.88\\\\\n",
       "\t Canada   & Americas & 1982     & 75.76    & 25201900 & 22898.79\\\\\n",
       "\t Canada   & Americas & 1987     & 76.86    & 26549700 & 26626.52\\\\\n",
       "\t Canada   & Americas & 1992     & 77.95    & 28523502 & 26342.88\\\\\n",
       "\t Canada   & Americas & 1997     & 78.61    & 30305843 & 28954.93\\\\\n",
       "\\end{tabular}\n"
      ],
      "text/markdown": [
       "\n",
       "country | continent | year | lifeExp | pop | gdpPercap | \n",
       "|---|---|---|---|---|---|---|---|---|---|\n",
       "| Canada   | Americas | 1952     | 68.75    | 14785584 | 11367.16 | \n",
       "| Canada   | Americas | 1957     | 69.96    | 17010154 | 12489.95 | \n",
       "| Canada   | Americas | 1962     | 71.30    | 18985849 | 13462.49 | \n",
       "| Canada   | Americas | 1967     | 72.13    | 20819767 | 16076.59 | \n",
       "| Canada   | Americas | 1972     | 72.88    | 22284500 | 18970.57 | \n",
       "| Canada   | Americas | 1977     | 74.21    | 23796400 | 22090.88 | \n",
       "| Canada   | Americas | 1982     | 75.76    | 25201900 | 22898.79 | \n",
       "| Canada   | Americas | 1987     | 76.86    | 26549700 | 26626.52 | \n",
       "| Canada   | Americas | 1992     | 77.95    | 28523502 | 26342.88 | \n",
       "| Canada   | Americas | 1997     | 78.61    | 30305843 | 28954.93 | \n",
       "\n",
       "\n"
      ],
      "text/plain": [
       "   country continent year lifeExp pop      gdpPercap\n",
       "1  Canada  Americas  1952 68.75   14785584 11367.16 \n",
       "2  Canada  Americas  1957 69.96   17010154 12489.95 \n",
       "3  Canada  Americas  1962 71.30   18985849 13462.49 \n",
       "4  Canada  Americas  1967 72.13   20819767 16076.59 \n",
       "5  Canada  Americas  1972 72.88   22284500 18970.57 \n",
       "6  Canada  Americas  1977 74.21   23796400 22090.88 \n",
       "7  Canada  Americas  1982 75.76   25201900 22898.79 \n",
       "8  Canada  Americas  1987 76.86   26549700 26626.52 \n",
       "9  Canada  Americas  1992 77.95   28523502 26342.88 \n",
       "10 Canada  Americas  1997 78.61   30305843 28954.93 "
      ]
     },
     "metadata": {},
     "output_type": "display_data"
    }
   ],
   "source": [
    "# Filter rows where country is Canada\n",
    "gapminder_canada <- gapminder %>% filter(country == \"Canada\")\n",
    "\n",
    "head(gapminder_canada, n = 10)"
   ]
  },
  {
   "cell_type": "markdown",
   "metadata": {},
   "source": [
    "Let's try another one, this time filtering on life expectancy above a certain threshold:"
   ]
  },
  {
   "cell_type": "code",
   "execution_count": 23,
   "metadata": {},
   "outputs": [
    {
     "data": {
      "text/html": [
       "<table>\n",
       "<thead><tr><th scope=col>country</th><th scope=col>continent</th><th scope=col>year</th><th scope=col>lifeExp</th><th scope=col>pop</th><th scope=col>gdpPercap</th></tr></thead>\n",
       "<tbody>\n",
       "\t<tr><td>Albania </td><td>Europe  </td><td>1952    </td><td>55.230  </td><td>1282697 </td><td>1601.056</td></tr>\n",
       "\t<tr><td>Albania </td><td>Europe  </td><td>1957    </td><td>59.280  </td><td>1476505 </td><td>1942.284</td></tr>\n",
       "\t<tr><td>Albania </td><td>Europe  </td><td>1962    </td><td>64.820  </td><td>1728137 </td><td>2312.889</td></tr>\n",
       "\t<tr><td>Albania </td><td>Europe  </td><td>1967    </td><td>66.220  </td><td>1984060 </td><td>2760.197</td></tr>\n",
       "\t<tr><td>Albania </td><td>Europe  </td><td>1972    </td><td>67.690  </td><td>2263554 </td><td>3313.422</td></tr>\n",
       "\t<tr><td>Albania </td><td>Europe  </td><td>1977    </td><td>68.930  </td><td>2509048 </td><td>3533.004</td></tr>\n",
       "\t<tr><td>Albania </td><td>Europe  </td><td>1982    </td><td>70.420  </td><td>2780097 </td><td>3630.881</td></tr>\n",
       "\t<tr><td>Albania </td><td>Europe  </td><td>1987    </td><td>72.000  </td><td>3075321 </td><td>3738.933</td></tr>\n",
       "\t<tr><td>Albania </td><td>Europe  </td><td>1992    </td><td>71.581  </td><td>3326498 </td><td>2497.438</td></tr>\n",
       "\t<tr><td>Albania </td><td>Europe  </td><td>1997    </td><td>72.950  </td><td>3428038 </td><td>3193.055</td></tr>\n",
       "</tbody>\n",
       "</table>\n"
      ],
      "text/latex": [
       "\\begin{tabular}{r|llllll}\n",
       " country & continent & year & lifeExp & pop & gdpPercap\\\\\n",
       "\\hline\n",
       "\t Albania  & Europe   & 1952     & 55.230   & 1282697  & 1601.056\\\\\n",
       "\t Albania  & Europe   & 1957     & 59.280   & 1476505  & 1942.284\\\\\n",
       "\t Albania  & Europe   & 1962     & 64.820   & 1728137  & 2312.889\\\\\n",
       "\t Albania  & Europe   & 1967     & 66.220   & 1984060  & 2760.197\\\\\n",
       "\t Albania  & Europe   & 1972     & 67.690   & 2263554  & 3313.422\\\\\n",
       "\t Albania  & Europe   & 1977     & 68.930   & 2509048  & 3533.004\\\\\n",
       "\t Albania  & Europe   & 1982     & 70.420   & 2780097  & 3630.881\\\\\n",
       "\t Albania  & Europe   & 1987     & 72.000   & 3075321  & 3738.933\\\\\n",
       "\t Albania  & Europe   & 1992     & 71.581   & 3326498  & 2497.438\\\\\n",
       "\t Albania  & Europe   & 1997     & 72.950   & 3428038  & 3193.055\\\\\n",
       "\\end{tabular}\n"
      ],
      "text/markdown": [
       "\n",
       "country | continent | year | lifeExp | pop | gdpPercap | \n",
       "|---|---|---|---|---|---|---|---|---|---|\n",
       "| Albania  | Europe   | 1952     | 55.230   | 1282697  | 1601.056 | \n",
       "| Albania  | Europe   | 1957     | 59.280   | 1476505  | 1942.284 | \n",
       "| Albania  | Europe   | 1962     | 64.820   | 1728137  | 2312.889 | \n",
       "| Albania  | Europe   | 1967     | 66.220   | 1984060  | 2760.197 | \n",
       "| Albania  | Europe   | 1972     | 67.690   | 2263554  | 3313.422 | \n",
       "| Albania  | Europe   | 1977     | 68.930   | 2509048  | 3533.004 | \n",
       "| Albania  | Europe   | 1982     | 70.420   | 2780097  | 3630.881 | \n",
       "| Albania  | Europe   | 1987     | 72.000   | 3075321  | 3738.933 | \n",
       "| Albania  | Europe   | 1992     | 71.581   | 3326498  | 2497.438 | \n",
       "| Albania  | Europe   | 1997     | 72.950   | 3428038  | 3193.055 | \n",
       "\n",
       "\n"
      ],
      "text/plain": [
       "   country continent year lifeExp pop     gdpPercap\n",
       "1  Albania Europe    1952 55.230  1282697 1601.056 \n",
       "2  Albania Europe    1957 59.280  1476505 1942.284 \n",
       "3  Albania Europe    1962 64.820  1728137 2312.889 \n",
       "4  Albania Europe    1967 66.220  1984060 2760.197 \n",
       "5  Albania Europe    1972 67.690  2263554 3313.422 \n",
       "6  Albania Europe    1977 68.930  2509048 3533.004 \n",
       "7  Albania Europe    1982 70.420  2780097 3630.881 \n",
       "8  Albania Europe    1987 72.000  3075321 3738.933 \n",
       "9  Albania Europe    1992 71.581  3326498 2497.438 \n",
       "10 Albania Europe    1997 72.950  3428038 3193.055 "
      ]
     },
     "metadata": {},
     "output_type": "display_data"
    }
   ],
   "source": [
    "# Filter for rows where life expectancy is greater than 50\n",
    "gapminder_LE <- gapminder %>% filter(lifeExp > 50)\n",
    "\n",
    "head(gapminder_LE, n = 10)"
   ]
  },
  {
   "cell_type": "markdown",
   "metadata": {},
   "source": [
    "***\n",
    "\n",
    "We can also filter with multiple arguments, each separated by a comma:"
   ]
  },
  {
   "cell_type": "code",
   "execution_count": 24,
   "metadata": {},
   "outputs": [
    {
     "data": {
      "text/html": [
       "<table>\n",
       "<thead><tr><th scope=col>country</th><th scope=col>continent</th><th scope=col>year</th><th scope=col>lifeExp</th><th scope=col>pop</th><th scope=col>gdpPercap</th></tr></thead>\n",
       "<tbody>\n",
       "\t<tr><td>Canada  </td><td>Americas</td><td>2007    </td><td>80.653  </td><td>33390141</td><td>36319.24</td></tr>\n",
       "</tbody>\n",
       "</table>\n"
      ],
      "text/latex": [
       "\\begin{tabular}{r|llllll}\n",
       " country & continent & year & lifeExp & pop & gdpPercap\\\\\n",
       "\\hline\n",
       "\t Canada   & Americas & 2007     & 80.653   & 33390141 & 36319.24\\\\\n",
       "\\end{tabular}\n"
      ],
      "text/markdown": [
       "\n",
       "country | continent | year | lifeExp | pop | gdpPercap | \n",
       "|---|\n",
       "| Canada   | Americas | 2007     | 80.653   | 33390141 | 36319.24 | \n",
       "\n",
       "\n"
      ],
      "text/plain": [
       "  country continent year lifeExp pop      gdpPercap\n",
       "1 Canada  Americas  2007 80.653  33390141 36319.24 "
      ]
     },
     "metadata": {},
     "output_type": "display_data"
    }
   ],
   "source": [
    "# filter() for Canada and life expectancy greater than 80\n",
    "gapminder_C_LE <- gapminder %>% filter(country == \"Canada\", lifeExp > 80)\n",
    "\n",
    "head(gapminder_C_LE, n = 10)"
   ]
  },
  {
   "cell_type": "markdown",
   "metadata": {},
   "source": [
    "*** \n",
    "\n",
    "#### Challenge 2\n",
    "Use `filter()` to choose data for African countries, from the year 1980 and onwards. "
   ]
  },
  {
   "cell_type": "code",
   "execution_count": 25,
   "metadata": {},
   "outputs": [],
   "source": [
    "# Challenge 2 code here:\n",
    "# x <- filter()"
   ]
  },
  {
   "cell_type": "markdown",
   "metadata": {},
   "source": [
    "### Create New Columns: mutate()\n",
    "\n",
    "Let's say we now want to calculate the GDP in billions, which is done by mutiplying the GDP per capita by the population, then dividing by 1 billion (1 * 10^9). `mutate()` will perform this calculation on each row in the data frame, one row at a time (i.e. row-wise). The code below will calculate the GDP in billions:\n",
    "\n",
    "* `gdpPercap * pop / 10^9`\n"
   ]
  },
  {
   "cell_type": "code",
   "execution_count": 26,
   "metadata": {},
   "outputs": [
    {
     "data": {
      "text/html": [
       "<table>\n",
       "<thead><tr><th scope=col>country</th><th scope=col>continent</th><th scope=col>year</th><th scope=col>lifeExp</th><th scope=col>pop</th><th scope=col>gdpPercap</th><th scope=col>gdp_billion</th></tr></thead>\n",
       "<tbody>\n",
       "\t<tr><td>Afghanistan</td><td>Asia       </td><td>1952       </td><td>28.801     </td><td> 8425333   </td><td>779.4453   </td><td> 6.567086  </td></tr>\n",
       "\t<tr><td>Afghanistan</td><td>Asia       </td><td>1957       </td><td>30.332     </td><td> 9240934   </td><td>820.8530   </td><td> 7.585449  </td></tr>\n",
       "\t<tr><td>Afghanistan</td><td>Asia       </td><td>1962       </td><td>31.997     </td><td>10267083   </td><td>853.1007   </td><td> 8.758856  </td></tr>\n",
       "\t<tr><td>Afghanistan</td><td>Asia       </td><td>1967       </td><td>34.020     </td><td>11537966   </td><td>836.1971   </td><td> 9.648014  </td></tr>\n",
       "\t<tr><td>Afghanistan</td><td>Asia       </td><td>1972       </td><td>36.088     </td><td>13079460   </td><td>739.9811   </td><td> 9.678553  </td></tr>\n",
       "\t<tr><td>Afghanistan</td><td>Asia       </td><td>1977       </td><td>38.438     </td><td>14880372   </td><td>786.1134   </td><td>11.697659  </td></tr>\n",
       "\t<tr><td>Afghanistan</td><td>Asia       </td><td>1982       </td><td>39.854     </td><td>12881816   </td><td>978.0114   </td><td>12.598563  </td></tr>\n",
       "\t<tr><td>Afghanistan</td><td>Asia       </td><td>1987       </td><td>40.822     </td><td>13867957   </td><td>852.3959   </td><td>11.820990  </td></tr>\n",
       "\t<tr><td>Afghanistan</td><td>Asia       </td><td>1992       </td><td>41.674     </td><td>16317921   </td><td>649.3414   </td><td>10.595902  </td></tr>\n",
       "\t<tr><td>Afghanistan</td><td>Asia       </td><td>1997       </td><td>41.763     </td><td>22227415   </td><td>635.3414   </td><td>14.121996  </td></tr>\n",
       "</tbody>\n",
       "</table>\n"
      ],
      "text/latex": [
       "\\begin{tabular}{r|lllllll}\n",
       " country & continent & year & lifeExp & pop & gdpPercap & gdp\\_billion\\\\\n",
       "\\hline\n",
       "\t Afghanistan & Asia        & 1952        & 28.801      &  8425333    & 779.4453    &  6.567086  \\\\\n",
       "\t Afghanistan & Asia        & 1957        & 30.332      &  9240934    & 820.8530    &  7.585449  \\\\\n",
       "\t Afghanistan & Asia        & 1962        & 31.997      & 10267083    & 853.1007    &  8.758856  \\\\\n",
       "\t Afghanistan & Asia        & 1967        & 34.020      & 11537966    & 836.1971    &  9.648014  \\\\\n",
       "\t Afghanistan & Asia        & 1972        & 36.088      & 13079460    & 739.9811    &  9.678553  \\\\\n",
       "\t Afghanistan & Asia        & 1977        & 38.438      & 14880372    & 786.1134    & 11.697659  \\\\\n",
       "\t Afghanistan & Asia        & 1982        & 39.854      & 12881816    & 978.0114    & 12.598563  \\\\\n",
       "\t Afghanistan & Asia        & 1987        & 40.822      & 13867957    & 852.3959    & 11.820990  \\\\\n",
       "\t Afghanistan & Asia        & 1992        & 41.674      & 16317921    & 649.3414    & 10.595902  \\\\\n",
       "\t Afghanistan & Asia        & 1997        & 41.763      & 22227415    & 635.3414    & 14.121996  \\\\\n",
       "\\end{tabular}\n"
      ],
      "text/markdown": [
       "\n",
       "country | continent | year | lifeExp | pop | gdpPercap | gdp_billion | \n",
       "|---|---|---|---|---|---|---|---|---|---|\n",
       "| Afghanistan | Asia        | 1952        | 28.801      |  8425333    | 779.4453    |  6.567086   | \n",
       "| Afghanistan | Asia        | 1957        | 30.332      |  9240934    | 820.8530    |  7.585449   | \n",
       "| Afghanistan | Asia        | 1962        | 31.997      | 10267083    | 853.1007    |  8.758856   | \n",
       "| Afghanistan | Asia        | 1967        | 34.020      | 11537966    | 836.1971    |  9.648014   | \n",
       "| Afghanistan | Asia        | 1972        | 36.088      | 13079460    | 739.9811    |  9.678553   | \n",
       "| Afghanistan | Asia        | 1977        | 38.438      | 14880372    | 786.1134    | 11.697659   | \n",
       "| Afghanistan | Asia        | 1982        | 39.854      | 12881816    | 978.0114    | 12.598563   | \n",
       "| Afghanistan | Asia        | 1987        | 40.822      | 13867957    | 852.3959    | 11.820990   | \n",
       "| Afghanistan | Asia        | 1992        | 41.674      | 16317921    | 649.3414    | 10.595902   | \n",
       "| Afghanistan | Asia        | 1997        | 41.763      | 22227415    | 635.3414    | 14.121996   | \n",
       "\n",
       "\n"
      ],
      "text/plain": [
       "   country     continent year lifeExp pop      gdpPercap gdp_billion\n",
       "1  Afghanistan Asia      1952 28.801   8425333 779.4453   6.567086  \n",
       "2  Afghanistan Asia      1957 30.332   9240934 820.8530   7.585449  \n",
       "3  Afghanistan Asia      1962 31.997  10267083 853.1007   8.758856  \n",
       "4  Afghanistan Asia      1967 34.020  11537966 836.1971   9.648014  \n",
       "5  Afghanistan Asia      1972 36.088  13079460 739.9811   9.678553  \n",
       "6  Afghanistan Asia      1977 38.438  14880372 786.1134  11.697659  \n",
       "7  Afghanistan Asia      1982 39.854  12881816 978.0114  12.598563  \n",
       "8  Afghanistan Asia      1987 40.822  13867957 852.3959  11.820990  \n",
       "9  Afghanistan Asia      1992 41.674  16317921 649.3414  10.595902  \n",
       "10 Afghanistan Asia      1997 41.763  22227415 635.3414  14.121996  "
      ]
     },
     "metadata": {},
     "output_type": "display_data"
    }
   ],
   "source": [
    "# Use mutate() to calculate GDP in billions\n",
    "gapminder_gdpBil <- gapminder %>% mutate(gdp_billion = gdpPercap * pop / 10^9)\n",
    "\n",
    "head(gapminder_gdpBil, n = 10)"
   ]
  },
  {
   "cell_type": "markdown",
   "metadata": {},
   "source": [
    "### Combine Functions with Pipes\n",
    "We've seen that pipes ( **%>%** ) can be used to send an object such as a data frame into a function, such as `select()`, or `filter()`. But they can also be used to send the output of one function into another function. This allows us to chain together multiple commmands, without the need for intermediate variables.\n",
    "\n",
    "Let's take a look at this in an example. "
   ]
  },
  {
   "cell_type": "code",
   "execution_count": 27,
   "metadata": {},
   "outputs": [
    {
     "data": {
      "text/html": [
       "<table>\n",
       "<thead><tr><th scope=col>country</th><th scope=col>year</th><th scope=col>lifeExp</th><th scope=col>pop</th><th scope=col>gdpPercap</th></tr></thead>\n",
       "<tbody>\n",
       "\t<tr><td>Canada  </td><td>1952    </td><td>68.75   </td><td>14785584</td><td>11367.16</td></tr>\n",
       "\t<tr><td>Canada  </td><td>1957    </td><td>69.96   </td><td>17010154</td><td>12489.95</td></tr>\n",
       "\t<tr><td>Canada  </td><td>1962    </td><td>71.30   </td><td>18985849</td><td>13462.49</td></tr>\n",
       "\t<tr><td>Canada  </td><td>1967    </td><td>72.13   </td><td>20819767</td><td>16076.59</td></tr>\n",
       "\t<tr><td>Canada  </td><td>1972    </td><td>72.88   </td><td>22284500</td><td>18970.57</td></tr>\n",
       "\t<tr><td>Canada  </td><td>1977    </td><td>74.21   </td><td>23796400</td><td>22090.88</td></tr>\n",
       "\t<tr><td>Canada  </td><td>1982    </td><td>75.76   </td><td>25201900</td><td>22898.79</td></tr>\n",
       "\t<tr><td>Canada  </td><td>1987    </td><td>76.86   </td><td>26549700</td><td>26626.52</td></tr>\n",
       "\t<tr><td>Canada  </td><td>1992    </td><td>77.95   </td><td>28523502</td><td>26342.88</td></tr>\n",
       "\t<tr><td>Canada  </td><td>1997    </td><td>78.61   </td><td>30305843</td><td>28954.93</td></tr>\n",
       "</tbody>\n",
       "</table>\n"
      ],
      "text/latex": [
       "\\begin{tabular}{r|lllll}\n",
       " country & year & lifeExp & pop & gdpPercap\\\\\n",
       "\\hline\n",
       "\t Canada   & 1952     & 68.75    & 14785584 & 11367.16\\\\\n",
       "\t Canada   & 1957     & 69.96    & 17010154 & 12489.95\\\\\n",
       "\t Canada   & 1962     & 71.30    & 18985849 & 13462.49\\\\\n",
       "\t Canada   & 1967     & 72.13    & 20819767 & 16076.59\\\\\n",
       "\t Canada   & 1972     & 72.88    & 22284500 & 18970.57\\\\\n",
       "\t Canada   & 1977     & 74.21    & 23796400 & 22090.88\\\\\n",
       "\t Canada   & 1982     & 75.76    & 25201900 & 22898.79\\\\\n",
       "\t Canada   & 1987     & 76.86    & 26549700 & 26626.52\\\\\n",
       "\t Canada   & 1992     & 77.95    & 28523502 & 26342.88\\\\\n",
       "\t Canada   & 1997     & 78.61    & 30305843 & 28954.93\\\\\n",
       "\\end{tabular}\n"
      ],
      "text/markdown": [
       "\n",
       "country | year | lifeExp | pop | gdpPercap | \n",
       "|---|---|---|---|---|---|---|---|---|---|\n",
       "| Canada   | 1952     | 68.75    | 14785584 | 11367.16 | \n",
       "| Canada   | 1957     | 69.96    | 17010154 | 12489.95 | \n",
       "| Canada   | 1962     | 71.30    | 18985849 | 13462.49 | \n",
       "| Canada   | 1967     | 72.13    | 20819767 | 16076.59 | \n",
       "| Canada   | 1972     | 72.88    | 22284500 | 18970.57 | \n",
       "| Canada   | 1977     | 74.21    | 23796400 | 22090.88 | \n",
       "| Canada   | 1982     | 75.76    | 25201900 | 22898.79 | \n",
       "| Canada   | 1987     | 76.86    | 26549700 | 26626.52 | \n",
       "| Canada   | 1992     | 77.95    | 28523502 | 26342.88 | \n",
       "| Canada   | 1997     | 78.61    | 30305843 | 28954.93 | \n",
       "\n",
       "\n"
      ],
      "text/plain": [
       "   country year lifeExp pop      gdpPercap\n",
       "1  Canada  1952 68.75   14785584 11367.16 \n",
       "2  Canada  1957 69.96   17010154 12489.95 \n",
       "3  Canada  1962 71.30   18985849 13462.49 \n",
       "4  Canada  1967 72.13   20819767 16076.59 \n",
       "5  Canada  1972 72.88   22284500 18970.57 \n",
       "6  Canada  1977 74.21   23796400 22090.88 \n",
       "7  Canada  1982 75.76   25201900 22898.79 \n",
       "8  Canada  1987 76.86   26549700 26626.52 \n",
       "9  Canada  1992 77.95   28523502 26342.88 \n",
       "10 Canada  1997 78.61   30305843 28954.93 "
      ]
     },
     "metadata": {},
     "output_type": "display_data"
    }
   ],
   "source": [
    "# select() the five columns, and filter() for Canada\n",
    "gapminder_multi <- gapminder %>% \n",
    "    select(country, year, lifeExp, pop, gdpPercap) %>% \n",
    "    filter(country == \"Canada\")\n",
    "\n",
    "head(gapminder_multi, n = 10)"
   ]
  },
  {
   "cell_type": "markdown",
   "metadata": {},
   "source": [
    "We can further expand on this by incorporating our `mutate()` command from earlier, linking multiple functions into a single command. Be sure to indent (`TAB` key) when moving to a new line after a pipe. "
   ]
  },
  {
   "cell_type": "code",
   "execution_count": 28,
   "metadata": {},
   "outputs": [
    {
     "data": {
      "text/html": [
       "<table>\n",
       "<thead><tr><th scope=col>country</th><th scope=col>year</th><th scope=col>lifeExp</th><th scope=col>pop</th><th scope=col>gdpPercap</th><th scope=col>gdp_billion</th></tr></thead>\n",
       "<tbody>\n",
       "\t<tr><td>Canada  </td><td>1952    </td><td>68.75   </td><td>14785584</td><td>11367.16</td><td>168.0701</td></tr>\n",
       "\t<tr><td>Canada  </td><td>1957    </td><td>69.96   </td><td>17010154</td><td>12489.95</td><td>212.4560</td></tr>\n",
       "\t<tr><td>Canada  </td><td>1962    </td><td>71.30   </td><td>18985849</td><td>13462.49</td><td>255.5967</td></tr>\n",
       "\t<tr><td>Canada  </td><td>1967    </td><td>72.13   </td><td>20819767</td><td>16076.59</td><td>334.7108</td></tr>\n",
       "\t<tr><td>Canada  </td><td>1972    </td><td>72.88   </td><td>22284500</td><td>18970.57</td><td>422.7497</td></tr>\n",
       "\t<tr><td>Canada  </td><td>1977    </td><td>74.21   </td><td>23796400</td><td>22090.88</td><td>525.6835</td></tr>\n",
       "\t<tr><td>Canada  </td><td>1982    </td><td>75.76   </td><td>25201900</td><td>22898.79</td><td>577.0931</td></tr>\n",
       "\t<tr><td>Canada  </td><td>1987    </td><td>76.86   </td><td>26549700</td><td>26626.52</td><td>706.9260</td></tr>\n",
       "\t<tr><td>Canada  </td><td>1992    </td><td>77.95   </td><td>28523502</td><td>26342.88</td><td>751.3913</td></tr>\n",
       "\t<tr><td>Canada  </td><td>1997    </td><td>78.61   </td><td>30305843</td><td>28954.93</td><td>877.5034</td></tr>\n",
       "</tbody>\n",
       "</table>\n"
      ],
      "text/latex": [
       "\\begin{tabular}{r|llllll}\n",
       " country & year & lifeExp & pop & gdpPercap & gdp\\_billion\\\\\n",
       "\\hline\n",
       "\t Canada   & 1952     & 68.75    & 14785584 & 11367.16 & 168.0701\\\\\n",
       "\t Canada   & 1957     & 69.96    & 17010154 & 12489.95 & 212.4560\\\\\n",
       "\t Canada   & 1962     & 71.30    & 18985849 & 13462.49 & 255.5967\\\\\n",
       "\t Canada   & 1967     & 72.13    & 20819767 & 16076.59 & 334.7108\\\\\n",
       "\t Canada   & 1972     & 72.88    & 22284500 & 18970.57 & 422.7497\\\\\n",
       "\t Canada   & 1977     & 74.21    & 23796400 & 22090.88 & 525.6835\\\\\n",
       "\t Canada   & 1982     & 75.76    & 25201900 & 22898.79 & 577.0931\\\\\n",
       "\t Canada   & 1987     & 76.86    & 26549700 & 26626.52 & 706.9260\\\\\n",
       "\t Canada   & 1992     & 77.95    & 28523502 & 26342.88 & 751.3913\\\\\n",
       "\t Canada   & 1997     & 78.61    & 30305843 & 28954.93 & 877.5034\\\\\n",
       "\\end{tabular}\n"
      ],
      "text/markdown": [
       "\n",
       "country | year | lifeExp | pop | gdpPercap | gdp_billion | \n",
       "|---|---|---|---|---|---|---|---|---|---|\n",
       "| Canada   | 1952     | 68.75    | 14785584 | 11367.16 | 168.0701 | \n",
       "| Canada   | 1957     | 69.96    | 17010154 | 12489.95 | 212.4560 | \n",
       "| Canada   | 1962     | 71.30    | 18985849 | 13462.49 | 255.5967 | \n",
       "| Canada   | 1967     | 72.13    | 20819767 | 16076.59 | 334.7108 | \n",
       "| Canada   | 1972     | 72.88    | 22284500 | 18970.57 | 422.7497 | \n",
       "| Canada   | 1977     | 74.21    | 23796400 | 22090.88 | 525.6835 | \n",
       "| Canada   | 1982     | 75.76    | 25201900 | 22898.79 | 577.0931 | \n",
       "| Canada   | 1987     | 76.86    | 26549700 | 26626.52 | 706.9260 | \n",
       "| Canada   | 1992     | 77.95    | 28523502 | 26342.88 | 751.3913 | \n",
       "| Canada   | 1997     | 78.61    | 30305843 | 28954.93 | 877.5034 | \n",
       "\n",
       "\n"
      ],
      "text/plain": [
       "   country year lifeExp pop      gdpPercap gdp_billion\n",
       "1  Canada  1952 68.75   14785584 11367.16  168.0701   \n",
       "2  Canada  1957 69.96   17010154 12489.95  212.4560   \n",
       "3  Canada  1962 71.30   18985849 13462.49  255.5967   \n",
       "4  Canada  1967 72.13   20819767 16076.59  334.7108   \n",
       "5  Canada  1972 72.88   22284500 18970.57  422.7497   \n",
       "6  Canada  1977 74.21   23796400 22090.88  525.6835   \n",
       "7  Canada  1982 75.76   25201900 22898.79  577.0931   \n",
       "8  Canada  1987 76.86   26549700 26626.52  706.9260   \n",
       "9  Canada  1992 77.95   28523502 26342.88  751.3913   \n",
       "10 Canada  1997 78.61   30305843 28954.93  877.5034   "
      ]
     },
     "metadata": {},
     "output_type": "display_data"
    }
   ],
   "source": [
    "# select() the four columns, filter() for Canada, and calculate GDP in billions\n",
    "gapminder_multi_2 <- gapminder %>% \n",
    "    select(country, year, lifeExp, pop, gdpPercap) %>% \n",
    "    filter(country == \"Canada\") %>% \n",
    "    mutate(gdp_billion = gdpPercap * pop / 10^9)\n",
    "\n",
    "head(gapminder_multi_2, n = 10)"
   ]
  },
  {
   "cell_type": "markdown",
   "metadata": {},
   "source": [
    "### group_by() and summarise()\n",
    "\n",
    "These functions allow us to work on our data in specific groups. For example, we can use `group_by()` to group observations by country, then calculate the average life expectancy for each country. \n",
    "\n",
    "![](https://swcarpentry.github.io/r-novice-gapminder/fig/13-dplyr-fig3.png)\n"
   ]
  },
  {
   "cell_type": "code",
   "execution_count": 29,
   "metadata": {},
   "outputs": [
    {
     "data": {
      "text/html": [
       "<table>\n",
       "<thead><tr><th scope=col>country</th><th scope=col>mean(lifeExp)</th></tr></thead>\n",
       "<tbody>\n",
       "\t<tr><td>Afghanistan</td><td>37.47883   </td></tr>\n",
       "\t<tr><td>Albania    </td><td>68.43292   </td></tr>\n",
       "\t<tr><td>Algeria    </td><td>59.03017   </td></tr>\n",
       "\t<tr><td>Angola     </td><td>37.88350   </td></tr>\n",
       "\t<tr><td>Argentina  </td><td>69.06042   </td></tr>\n",
       "\t<tr><td>Australia  </td><td>74.66292   </td></tr>\n",
       "\t<tr><td>Austria    </td><td>73.10325   </td></tr>\n",
       "\t<tr><td>Bahrain    </td><td>65.60567   </td></tr>\n",
       "\t<tr><td>Bangladesh </td><td>49.83408   </td></tr>\n",
       "\t<tr><td>Belgium    </td><td>73.64175   </td></tr>\n",
       "</tbody>\n",
       "</table>\n"
      ],
      "text/latex": [
       "\\begin{tabular}{r|ll}\n",
       " country & mean(lifeExp)\\\\\n",
       "\\hline\n",
       "\t Afghanistan & 37.47883   \\\\\n",
       "\t Albania     & 68.43292   \\\\\n",
       "\t Algeria     & 59.03017   \\\\\n",
       "\t Angola      & 37.88350   \\\\\n",
       "\t Argentina   & 69.06042   \\\\\n",
       "\t Australia   & 74.66292   \\\\\n",
       "\t Austria     & 73.10325   \\\\\n",
       "\t Bahrain     & 65.60567   \\\\\n",
       "\t Bangladesh  & 49.83408   \\\\\n",
       "\t Belgium     & 73.64175   \\\\\n",
       "\\end{tabular}\n"
      ],
      "text/markdown": [
       "\n",
       "country | mean(lifeExp) | \n",
       "|---|---|---|---|---|---|---|---|---|---|\n",
       "| Afghanistan | 37.47883    | \n",
       "| Albania     | 68.43292    | \n",
       "| Algeria     | 59.03017    | \n",
       "| Angola      | 37.88350    | \n",
       "| Argentina   | 69.06042    | \n",
       "| Australia   | 74.66292    | \n",
       "| Austria     | 73.10325    | \n",
       "| Bahrain     | 65.60567    | \n",
       "| Bangladesh  | 49.83408    | \n",
       "| Belgium     | 73.64175    | \n",
       "\n",
       "\n"
      ],
      "text/plain": [
       "   country     mean(lifeExp)\n",
       "1  Afghanistan 37.47883     \n",
       "2  Albania     68.43292     \n",
       "3  Algeria     59.03017     \n",
       "4  Angola      37.88350     \n",
       "5  Argentina   69.06042     \n",
       "6  Australia   74.66292     \n",
       "7  Austria     73.10325     \n",
       "8  Bahrain     65.60567     \n",
       "9  Bangladesh  49.83408     \n",
       "10 Belgium     73.64175     "
      ]
     },
     "metadata": {},
     "output_type": "display_data"
    }
   ],
   "source": [
    "# group_by() country, calculate average life expectancy\n",
    "gapminder_grp <- gapminder %>% \n",
    "group_by(country) %>% \n",
    "summarise(mean(lifeExp))\n",
    "\n",
    "head(gapminder_grp, n = 10)"
   ]
  },
  {
   "cell_type": "markdown",
   "metadata": {},
   "source": [
    "Let's do another example, again grouping by country. This time, we'll calculate the mean and standard deviation of the GDP per capita. We'll also specify the column names inside of the `summarise()` command."
   ]
  },
  {
   "cell_type": "code",
   "execution_count": 30,
   "metadata": {},
   "outputs": [
    {
     "data": {
      "text/html": [
       "<table>\n",
       "<thead><tr><th scope=col>country</th><th scope=col>mean_gdp</th><th scope=col>sd_gdp</th></tr></thead>\n",
       "<tbody>\n",
       "\t<tr><td>Afghanistan</td><td>  802.6746 </td><td> 108.2029  </td></tr>\n",
       "\t<tr><td>Albania    </td><td> 3255.3666 </td><td>1192.3515  </td></tr>\n",
       "\t<tr><td>Algeria    </td><td> 4426.0260 </td><td>1310.3377  </td></tr>\n",
       "\t<tr><td>Angola     </td><td> 3607.1005 </td><td>1165.9003  </td></tr>\n",
       "\t<tr><td>Argentina  </td><td> 8955.5538 </td><td>1862.5832  </td></tr>\n",
       "\t<tr><td>Australia  </td><td>19980.5956 </td><td>7815.4052  </td></tr>\n",
       "\t<tr><td>Austria    </td><td>20411.9163 </td><td>9655.2815  </td></tr>\n",
       "\t<tr><td>Bahrain    </td><td>18077.6639 </td><td>5415.4134  </td></tr>\n",
       "\t<tr><td>Bangladesh </td><td>  817.5588 </td><td> 235.0796  </td></tr>\n",
       "\t<tr><td>Belgium    </td><td>19900.7581 </td><td>8391.1863  </td></tr>\n",
       "</tbody>\n",
       "</table>\n"
      ],
      "text/latex": [
       "\\begin{tabular}{r|lll}\n",
       " country & mean\\_gdp & sd\\_gdp\\\\\n",
       "\\hline\n",
       "\t Afghanistan &   802.6746  &  108.2029  \\\\\n",
       "\t Albania     &  3255.3666  & 1192.3515  \\\\\n",
       "\t Algeria     &  4426.0260  & 1310.3377  \\\\\n",
       "\t Angola      &  3607.1005  & 1165.9003  \\\\\n",
       "\t Argentina   &  8955.5538  & 1862.5832  \\\\\n",
       "\t Australia   & 19980.5956  & 7815.4052  \\\\\n",
       "\t Austria     & 20411.9163  & 9655.2815  \\\\\n",
       "\t Bahrain     & 18077.6639  & 5415.4134  \\\\\n",
       "\t Bangladesh  &   817.5588  &  235.0796  \\\\\n",
       "\t Belgium     & 19900.7581  & 8391.1863  \\\\\n",
       "\\end{tabular}\n"
      ],
      "text/markdown": [
       "\n",
       "country | mean_gdp | sd_gdp | \n",
       "|---|---|---|---|---|---|---|---|---|---|\n",
       "| Afghanistan |   802.6746  |  108.2029   | \n",
       "| Albania     |  3255.3666  | 1192.3515   | \n",
       "| Algeria     |  4426.0260  | 1310.3377   | \n",
       "| Angola      |  3607.1005  | 1165.9003   | \n",
       "| Argentina   |  8955.5538  | 1862.5832   | \n",
       "| Australia   | 19980.5956  | 7815.4052   | \n",
       "| Austria     | 20411.9163  | 9655.2815   | \n",
       "| Bahrain     | 18077.6639  | 5415.4134   | \n",
       "| Bangladesh  |   817.5588  |  235.0796   | \n",
       "| Belgium     | 19900.7581  | 8391.1863   | \n",
       "\n",
       "\n"
      ],
      "text/plain": [
       "   country     mean_gdp   sd_gdp   \n",
       "1  Afghanistan   802.6746  108.2029\n",
       "2  Albania      3255.3666 1192.3515\n",
       "3  Algeria      4426.0260 1310.3377\n",
       "4  Angola       3607.1005 1165.9003\n",
       "5  Argentina    8955.5538 1862.5832\n",
       "6  Australia   19980.5956 7815.4052\n",
       "7  Austria     20411.9163 9655.2815\n",
       "8  Bahrain     18077.6639 5415.4134\n",
       "9  Bangladesh    817.5588  235.0796\n",
       "10 Belgium     19900.7581 8391.1863"
      ]
     },
     "metadata": {},
     "output_type": "display_data"
    }
   ],
   "source": [
    "gapminder_mean_sd <- gapminder %>% \n",
    "    group_by(country) %>% \n",
    "    summarise(mean_gdp = mean(gdpPercap), sd_gdp = sd(gdpPercap))\n",
    "\n",
    "head(gapminder_mean_sd, n = 10)"
   ]
  },
  {
   "cell_type": "markdown",
   "metadata": {},
   "source": [
    "### Tying it all Together\n",
    "\n",
    "Now let's use all the commands we've covered and combine them with pipes into a single statement. \n",
    "\n",
    "Let's say we want calculate the mean and SD of the GDP (in billions) for each country, but only considering data from 1980 and onwards. We can accomplish this all in one step as follows. "
   ]
  },
  {
   "cell_type": "code",
   "execution_count": 31,
   "metadata": {},
   "outputs": [
    {
     "data": {
      "text/html": [
       "<table>\n",
       "<thead><tr><th scope=col>country</th><th scope=col>mean_gdpBillion</th><th scope=col>sd_gdpBillion</th></tr></thead>\n",
       "<tbody>\n",
       "\t<tr><td>Afghanistan</td><td> 16.43003  </td><td>  7.663241 </td></tr>\n",
       "\t<tr><td>Albania    </td><td> 13.06277  </td><td>  4.837832 </td></tr>\n",
       "\t<tr><td>Algeria    </td><td>148.61314  </td><td> 33.154735 </td></tr>\n",
       "\t<tr><td>Angola     </td><td> 28.94037  </td><td> 15.531401 </td></tr>\n",
       "\t<tr><td>Argentina  </td><td>353.07170  </td><td> 91.455210 </td></tr>\n",
       "\t<tr><td>Australia  </td><td>477.63932  </td><td>154.360112 </td></tr>\n",
       "\t<tr><td>Austria    </td><td>225.38878  </td><td> 50.320096 </td></tr>\n",
       "\t<tr><td>Bahrain    </td><td> 12.39705  </td><td>  5.145348 </td></tr>\n",
       "\t<tr><td>Bangladesh </td><td>119.95490  </td><td> 54.341250 </td></tr>\n",
       "\t<tr><td>Belgium    </td><td>271.94451  </td><td> 54.647537 </td></tr>\n",
       "</tbody>\n",
       "</table>\n"
      ],
      "text/latex": [
       "\\begin{tabular}{r|lll}\n",
       " country & mean\\_gdpBillion & sd\\_gdpBillion\\\\\n",
       "\\hline\n",
       "\t Afghanistan &  16.43003   &   7.663241 \\\\\n",
       "\t Albania     &  13.06277   &   4.837832 \\\\\n",
       "\t Algeria     & 148.61314   &  33.154735 \\\\\n",
       "\t Angola      &  28.94037   &  15.531401 \\\\\n",
       "\t Argentina   & 353.07170   &  91.455210 \\\\\n",
       "\t Australia   & 477.63932   & 154.360112 \\\\\n",
       "\t Austria     & 225.38878   &  50.320096 \\\\\n",
       "\t Bahrain     &  12.39705   &   5.145348 \\\\\n",
       "\t Bangladesh  & 119.95490   &  54.341250 \\\\\n",
       "\t Belgium     & 271.94451   &  54.647537 \\\\\n",
       "\\end{tabular}\n"
      ],
      "text/markdown": [
       "\n",
       "country | mean_gdpBillion | sd_gdpBillion | \n",
       "|---|---|---|---|---|---|---|---|---|---|\n",
       "| Afghanistan |  16.43003   |   7.663241  | \n",
       "| Albania     |  13.06277   |   4.837832  | \n",
       "| Algeria     | 148.61314   |  33.154735  | \n",
       "| Angola      |  28.94037   |  15.531401  | \n",
       "| Argentina   | 353.07170   |  91.455210  | \n",
       "| Australia   | 477.63932   | 154.360112  | \n",
       "| Austria     | 225.38878   |  50.320096  | \n",
       "| Bahrain     |  12.39705   |   5.145348  | \n",
       "| Bangladesh  | 119.95490   |  54.341250  | \n",
       "| Belgium     | 271.94451   |  54.647537  | \n",
       "\n",
       "\n"
      ],
      "text/plain": [
       "   country     mean_gdpBillion sd_gdpBillion\n",
       "1  Afghanistan  16.43003         7.663241   \n",
       "2  Albania      13.06277         4.837832   \n",
       "3  Algeria     148.61314        33.154735   \n",
       "4  Angola       28.94037        15.531401   \n",
       "5  Argentina   353.07170        91.455210   \n",
       "6  Australia   477.63932       154.360112   \n",
       "7  Austria     225.38878        50.320096   \n",
       "8  Bahrain      12.39705         5.145348   \n",
       "9  Bangladesh  119.95490        54.341250   \n",
       "10 Belgium     271.94451        54.647537   "
      ]
     },
     "metadata": {},
     "output_type": "display_data"
    }
   ],
   "source": [
    "# select() columns, filter() by year, calculate GDP in billions, mean() and sd() of GDP in billions\n",
    "gapminder_final <- gapminder %>% \n",
    "    select(country, year, pop, gdpPercap) %>% \n",
    "    filter(year >= 1980) %>% \n",
    "    mutate(gdp_billion = gdpPercap * pop / 10^9) %>% \n",
    "    group_by(country) %>% \n",
    "    summarise(mean_gdpBillion = mean(gdp_billion), sd_gdpBillion = sd(gdp_billion))\n",
    "\n",
    "head(gapminder_final, n = 10)"
   ]
  }
 ],
 "metadata": {
  "kernelspec": {
   "display_name": "R",
   "language": "R",
   "name": "ir"
  },
  "language_info": {
   "codemirror_mode": "r",
   "file_extension": ".r",
   "mimetype": "text/x-r-source",
   "name": "R",
   "pygments_lexer": "r",
   "version": "3.5.1"
  }
 },
 "nbformat": 4,
 "nbformat_minor": 2
}
