{
 "cells": [
  {
   "cell_type": "markdown",
   "metadata": {},
   "source": [
    "# Dataframe manipulation with tidyr\n"
   ]
  },
  {
   "cell_type": "markdown",
   "metadata": {},
   "source": [
    "Researchers often want to manipulate their data from the ‘wide’ to the ‘long’ format, or vice-versa. The ‘long’ format is where:\n",
    "\n",
    "- each column is a variable\n",
    "- each row is an observation\n",
    "\n",
    "In the ‘long’ format, you usually have 1 column for the observed variable and the other columns are ID variables.\n",
    "\n",
    "For the ‘wide’ format, each row is often a site/subject/patient and you have multiple observation variables containing the same type of data. These can be either repeated observations over time, or observation of multiple variables (or both). Many (but not all!) of R’s functions have been designed assuming you have ‘long’ format data. **This tutorial will help you efficiently transform your data regardless of original format.**\n",
    "\n",
    "For humans, format affects readability. Wide format is often more intuitive since we can see more of the data on the screen. Long format is more machine readable and is closer to the formatting of databases. The ID variables in our dataframes are similar to the fields in a database and observed variables are like the database values."
   ]
  },
  {
   "cell_type": "markdown",
   "metadata": {},
   "source": [
    "![alt text](14-tidyr-fig1.png)"
   ]
  },
  {
   "cell_type": "markdown",
   "metadata": {},
   "source": [
    "## Getting started"
   ]
  },
  {
   "cell_type": "markdown",
   "metadata": {},
   "source": [
    "First install the packages if you haven’t already done so (you probably installed dplyr in the previous lesson); then load the packages."
   ]
  },
  {
   "cell_type": "code",
   "execution_count": null,
   "metadata": {},
   "outputs": [],
   "source": [
    "install.packages(c(\"gapminder\"), repos='http://cran.us.r-project.org')"
   ]
  },
  {
   "cell_type": "code",
   "execution_count": null,
   "metadata": {},
   "outputs": [],
   "source": [
    "#install.packages(\"tidyr\")\n",
    "#install.packages(\"dplyr\")\n",
    "library(\"tidyr\")\n",
    "library(\"dplyr\")"
   ]
  },
  {
   "cell_type": "markdown",
   "metadata": {},
   "source": [
    "First, lets look at the structure of our original gapminder dataframe using str()"
   ]
  },
  {
   "cell_type": "code",
   "execution_count": null,
   "metadata": {},
   "outputs": [],
   "source": [
    "str(gapminder)"
   ]
  },
  {
   "cell_type": "markdown",
   "metadata": {},
   "source": [
    "### Question 1\n",
    "**Is gapminder a purely long, purely wide, or some intermediate format?**  \n",
    "Ans. The original gapminder data.frame is in an intermediate format. It is not purely long since it had multiple observation variables (ex. pop, lifeExp, gdpPercap).\n",
    "\n"
   ]
  },
  {
   "cell_type": "markdown",
   "metadata": {},
   "source": [
    "Sometimes, as with the gapminder dataset, we have multiple types of observed data. It is somewhere in between the purely ‘long’ and ‘wide’ data formats. We have 3 “ID variables” (continent, country, year) and 3 “Observation variables” (pop,lifeExp,gdpPercap). This is often preferred for readability, greater flexibility when analyzing, and units not being the same. \n",
    "\n",
    "While using many of the functions in R you usually do not want to do mathematical operations on values with different units. For example, using the purely long format, a single mean for all of the values of population, life expectancy, and GDP would not be meaningful. The solution would be to restructure your dataframe or use a dplyr function for grouping. "
   ]
  },
  {
   "cell_type": "markdown",
   "metadata": {},
   "source": [
    "## From wide to long format with tidyr::gather()"
   ]
  },
  {
   "cell_type": "markdown",
   "metadata": {},
   "source": [
    "Until now, we’ve been using the nicely formatted original gapminder dataset, but ‘real’ data (i.e. our own research data) will never be so well organized. Here let’s start with the wide format version of the gapminder dataset. \n",
    "\n",
    "**Download the wide version of the gapminder data.**\n",
    "\n",
    "\n",
    "We’ll load the data file and look at it. Note: we don’t want our continent and country columns to be factors, so we use the stringsAsFactors argument for read.csv() to disable that."
   ]
  },
  {
   "cell_type": "code",
   "execution_count": null,
   "metadata": {},
   "outputs": [],
   "source": [
    "gap_wide <- read.csv(\"data/gapminder_wide.csv\", stringsAsFactors = FALSE)\n",
    "str(gap_wide)"
   ]
  },
  {
   "cell_type": "markdown",
   "metadata": {},
   "source": [
    "![alt text](14-tidyr-fig2.png)"
   ]
  },
  {
   "cell_type": "markdown",
   "metadata": {},
   "source": [
    "The first step towards getting our nice intermediate data format is to convert from the wide to the long format. The tidyr function gather() will ‘gather’ your observation variables into a single variable.\n",
    "\n"
   ]
  },
  {
   "cell_type": "markdown",
   "metadata": {},
   "source": [
    "![alt text](14-tidyr-fig3.png)"
   ]
  },
  {
   "cell_type": "code",
   "execution_count": null,
   "metadata": {},
   "outputs": [],
   "source": [
    "gap_long <- gap_wide %>%\n",
    "    gather(obstype_year, obs_values, starts_with('pop'),\n",
    "           starts_with('lifeExp'), starts_with('gdpPercap'))\n",
    "str(gap_long)"
   ]
  },
  {
   "cell_type": "markdown",
   "metadata": {},
   "source": [
    "Here we have used piping syntax which is similar to what we were doing in the previous lesson with dplyr. In fact, these are compatible and you can use a mix of tidyr and dplyr functions by piping them together.\n",
    "\n",
    "Inside gather() we first name the new column for the new ID variable (obstype_year), the name for the new amalgamated observation variable (obs_value), then the names of the old observation variable. We could have typed out all the observation variables, but as in the select() function (see dplyr lesson), we can use the starts_with() argument to select all variables that starts with the desired character string. Gather also allows the alternative syntax of using the - symbol to identify which variables are not to be gathered (i.e. ID variables)"
   ]
  },
  {
   "cell_type": "markdown",
   "metadata": {},
   "source": [
    "![alt text](14-tidyr-fig4.png)"
   ]
  },
  {
   "cell_type": "code",
   "execution_count": null,
   "metadata": {},
   "outputs": [],
   "source": [
    "gap_long <- gap_wide %>% gather(obstype_year,obs_values,-continent,-country)\n",
    "str(gap_long)"
   ]
  },
  {
   "cell_type": "markdown",
   "metadata": {},
   "source": [
    "That may seem trivial with this particular dataframe, but sometimes you have 1 ID variable and 40 Observation variables with irregular variables names. The flexibility is a huge time saver!\n",
    "\n",
    "Now obstype_year actually contains 2 pieces of information, the observation type (pop,lifeExp, or gdpPercap) and the year. We can use the separate() function to split the character strings into multiple variables"
   ]
  },
  {
   "cell_type": "code",
   "execution_count": null,
   "metadata": {},
   "outputs": [],
   "source": [
    "gap_long <- gap_long %>% separate(obstype_year,into=c('obs_type','year'),sep=\"_\")\n",
    "gap_long$year <- as.integer(gap_long$year)"
   ]
  },
  {
   "cell_type": "markdown",
   "metadata": {},
   "source": [
    "### Question 2\n",
    "**Using gap_long, calculate the mean life expectancy, population, and gdpPercap for each continent. Hint: use the group_by() and summarize() functions we learned in the dplyr lesson.**  \n",
    "gap_long %>% group_by(continent,obs_type) %>%\n",
    "   summarize(means=mean(obs_values))"
   ]
  },
  {
   "cell_type": "markdown",
   "metadata": {},
   "source": [
    "## From long to intermediate format with tidyr::spread()\n"
   ]
  },
  {
   "cell_type": "markdown",
   "metadata": {},
   "source": [
    "Now let’s use the opposite of gather(), to spread our observation variables back out with the aptly named spread(). We can then spread our gap_long() to the original intermediate format or the widest format. Let’s start with the intermediate format."
   ]
  },
  {
   "cell_type": "code",
   "execution_count": 1,
   "metadata": {},
   "outputs": [
    {
     "ename": "ERROR",
     "evalue": "Error in gap_long %>% spread(obs_type, obs_values): could not find function \"%>%\"\n",
     "output_type": "error",
     "traceback": [
      "Error in gap_long %>% spread(obs_type, obs_values): could not find function \"%>%\"\nTraceback:\n"
     ]
    }
   ],
   "source": [
    "gap_normal <- gap_long %>% spread(obs_type,obs_values)\n",
    "dim(gap_normal)\n",
    "dim(gapminder)"
   ]
  },
  {
   "cell_type": "code",
   "execution_count": 2,
   "metadata": {},
   "outputs": [
    {
     "ename": "ERROR",
     "evalue": "Error in eval(expr, envir, enclos): object 'gap_normal' not found\n",
     "output_type": "error",
     "traceback": [
      "Error in eval(expr, envir, enclos): object 'gap_normal' not found\nTraceback:\n"
     ]
    }
   ],
   "source": [
    "names(gap_normal)\n",
    "names(gapminder)"
   ]
  },
  {
   "cell_type": "markdown",
   "metadata": {},
   "source": [
    "Now we’ve got an intermediate dataframe gap_normal with the same dimensions as the original gapminder, but the order of the variables is different. Let’s fix that before checking if they are all.equal()."
   ]
  },
  {
   "cell_type": "code",
   "execution_count": null,
   "metadata": {},
   "outputs": [],
   "source": [
    "gap_normal <- gap_normal[,names(gapminder)]\n",
    "all.equal(gap_normal,gapminder)"
   ]
  },
  {
   "cell_type": "code",
   "execution_count": null,
   "metadata": {},
   "outputs": [],
   "source": [
    "head(gap_normal)\n",
    "head(gapminder)"
   ]
  },
  {
   "cell_type": "markdown",
   "metadata": {},
   "source": [
    "We’re almost there, the original was sorted by country, continent, then year."
   ]
  },
  {
   "cell_type": "code",
   "execution_count": null,
   "metadata": {},
   "outputs": [],
   "source": [
    "gap_normal <- gap_normal %>% arrange(country,continent,year)\n",
    "all.equal(gap_normal,gapminder)"
   ]
  },
  {
   "cell_type": "markdown",
   "metadata": {},
   "source": [
    "That’s great! We’ve gone from the longest format back to the intermediate and we didn’t introduce any errors in our code.\n",
    "\n",
    "Now lets convert the long all the way back to the wide. In the wide format, we will keep country and continent as ID variables and spread the observations across the 3 metrics (pop,lifeExp,gdpPercap) and time (year). First we need to create appropriate labels for all our new variables (time * metric combinations) and we also need to unify our ID variables to simplify the process of defining gap_wide"
   ]
  },
  {
   "cell_type": "code",
   "execution_count": null,
   "metadata": {},
   "outputs": [],
   "source": [
    "gap_temp <- gap_long %>% unite(var_ID,continent,country,sep=\"_\")\n",
    "str(gap_temp)"
   ]
  },
  {
   "cell_type": "code",
   "execution_count": null,
   "metadata": {},
   "outputs": [],
   "source": [
    "gap_temp <- gap_long %>%\n",
    "    unite(ID_var,continent,country,sep=\"_\") %>%\n",
    "    unite(var_names,obs_type,year,sep=\"_\")\n",
    "str(gap_temp)"
   ]
  },
  {
   "cell_type": "markdown",
   "metadata": {},
   "source": [
    "Using unite() we now have a single ID variable which is a combination of continent,country,and we have defined variable names. We’re now ready to pipe in spread()."
   ]
  },
  {
   "cell_type": "code",
   "execution_count": null,
   "metadata": {},
   "outputs": [],
   "source": [
    "gap_wide_new <- gap_long %>%\n",
    "    unite(ID_var,continent,country,sep=\"_\") %>%\n",
    "    unite(var_names,obs_type,year,sep=\"_\") %>%\n",
    "    spread(var_names,obs_values)\n",
    "str(gap_wide_new)"
   ]
  },
  {
   "cell_type": "markdown",
   "metadata": {},
   "source": [
    "### Question 3\n",
    "**Take this 1 step further and create a gap_ludicrously_wide format data by spreading over countries, year and the 3 metrics? Hint this new dataframe should only have 5 rows.** \n",
    "gap_ludicrously_wide <- gap_long %>%\n",
    "   unite(var_names,obs_type,year,country,sep=\"_\") %>%\n",
    "   spread(var_names,obs_values)"
   ]
  },
  {
   "cell_type": "markdown",
   "metadata": {},
   "source": [
    "Now we have a great ‘wide’ format dataframe, but the ID_var could be more usable, let’s separate it into 2 variables with separate()."
   ]
  },
  {
   "cell_type": "code",
   "execution_count": null,
   "metadata": {},
   "outputs": [],
   "source": [
    "gap_wide_betterID <- separate(gap_wide_new,ID_var,c(\"continent\",\"country\"),sep=\"_\")\n",
    "gap_wide_betterID <- gap_long %>%\n",
    "    unite(ID_var, continent,country,sep=\"_\") %>%\n",
    "    unite(var_names, obs_type,year,sep=\"_\") %>%\n",
    "    spread(var_names, obs_values) %>%\n",
    "    separate(ID_var, c(\"continent\",\"country\"),sep=\"_\")\n",
    "str(gap_wide_betterID)"
   ]
  },
  {
   "cell_type": "code",
   "execution_count": null,
   "metadata": {},
   "outputs": [],
   "source": [
    "all.equal(gap_wide, gap_wide_betterID)"
   ]
  },
  {
   "cell_type": "markdown",
   "metadata": {},
   "source": [
    "## Key Points"
   ]
  },
  {
   "cell_type": "markdown",
   "metadata": {},
   "source": [
    "Use the **tidyr** package to change the layout of dataframes.  \n",
    "Use **gather()** to go from wide to long format.  \n",
    "Use **spread()** to go from long to wide format."
   ]
  }
 ],
 "metadata": {
  "kernelspec": {
   "display_name": "R",
   "language": "R",
   "name": "ir"
  },
  "language_info": {
   "codemirror_mode": "r",
   "file_extension": ".r",
   "mimetype": "text/x-r-source",
   "name": "R",
   "pygments_lexer": "r",
   "version": "3.5.1"
  }
 },
 "nbformat": 4,
 "nbformat_minor": 2
}
