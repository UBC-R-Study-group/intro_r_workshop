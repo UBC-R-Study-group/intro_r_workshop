{
 "cells": [
  {
   "cell_type": "markdown",
   "metadata": {},
   "source": [
    "## Intro to `dplyr()`\n",
    "\n",
    "This lesson will cover some basic functions that can be used to manipulate data in R.\n",
    "Again, we will be using the gapminder data set, which includes country information on GDP, population, etc.\n",
    "\n",
    "This material is based on a Software Carpentry lesson, available on their [website](http://swcarpentry.github.io/r-novice-gapminder/13-dplyr/index.html).\n",
    "\n",
    "There are five main functions we'll be talking about today, each allowing us to manipulate data frames. These five functions are:\n",
    "\n",
    "* `select()`  --  Choose columns (variables or attributes) from our data frame\n",
    "* `filter()`  --  Choose rows (samples or observations) from our data frame\n",
    "* `mutate()`  --  Create new columns, based on existing ones\n",
    "* `group_by()`  --  Group rows based on a particular column/value within that column \n",
    "* `summarize()`  --  Perform some function on the grouped data\n",
    "\n",
    "\n",
    "If you haven't already, make sure you have `dplyr()` and `gapminder()` installed and loaded with the following commands:\n"
   ]
  },
  {
   "cell_type": "code",
   "execution_count": 1,
   "metadata": {},
   "outputs": [
    {
     "name": "stderr",
     "output_type": "stream",
     "text": [
      "\n",
      "Attaching package: ‘dplyr’\n",
      "\n",
      "The following objects are masked from ‘package:stats’:\n",
      "\n",
      "    filter, lag\n",
      "\n",
      "The following objects are masked from ‘package:base’:\n",
      "\n",
      "    intersect, setdiff, setequal, union\n",
      "\n"
     ]
    }
   ],
   "source": [
    "# Download the packages\n",
    "#install.packages(c(\"dplyr\", \"gapminder\"))\n",
    "\n",
    "# Load the packages for use\n",
    "library(dplyr)\n",
    "library(gapminder)"
   ]
  },
  {
   "cell_type": "markdown",
   "metadata": {},
   "source": [
    "Let's take a quick look at our data frame to remind ourselves of its structure. We do this using the `head()` command, which will display the first 10 rows (given by `n = 10`) of our data frame. "
   ]
  },
  {
   "cell_type": "code",
   "execution_count": 2,
   "metadata": {},
   "outputs": [
    {
     "data": {
      "text/html": [
       "<table>\n",
       "<thead><tr><th scope=col>country</th><th scope=col>continent</th><th scope=col>year</th><th scope=col>lifeExp</th><th scope=col>pop</th><th scope=col>gdpPercap</th></tr></thead>\n",
       "<tbody>\n",
       "\t<tr><td>Afghanistan</td><td>Asia       </td><td>1952       </td><td>28.801     </td><td> 8425333   </td><td>779.4453   </td></tr>\n",
       "\t<tr><td>Afghanistan</td><td>Asia       </td><td>1957       </td><td>30.332     </td><td> 9240934   </td><td>820.8530   </td></tr>\n",
       "\t<tr><td>Afghanistan</td><td>Asia       </td><td>1962       </td><td>31.997     </td><td>10267083   </td><td>853.1007   </td></tr>\n",
       "\t<tr><td>Afghanistan</td><td>Asia       </td><td>1967       </td><td>34.020     </td><td>11537966   </td><td>836.1971   </td></tr>\n",
       "\t<tr><td>Afghanistan</td><td>Asia       </td><td>1972       </td><td>36.088     </td><td>13079460   </td><td>739.9811   </td></tr>\n",
       "\t<tr><td>Afghanistan</td><td>Asia       </td><td>1977       </td><td>38.438     </td><td>14880372   </td><td>786.1134   </td></tr>\n",
       "\t<tr><td>Afghanistan</td><td>Asia       </td><td>1982       </td><td>39.854     </td><td>12881816   </td><td>978.0114   </td></tr>\n",
       "\t<tr><td>Afghanistan</td><td>Asia       </td><td>1987       </td><td>40.822     </td><td>13867957   </td><td>852.3959   </td></tr>\n",
       "\t<tr><td>Afghanistan</td><td>Asia       </td><td>1992       </td><td>41.674     </td><td>16317921   </td><td>649.3414   </td></tr>\n",
       "\t<tr><td>Afghanistan</td><td>Asia       </td><td>1997       </td><td>41.763     </td><td>22227415   </td><td>635.3414   </td></tr>\n",
       "</tbody>\n",
       "</table>\n"
      ],
      "text/latex": [
       "\\begin{tabular}{r|llllll}\n",
       " country & continent & year & lifeExp & pop & gdpPercap\\\\\n",
       "\\hline\n",
       "\t Afghanistan & Asia        & 1952        & 28.801      &  8425333    & 779.4453   \\\\\n",
       "\t Afghanistan & Asia        & 1957        & 30.332      &  9240934    & 820.8530   \\\\\n",
       "\t Afghanistan & Asia        & 1962        & 31.997      & 10267083    & 853.1007   \\\\\n",
       "\t Afghanistan & Asia        & 1967        & 34.020      & 11537966    & 836.1971   \\\\\n",
       "\t Afghanistan & Asia        & 1972        & 36.088      & 13079460    & 739.9811   \\\\\n",
       "\t Afghanistan & Asia        & 1977        & 38.438      & 14880372    & 786.1134   \\\\\n",
       "\t Afghanistan & Asia        & 1982        & 39.854      & 12881816    & 978.0114   \\\\\n",
       "\t Afghanistan & Asia        & 1987        & 40.822      & 13867957    & 852.3959   \\\\\n",
       "\t Afghanistan & Asia        & 1992        & 41.674      & 16317921    & 649.3414   \\\\\n",
       "\t Afghanistan & Asia        & 1997        & 41.763      & 22227415    & 635.3414   \\\\\n",
       "\\end{tabular}\n"
      ],
      "text/markdown": [
       "\n",
       "country | continent | year | lifeExp | pop | gdpPercap | \n",
       "|---|---|---|---|---|---|---|---|---|---|\n",
       "| Afghanistan | Asia        | 1952        | 28.801      |  8425333    | 779.4453    | \n",
       "| Afghanistan | Asia        | 1957        | 30.332      |  9240934    | 820.8530    | \n",
       "| Afghanistan | Asia        | 1962        | 31.997      | 10267083    | 853.1007    | \n",
       "| Afghanistan | Asia        | 1967        | 34.020      | 11537966    | 836.1971    | \n",
       "| Afghanistan | Asia        | 1972        | 36.088      | 13079460    | 739.9811    | \n",
       "| Afghanistan | Asia        | 1977        | 38.438      | 14880372    | 786.1134    | \n",
       "| Afghanistan | Asia        | 1982        | 39.854      | 12881816    | 978.0114    | \n",
       "| Afghanistan | Asia        | 1987        | 40.822      | 13867957    | 852.3959    | \n",
       "| Afghanistan | Asia        | 1992        | 41.674      | 16317921    | 649.3414    | \n",
       "| Afghanistan | Asia        | 1997        | 41.763      | 22227415    | 635.3414    | \n",
       "\n",
       "\n"
      ],
      "text/plain": [
       "   country     continent year lifeExp pop      gdpPercap\n",
       "1  Afghanistan Asia      1952 28.801   8425333 779.4453 \n",
       "2  Afghanistan Asia      1957 30.332   9240934 820.8530 \n",
       "3  Afghanistan Asia      1962 31.997  10267083 853.1007 \n",
       "4  Afghanistan Asia      1967 34.020  11537966 836.1971 \n",
       "5  Afghanistan Asia      1972 36.088  13079460 739.9811 \n",
       "6  Afghanistan Asia      1977 38.438  14880372 786.1134 \n",
       "7  Afghanistan Asia      1982 39.854  12881816 978.0114 \n",
       "8  Afghanistan Asia      1987 40.822  13867957 852.3959 \n",
       "9  Afghanistan Asia      1992 41.674  16317921 649.3414 \n",
       "10 Afghanistan Asia      1997 41.763  22227415 635.3414 "
      ]
     },
     "metadata": {},
     "output_type": "display_data"
    }
   ],
   "source": [
    "head(gapminder, n = 10)"
   ]
  },
  {
   "cell_type": "markdown",
   "metadata": {},
   "source": [
    "### Choose Columns: select()\n",
    "\n",
    "The first function we'll be using is `select()`. This function let's us pick columns from our data frame, based on name (e.g. year) or by index (e.g. 3). \n",
    "\n",
    "![](https://swcarpentry.github.io/r-novice-gapminder/fig/13-dplyr-fig1.png)\n",
    "\n",
    "Let's try using `select()` to pick out a few columns: \"country\", \"year\", \"lifeExp\", and \"pop\". We'll be assigning these columns to a new data frame, `gapminder_select`. Then we'll use `head()` to see if it worked."
   ]
  },
  {
   "cell_type": "code",
   "execution_count": 3,
   "metadata": {},
   "outputs": [],
   "source": [
    "# select() code here:\n",
    "\n",
    "\n",
    "# Check the data frame:\n"
   ]
  },
  {
   "cell_type": "markdown",
   "metadata": {},
   "source": [
    "As you can see, our new data frame contains only a subset of the columns from the original data frame, based on the names we provided in the `select()` command. \n",
    "\n",
    "***\n",
    "\n",
    "Here we'll also introduce another great feature of `dplyr()`: the pipe (  **%>%** ). This symbol sends or pipes an object (e.g. a data frame like gapminder) INTO a function (e.g. `select()`). \n",
    "So, the above `select()` command can be rewritten as follows (NOTE: the \".\" is a placeholder, which represents the object being piped). Again, we can check our result using `head()`."
   ]
  },
  {
   "cell_type": "code",
   "execution_count": 4,
   "metadata": {},
   "outputs": [],
   "source": [
    "# select() using pipe syntax:\n",
    "\n",
    "\n",
    "# Check the result with head():\n"
   ]
  },
  {
   "cell_type": "markdown",
   "metadata": {},
   "source": [
    "We can actually simplify the above command further - dplyr's functions such as `select()` are smart enough that you don't actually need to include the \".\" placeholder, as shown below."
   ]
  },
  {
   "cell_type": "code",
   "execution_count": 5,
   "metadata": {},
   "outputs": [],
   "source": [
    "# select() using pipe syntax w/out a placeholder:\n",
    "\n",
    "\n",
    "# Check the results:\n"
   ]
  },
  {
   "cell_type": "markdown",
   "metadata": {},
   "source": [
    "#### Challenge 1\n",
    "Using the `select()` command and pipe (` %>% `) notation, pick the following columns from the `gapminder` data frame, assign them to a new variable (we'll use **x**), and display the results using `head(x, n = 10)`. Columns to choose are:\n",
    "\n",
    "* continent\n",
    "* gdpPercap\n",
    "* lifeExp\n",
    "* year"
   ]
  },
  {
   "cell_type": "code",
   "execution_count": 6,
   "metadata": {},
   "outputs": [],
   "source": [
    "# Answer here:\n"
   ]
  },
  {
   "cell_type": "markdown",
   "metadata": {},
   "source": [
    "### Choose Rows: filter()\n",
    "\n",
    "So we've covered selecting columns, but what about rows? This is where `filter()` comes in. This function allows us to choose rows from our data frame using some logical criteria. An example is filtering for rows in which the country is Canada. This can also be applied to numerical values, such as the year being equal to 1967, or life expectancy greater than 30. \n",
    "\n",
    "NOTE: In R, equality (e.g. country is Canada, year is 1967) is done using a double equals sign (`==`).\n",
    "\n",
    "![](https://jules32.github.io/2016-07-12-Oxford/dplyr_tidyr/img/rstudio-cheatsheet-filter.png)\n",
    "\n",
    "Let's go through a couple examples. "
   ]
  },
  {
   "cell_type": "code",
   "execution_count": 7,
   "metadata": {
    "scrolled": true
   },
   "outputs": [],
   "source": [
    "# Filter rows where country is Canada:\n",
    "\n",
    "# Check the result:\n"
   ]
  },
  {
   "cell_type": "markdown",
   "metadata": {},
   "source": [
    "Let's try another one, this time filtering on life expectancy above a certain threshold:"
   ]
  },
  {
   "cell_type": "code",
   "execution_count": 8,
   "metadata": {},
   "outputs": [],
   "source": [
    "# Filter for rows where life expectancy is greater than 50:\n",
    "\n",
    "\n",
    "# Check the result:\n"
   ]
  },
  {
   "cell_type": "markdown",
   "metadata": {},
   "source": [
    "***\n",
    "\n",
    "We can also filter with multiple arguments, each separated by a comma:"
   ]
  },
  {
   "cell_type": "code",
   "execution_count": 9,
   "metadata": {},
   "outputs": [],
   "source": [
    "# filter() for Canada and life expectancy greater than 80:\n",
    "\n",
    "\n",
    "# Check the result:\n"
   ]
  },
  {
   "cell_type": "markdown",
   "metadata": {},
   "source": [
    "*** \n",
    "\n",
    "#### Challenge 2\n",
    "Use `filter()` to choose data for African countries, from the year 1980 and onwards. "
   ]
  },
  {
   "cell_type": "code",
   "execution_count": 10,
   "metadata": {},
   "outputs": [],
   "source": [
    "# Challenge 2 code here:\n",
    "# x <- filter()"
   ]
  },
  {
   "cell_type": "markdown",
   "metadata": {},
   "source": [
    "### Create New Columns: mutate()\n",
    "\n",
    "Let's say we now want to calculate the GDP in billions, which is done by mutiplying the GDP per capita by the population, then dividing by 1 billion (1 * 10^9). `mutate()` will perform this calculation on each row in the data frame, one row at a time (i.e. row-wise). The code below will calculate the GDP in billions:\n",
    "\n",
    "* `gdpPercap * pop / 10^9`\n"
   ]
  },
  {
   "cell_type": "code",
   "execution_count": 11,
   "metadata": {},
   "outputs": [],
   "source": [
    "# Use mutate() to calculate GDP in billions, using formula/code above:\n",
    "\n",
    "\n",
    "# Check the result:\n"
   ]
  },
  {
   "cell_type": "markdown",
   "metadata": {},
   "source": [
    "### Combine Functions with Pipes\n",
    "We've seen that pipes ( **%>%** ) can be used to send an object such as a data frame into a function, such as `select()`, or `filter()`. But they can also be used to send the output of one function into another function. This allows us to chain together multiple commmands, without the need for intermediate variables.\n",
    "\n",
    "Let's take a look at this in an example, selecting country, year, lifeExp pop and gdpPercap columns, and filtering for Canadian entries. "
   ]
  },
  {
   "cell_type": "code",
   "execution_count": 1,
   "metadata": {},
   "outputs": [],
   "source": [
    "# select() the five columns, and filter() for Canada\n",
    "\n",
    "\n",
    "# Check the result\n"
   ]
  },
  {
   "cell_type": "markdown",
   "metadata": {},
   "source": [
    "We can further expand on this by incorporating our `mutate()` command from earlier, linking multiple functions into a single command. Be sure to indent (`TAB` key) when moving to a new line after a pipe. "
   ]
  },
  {
   "cell_type": "code",
   "execution_count": null,
   "metadata": {},
   "outputs": [],
   "source": [
    "# select() the four columns, filter() for Canada, and calculate GDP in billions:\n",
    "\n",
    "\n",
    "# Check the result:\n"
   ]
  },
  {
   "cell_type": "markdown",
   "metadata": {},
   "source": [
    "### group_by() and summarise()\n",
    "\n",
    "These functions allow us to work on our data in specific groups. For example, we can use `group_by()` to group observations by country, then calculate the average life expectancy for each country. \n",
    "\n",
    "![](https://swcarpentry.github.io/r-novice-gapminder/fig/13-dplyr-fig3.png)\n"
   ]
  },
  {
   "cell_type": "code",
   "execution_count": 2,
   "metadata": {},
   "outputs": [],
   "source": [
    "# group_by() country, calculate average life expectancy\n",
    "\n",
    "\n",
    "# Check the results:\n"
   ]
  },
  {
   "cell_type": "markdown",
   "metadata": {},
   "source": [
    "Let's do another example, again grouping by country. This time, we'll calculate the mean and standard deviation of the GDP per capita. We'll also specify the column names inside of the `summarise()` command."
   ]
  },
  {
   "cell_type": "code",
   "execution_count": null,
   "metadata": {},
   "outputs": [],
   "source": [
    "# Use group_by() and summarise to calculate mean and SD of gdpPercap\n",
    "\n",
    "\n",
    "# Check the result:\n"
   ]
  },
  {
   "cell_type": "markdown",
   "metadata": {},
   "source": [
    "### Tying it all Together\n",
    "\n",
    "Now let's use all the commands we've covered and combine them with pipes into a single statement. \n",
    "\n",
    "Let's say we want calculate the mean and SD of the GDP (in billions) for each country, but only considering data from 1980 and onwards. We can accomplish this all in one step as follows. "
   ]
  },
  {
   "cell_type": "code",
   "execution_count": null,
   "metadata": {},
   "outputs": [],
   "source": [
    "# select() columns, filter() by year, calculate GDP in billions, mean() and sd() of GDP in billions\n"
   ]
  }
 ],
 "metadata": {
  "kernelspec": {
   "display_name": "R",
   "language": "R",
   "name": "ir"
  },
  "language_info": {
   "codemirror_mode": "r",
   "file_extension": ".r",
   "mimetype": "text/x-r-source",
   "name": "R",
   "pygments_lexer": "r",
   "version": "3.5.1"
  }
 },
 "nbformat": 4,
 "nbformat_minor": 2
}
