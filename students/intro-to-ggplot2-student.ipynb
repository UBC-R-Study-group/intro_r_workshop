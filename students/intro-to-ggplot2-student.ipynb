{
 "cells": [
  {
   "cell_type": "markdown",
   "metadata": {},
   "source": [
    "# Creating Publication-Quality Graphics with ggplot2\n",
    "\n",
    "> This materials have been taken from the Software Carpentry: R Novice Lesson. You can find the original materials here: https://github.com/swcarpentry/r-novice-gapminder\n",
    "\n",
    "**Objectives**\n",
    "\n",
    "- To be able to use ggplot2 to generate publication quality graphics.\n",
    "\n",
    "- To apply geometry, aesthetic, and statisics layers to a ggplot plot.\n",
    "\n",
    "- To manipulate the aesthetics of a plot usng different colors, shapes, and lines.\n",
    "\n",
    "- To improve data visualization through transforming scales and paneling by group.\n",
    "\n",
    "- To save a plot created with ggplot to disk."
   ]
  },
  {
   "cell_type": "markdown",
   "metadata": {},
   "source": [
    "**Outline**\n",
    "\n",
    "- Introduction to why data visualization?\n",
    "- Introduction to the Grammar of Graphics\n",
    "- Introduction to ggplot2"
   ]
  },
  {
   "cell_type": "markdown",
   "metadata": {},
   "source": [
    "Plotting our data is one of the best ways to\n",
    "quickly explore it and the various relationships\n",
    "between variables.\n",
    "\n",
    "There are three main plotting systems in R,\n",
    "the [base plotting system][base], the [lattice][lattice]\n",
    "package, and the [ggplot2][ggplot2] package.\n",
    "\n",
    "[base]: http://www.statmethods.net/graphs/index.html\n",
    "[lattice]: http://www.statmethods.net/advgraphs/trellis.html\n",
    "[ggplot2]: http://www.statmethods.net/advgraphs/ggplot2.html\n",
    "\n",
    "Today we'll be learning about the ggplot2 package, because\n",
    "it is the most effective for creating publication quality\n",
    "graphics.\n",
    "\n",
    "ggplot2 is built on the grammar of graphics, the idea that any plot can be\n",
    "expressed from the same set of components: a **data** set, a\n",
    "**coordinate system**, and a set of **geoms**--the visual representation of data\n",
    "points.\n",
    "\n",
    "The key to understanding ggplot2 is thinking about a figure in layers.\n",
    "This idea may be familiar to you if you have used image editing programs like Photoshop, Illustrator, or\n",
    "Inkscape.\n",
    "\n",
    "Let's start off with an example:"
   ]
  },
  {
   "cell_type": "code",
   "execution_count": null,
   "metadata": {},
   "outputs": [],
   "source": []
  },
  {
   "cell_type": "markdown",
   "metadata": {},
   "source": [
    "So the first thing we do is call the `ggplot` function. This function lets R\n",
    "know that we're creating a new plot, and any of the arguments we give the\n",
    "`ggplot` function are the *global* options for the plot: they apply to all\n",
    "layers on the plot.\n",
    "\n",
    "We've passed in two arguments to `ggplot`. First, we tell `ggplot` what data we\n",
    "want to show on our figure, in this example the gapminder data we read in\n",
    "earlier. For the second argument we passed in the `aes` function, which\n",
    "tells `ggplot` how variables in the **data** map to *aesthetic* properties of\n",
    "the figure, in this case the **x** and **y** locations. Here we told `ggplot` we\n",
    "want to plot the \"gdpPercap\" column of the gapminder data frame on the x-axis, and\n",
    "the \"lifeExp\" column on the y-axis. Notice that we didn't need to explicitly\n",
    "pass `aes` these columns (e.g. `x = gapminder[, \"gdpPercap\"]`), this is because\n",
    "`ggplot` is smart enough to know to look in the **data** for that column!\n",
    "\n",
    "By itself, the call to `ggplot` isn't enough to draw a figure:"
   ]
  },
  {
   "cell_type": "code",
   "execution_count": null,
   "metadata": {},
   "outputs": [],
   "source": []
  },
  {
   "cell_type": "markdown",
   "metadata": {},
   "source": [
    "We need to tell `ggplot` how we want to visually represent the data, which we do by adding a new **geom** layer. In our example, we used `geom_point`, which tells `ggplot` we want to visually represent the relationship between **x and y** as a scatterplot of points:"
   ]
  },
  {
   "cell_type": "code",
   "execution_count": null,
   "metadata": {},
   "outputs": [],
   "source": []
  },
  {
   "cell_type": "markdown",
   "metadata": {},
   "source": [
    "### Challenge 1\n",
    "Modify the example so that the figure shows how life expectancy has changed over time:\n",
    "\n",
    "```ggplot(data = gapminder, aes(x = gdpPercap, y = lifeExp)) + geom_point()```\n",
    "\n",
    "Hint: the gapminder dataset has a column called “year”, which should appear on the x-axis."
   ]
  },
  {
   "cell_type": "code",
   "execution_count": 7,
   "metadata": {},
   "outputs": [],
   "source": [
    "# Answer to Challenge 1:"
   ]
  },
  {
   "cell_type": "markdown",
   "metadata": {},
   "source": [
    "### Challenge 2\n",
    "In the previous examples and challenge we’ve used the aes function to tell the scatterplot geom about the x and y locations of each point. Another aesthetic property we can modify is the point color. Modify the code from the previous challenge to color the points by the “continent” column.\n",
    "\n",
    "What trends do you see in the data? Are they what you expected?"
   ]
  },
  {
   "cell_type": "code",
   "execution_count": 8,
   "metadata": {},
   "outputs": [],
   "source": [
    "# Answer to Challenge 2"
   ]
  },
  {
   "cell_type": "markdown",
   "metadata": {},
   "source": [
    "## Layers\n",
    "\n",
    "Using a scatterplot probably isn't the best for visualizing change over time.\n",
    "Instead, let's tell `ggplot` to visualize the data as a line plot:"
   ]
  },
  {
   "cell_type": "code",
   "execution_count": null,
   "metadata": {},
   "outputs": [],
   "source": []
  },
  {
   "cell_type": "markdown",
   "metadata": {},
   "source": [
    "Instead of adding a `geom_point` layer, we've added a `geom_line` layer. We've\n",
    "added the **by** *aesthetic*, which tells `ggplot` to draw a line for each\n",
    "country.\n",
    "\n",
    "But what if we want to visualize both lines and points on the plot? We can\n",
    "simply add another layer to the plot:\n"
   ]
  },
  {
   "cell_type": "code",
   "execution_count": null,
   "metadata": {},
   "outputs": [],
   "source": []
  },
  {
   "cell_type": "markdown",
   "metadata": {},
   "source": [
    "It's important to note that each layer is drawn on top of the previous layer. In\n",
    "this example, the points have been drawn *on top of* the lines. Here's a\n",
    "demonstration:"
   ]
  },
  {
   "cell_type": "code",
   "execution_count": null,
   "metadata": {},
   "outputs": [],
   "source": []
  },
  {
   "cell_type": "markdown",
   "metadata": {},
   "source": [
    "In this example, the *aesthetic* mapping of **color** has been moved from the\n",
    "global plot options in `ggplot` to the `geom_line` layer so it no longer applies\n",
    "to the points. Now we can clearly see that the points are drawn on top of the\n",
    "lines."
   ]
  },
  {
   "cell_type": "markdown",
   "metadata": {},
   "source": [
    "### Challenge 3\n",
    "\n",
    "Switch the order of the point and line layers from the previous example. What happened?"
   ]
  },
  {
   "cell_type": "code",
   "execution_count": 12,
   "metadata": {},
   "outputs": [],
   "source": [
    "# Answer to Challenge 3"
   ]
  },
  {
   "cell_type": "markdown",
   "metadata": {},
   "source": [
    "## Transformations and statistics\n",
    "\n",
    "ggplot2 also makes it easy to overlay statistical models over the data. To\n",
    "demonstrate we'll go back to our first example:"
   ]
  },
  {
   "cell_type": "code",
   "execution_count": null,
   "metadata": {},
   "outputs": [],
   "source": []
  },
  {
   "cell_type": "markdown",
   "metadata": {},
   "source": [
    "Currently it's hard to see the relationship between the points due to some strong\n",
    "outliers in GDP per capita. We can change the scale of units on the x axis using\n",
    "the *scale* functions. These control the mapping between the data values and\n",
    "visual values of an aesthetic. We can also modify the transparency of the\n",
    "points, using the *alpha* function, which is especially helpful when you have\n",
    "a large amount of data which is very clustered."
   ]
  },
  {
   "cell_type": "code",
   "execution_count": null,
   "metadata": {},
   "outputs": [],
   "source": []
  },
  {
   "cell_type": "markdown",
   "metadata": {},
   "source": [
    "The `log10` function applied a transformation to the values of the gdpPercap\n",
    "column before rendering them on the plot, so that each multiple of 10 now only\n",
    "corresponds to an increase in 1 on the transformed scale, e.g. a GDP per capita\n",
    "of 1,000 is now 3 on the y axis, a value of 10,000 corresponds to 4 on the y\n",
    "axis and so on. This makes it easier to visualize the spread of data on the\n",
    "x-axis."
   ]
  },
  {
   "cell_type": "markdown",
   "metadata": {},
   "source": [
    "We can fit a simple relationship to the data by adding another layer,\n",
    "`geom_smooth`:"
   ]
  },
  {
   "cell_type": "code",
   "execution_count": null,
   "metadata": {},
   "outputs": [],
   "source": []
  },
  {
   "cell_type": "markdown",
   "metadata": {},
   "source": [
    "We can make the line thicker by *setting* the **size** aesthetic in the\n",
    "`geom_smooth` layer:"
   ]
  },
  {
   "cell_type": "code",
   "execution_count": null,
   "metadata": {
    "scrolled": false
   },
   "outputs": [],
   "source": []
  },
  {
   "cell_type": "markdown",
   "metadata": {},
   "source": [
    "There are two ways an *aesthetic* can be specified. Here we *set* the **size**\n",
    "aesthetic by passing it as an argument to `geom_smooth`. Previously in the\n",
    "lesson we've used the `aes` function to define a *mapping* between data\n",
    "variables and their visual representation."
   ]
  },
  {
   "cell_type": "markdown",
   "metadata": {},
   "source": [
    "### Challenge 4a\n",
    "\n",
    "Modify the color and size of the points on the point layer in the previous example.\n",
    "\n",
    "Hint: do not use the aes function."
   ]
  },
  {
   "cell_type": "code",
   "execution_count": 17,
   "metadata": {},
   "outputs": [],
   "source": [
    "# Answer to Challenge 4a"
   ]
  },
  {
   "cell_type": "markdown",
   "metadata": {},
   "source": [
    "### Challenge 4b\n",
    "\n",
    "Modify your solution to Challenge 4a so that the points are now a different shape and are colored by continent with new trendlines. Hint: The color argument can be used inside the aesthetic."
   ]
  },
  {
   "cell_type": "markdown",
   "metadata": {},
   "source": [
    "\n",
    "## Multi-panel figures\n",
    "\n",
    "Earlier we visualized the change in life expectancy over time across all\n",
    "countries in one plot. Alternatively, we can split this out over multiple panels\n",
    "by adding a layer of **facet** panels. Focusing only on those countries with\n",
    "names that start with the letter \"A\" or \"Z\"."
   ]
  },
  {
   "cell_type": "code",
   "execution_count": null,
   "metadata": {},
   "outputs": [],
   "source": []
  },
  {
   "cell_type": "markdown",
   "metadata": {},
   "source": [
    "The `facet_wrap` layer took a \"formula\" as its argument, denoted by the tilde\n",
    "(~). This tells R to draw a panel for each unique value in the country column\n",
    "of the gapminder dataset.\n"
   ]
  },
  {
   "cell_type": "markdown",
   "metadata": {},
   "source": [
    "## Modifying text\n",
    "\n",
    "To clean this figure up for a publication we need to change some of the text\n",
    "elements. The x-axis is too cluttered, and the y axis should read\n",
    "\"Life expectancy\", rather than the column name in the data frame.\n",
    "\n",
    "We can do this by adding a couple of different layers. The **theme** layer\n",
    "controls the axis text, and overall text size. Labels for the axes, plot \n",
    "title and any legend can be set using the `labs` function. Legend titles\n",
    "are set using the same names we used in the `aes` specification. Thus below\n",
    "the color legend title is set using `color = \"Continent\"`, while the title \n",
    "of a fill legend would be set using `fill = \"MyTitle\"`. "
   ]
  },
  {
   "cell_type": "code",
   "execution_count": null,
   "metadata": {
    "scrolled": false
   },
   "outputs": [],
   "source": []
  },
  {
   "cell_type": "markdown",
   "metadata": {},
   "source": [
    "### Challenge 5\n",
    "\n",
    "Create a density plot of GDP per capita, filled by continent.\n",
    "\n",
    "Advanced:\n",
    "\n",
    "Transform the x axis to better visualise the data spread.\n",
    "Add a facet layer to panel the density plots by year."
   ]
  },
  {
   "cell_type": "markdown",
   "metadata": {},
   "source": [
    "## Exporting the plot\n",
    "\n",
    "The `ggsave()` function allows you to export a plot created with ggplot. You can specify the dimension and resolution of your plot by adjusting the appropriate arguments (`width`, `height` and `dpi`) to create high quality graphics for publication. In order to save the plot from above, we first assign it to a variable `lifeExp_plot`, then tell `ggsave` to save that plot in `png` format."
   ]
  },
  {
   "cell_type": "code",
   "execution_count": null,
   "metadata": {},
   "outputs": [],
   "source": []
  },
  {
   "cell_type": "markdown",
   "metadata": {},
   "source": [
    "After running the code if we go back to the files (click the jupyter logo) and you should see a new file \"lifeExp.png\" there. (remember to save before!)\n",
    "\n",
    "### Challenge 6\n",
    "\n",
    "Save the following plot:\n",
    "\n",
    "```ggplot(data = gapminder, aes(x = gdpPercap, y = lifeExp)) +\n",
    "  geom_point() + scale_x_log10() + geom_smooth(method=\"lm\", size=1.5)``` \n",
    "\n",
    "as `jpg` with a width of `5` and a height of `6`"
   ]
  },
  {
   "cell_type": "code",
   "execution_count": null,
   "metadata": {},
   "outputs": [],
   "source": [
    "# Answer to Challenge 6"
   ]
  },
  {
   "cell_type": "markdown",
   "metadata": {},
   "source": [
    "There are two nice things about `ggsave`. First, it defaults to the last plot, so if you omit the `plot` argument it will automatically save the last plot you created with `ggplot`. Secondly, it tries to determine the format you want to save your plot in from the file extension you provide for the filename (for example `.png` or `.pdf`). If you need to, you can specify the format explicitly in the `device` argument.\n",
    "\n",
    "## Beyond R beginnner\n",
    "This is a taste of what you can do with ggplot2.\n",
    "\n",
    "With the basics in ggplot you can expand your data visualization skill to beyond making just scatter and line plots"
   ]
  },
  {
   "cell_type": "code",
   "execution_count": 40,
   "metadata": {},
   "outputs": [
    {
     "data": {},
     "metadata": {},
     "output_type": "display_data"
    },
    {
     "data": {},
     "metadata": {},
     "output_type": "display_data"
    },
    {
     "data": {
      "image/png": "[encoded data removed]",
      "text/plain": [
       "plot without title"
      ]
     },
     "metadata": {},
     "output_type": "display_data"
    },
    {
     "name": "stderr",
     "output_type": "stream",
     "text": [
      "`stat_bin()` using `bins = 30`. Pick better value with `binwidth`.\n"
     ]
    },
    {
     "data": {},
     "metadata": {},
     "output_type": "display_data"
    },
    {
     "data": {
      "image/png": "[encoded data removed]",
      "text/plain": [
       "plot without title"
      ]
     },
     "metadata": {},
     "output_type": "display_data"
    },
    {
     "data": {
      "image/png": "[encoded data removed]",
      "text/plain": [
       "plot without title"
      ]
     },
     "metadata": {},
     "output_type": "display_data"
    }
   ],
   "source": [
    "# example from geom_map\n",
    "crimes <- data.frame(state = tolower(rownames(USArrests)), USArrests)\n",
    "crimesm <- reshape2::melt(crimes, id = 1)\n",
    "if (require(maps)) {\n",
    "  states_map <- map_data(\"state\")\n",
    "  ggplot(crimes, aes(map_id = state)) +\n",
    "    geom_map(aes(fill = Murder), map = states_map) +\n",
    "    expand_limits(x = states_map$long, y = states_map$lat)\n",
    "\n",
    "  last_plot() + coord_map()\n",
    "  ggplot(crimesm, aes(map_id = state)) +\n",
    "    geom_map(aes(fill = value), map = states_map) +\n",
    "    expand_limits(x = states_map$long, y = states_map$lat) +\n",
    "    facet_wrap( ~ variable)\n",
    "}\n",
    "\n",
    "#random bar graph using gapminder data\n",
    "ggplot(gapminder, aes( x = continent)) +\n",
    "geom_bar() +\n",
    "ylab(\"countries\")\n",
    "\n",
    "#random histogram\n",
    "ggplot(gapminder, aes(x = lifeExp)) +\n",
    "geom_histogram()"
   ]
  },
  {
   "cell_type": "markdown",
   "metadata": {},
   "source": [
    "### Resources\n",
    "\n",
    "RStudio provides a really useful [cheat sheet][cheat] of the different layers available, and more\n",
    "extensive documentation is available on the [ggplot2 website][ggplot-doc].\n",
    "Finally, if you have no idea how to change something, a quick Google search will\n",
    "usually send you to a relevant question and answer on Stack Overflow with reusable\n",
    "code to modify!\n",
    "\n",
    "### Getting today's materials\n",
    "All notebooks used today are available on the rstudy group [github repo][git]. Click the green `clone or download` if you don't have a github account to download to your computer.\n",
    "\n",
    "You can also go to `file > download as` to save the notebook in other formats if you would like to work in something other than jupyter notebooks\n",
    "\n",
    "[cheat]: http://www.rstudio.com/wp-content/uploads/2015/03/ggplot2-cheatsheet.pdf\n",
    "[ggplot-doc]: http://docs.ggplot2.org/current/\n",
    "[git]: https://github.com/UBC-R-Study-group/intro_r_workshop"
   ]
  },
  {
   "cell_type": "code",
   "execution_count": null,
   "metadata": {},
   "outputs": [],
   "source": []
  }
 ],
 "metadata": {
  "kernelspec": {
   "display_name": "R",
   "language": "R",
   "name": "ir"
  },
  "language_info": {
   "codemirror_mode": "r",
   "file_extension": ".r",
   "mimetype": "text/x-r-source",
   "name": "R",
   "pygments_lexer": "r",
   "version": "3.5.1"
  }
 },
 "nbformat": 4,
 "nbformat_minor": 2
}
