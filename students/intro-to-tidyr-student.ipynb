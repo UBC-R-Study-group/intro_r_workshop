{
 "cells": [
  {
   "cell_type": "markdown",
   "metadata": {},
   "source": [
    "# Dataframe manipulation with tidyr\n"
   ]
  },
  {
   "cell_type": "markdown",
   "metadata": {},
   "source": [
    "Researchers often want to manipulate their data from the ‘wide’ to the ‘long’ format, or vice-versa.  \n",
    "\n",
    "**Identifier variables**: Identifier, or ID, variables identify the observations. Think of these as the **key(s)** that identifies your observations. \n",
    "\n",
    "**Observed/Measured variables**: This represents the measurements you observed.\n",
    "\n",
    "In the **long** format, there is usually 1 column for the observed variables and other column(s) are ID variables. \n",
    "\n",
    "In the **wide** format, there is usually a column for each observed variable. \n",
    "\n",
    "Many (but not all!) of R’s functions have been designed assuming you have ‘long’ format data. Howerver for humans, format affects readability. Wide format is often more intuitive since we can see more of the data on the screen. Long format is more machine readable and is closer to the formatting of databases. \n",
    "**This tutorial will help you efficiently transform your data regardless of original format.**"
   ]
  },
  {
   "cell_type": "markdown",
   "metadata": {},
   "source": [
    "![](https://swcarpentry.github.io/r-novice-gapminder/fig/14-tidyr-fig1.png)"
   ]
  },
  {
   "cell_type": "markdown",
   "metadata": {},
   "source": [
    "## Getting started"
   ]
  },
  {
   "cell_type": "markdown",
   "metadata": {},
   "source": [
    "First install the packages if you haven’t already done so (you probably installed dplyr in the previous lesson); then load the packages."
   ]
  },
  {
   "cell_type": "code",
   "execution_count": 1,
   "metadata": {},
   "outputs": [
    {
     "name": "stderr",
     "output_type": "stream",
     "text": [
      "\n",
      "Attaching package: ‘dplyr’\n",
      "\n",
      "The following objects are masked from ‘package:stats’:\n",
      "\n",
      "    filter, lag\n",
      "\n",
      "The following objects are masked from ‘package:base’:\n",
      "\n",
      "    intersect, setdiff, setequal, union\n",
      "\n"
     ]
    }
   ],
   "source": [
    "#install.packages(\"tidyr\")\n",
    "#install.packages(\"dplyr\")\n",
    "library(\"tidyr\")\n",
    "library(\"dplyr\")"
   ]
  },
  {
   "cell_type": "markdown",
   "metadata": {},
   "source": [
    "First, lets look at the structure of our original gapminder dataframe using str()"
   ]
  },
  {
   "cell_type": "code",
   "execution_count": 2,
   "metadata": {},
   "outputs": [
    {
     "name": "stdout",
     "output_type": "stream",
     "text": [
      "'data.frame':\t1704 obs. of  6 variables:\n",
      " $ country  : chr  \"Afghanistan\" \"Afghanistan\" \"Afghanistan\" \"Afghanistan\" ...\n",
      " $ continent: chr  \"Asia\" \"Asia\" \"Asia\" \"Asia\" ...\n",
      " $ year     : int  1952 1957 1962 1967 1972 1977 1982 1987 1992 1997 ...\n",
      " $ lifeExp  : num  28.8 30.3 32 34 36.1 ...\n",
      " $ pop      : int  8425333 9240934 10267083 11537966 13079460 14880372 12881816 13867957 16317921 22227415 ...\n",
      " $ gdpPercap: num  779 821 853 836 740 ...\n"
     ]
    },
    {
     "data": {
      "text/html": [
       "<table>\n",
       "<thead><tr><th scope=col>country</th><th scope=col>continent</th><th scope=col>year</th><th scope=col>lifeExp</th><th scope=col>pop</th><th scope=col>gdpPercap</th></tr></thead>\n",
       "<tbody>\n",
       "\t<tr><td>Afghanistan</td><td>Asia       </td><td>1952       </td><td>28.801     </td><td> 8425333   </td><td>779.4453   </td></tr>\n",
       "\t<tr><td>Afghanistan</td><td>Asia       </td><td>1957       </td><td>30.332     </td><td> 9240934   </td><td>820.8530   </td></tr>\n",
       "\t<tr><td>Afghanistan</td><td>Asia       </td><td>1962       </td><td>31.997     </td><td>10267083   </td><td>853.1007   </td></tr>\n",
       "\t<tr><td>Afghanistan</td><td>Asia       </td><td>1967       </td><td>34.020     </td><td>11537966   </td><td>836.1971   </td></tr>\n",
       "\t<tr><td>Afghanistan</td><td>Asia       </td><td>1972       </td><td>36.088     </td><td>13079460   </td><td>739.9811   </td></tr>\n",
       "\t<tr><td>Afghanistan</td><td>Asia       </td><td>1977       </td><td>38.438     </td><td>14880372   </td><td>786.1134   </td></tr>\n",
       "</tbody>\n",
       "</table>\n"
      ],
      "text/latex": [
       "\\begin{tabular}{r|llllll}\n",
       " country & continent & year & lifeExp & pop & gdpPercap\\\\\n",
       "\\hline\n",
       "\t Afghanistan & Asia        & 1952        & 28.801      &  8425333    & 779.4453   \\\\\n",
       "\t Afghanistan & Asia        & 1957        & 30.332      &  9240934    & 820.8530   \\\\\n",
       "\t Afghanistan & Asia        & 1962        & 31.997      & 10267083    & 853.1007   \\\\\n",
       "\t Afghanistan & Asia        & 1967        & 34.020      & 11537966    & 836.1971   \\\\\n",
       "\t Afghanistan & Asia        & 1972        & 36.088      & 13079460    & 739.9811   \\\\\n",
       "\t Afghanistan & Asia        & 1977        & 38.438      & 14880372    & 786.1134   \\\\\n",
       "\\end{tabular}\n"
      ],
      "text/markdown": [
       "\n",
       "country | continent | year | lifeExp | pop | gdpPercap | \n",
       "|---|---|---|---|---|---|\n",
       "| Afghanistan | Asia        | 1952        | 28.801      |  8425333    | 779.4453    | \n",
       "| Afghanistan | Asia        | 1957        | 30.332      |  9240934    | 820.8530    | \n",
       "| Afghanistan | Asia        | 1962        | 31.997      | 10267083    | 853.1007    | \n",
       "| Afghanistan | Asia        | 1967        | 34.020      | 11537966    | 836.1971    | \n",
       "| Afghanistan | Asia        | 1972        | 36.088      | 13079460    | 739.9811    | \n",
       "| Afghanistan | Asia        | 1977        | 38.438      | 14880372    | 786.1134    | \n",
       "\n",
       "\n"
      ],
      "text/plain": [
       "  country     continent year lifeExp pop      gdpPercap\n",
       "1 Afghanistan Asia      1952 28.801   8425333 779.4453 \n",
       "2 Afghanistan Asia      1957 30.332   9240934 820.8530 \n",
       "3 Afghanistan Asia      1962 31.997  10267083 853.1007 \n",
       "4 Afghanistan Asia      1967 34.020  11537966 836.1971 \n",
       "5 Afghanistan Asia      1972 36.088  13079460 739.9811 \n",
       "6 Afghanistan Asia      1977 38.438  14880372 786.1134 "
      ]
     },
     "metadata": {},
     "output_type": "display_data"
    }
   ],
   "source": [
    "gapminder <- read.csv(\"../data/gapminder_data.csv\", stringsAsFactor = FALSE)\n",
    "str(gapminder)\n",
    "head(gapminder)"
   ]
  },
  {
   "cell_type": "markdown",
   "metadata": {},
   "source": [
    "### Question 1\n",
    "**Is gapminder a purely long, purely wide, or some intermediate format?**  \n",
    "Ans. The original gapminder data.frame is in an intermediate format. It is not purely long since it had multiple observation variables (ex. pop, lifeExp, gdpPercap).\n",
    "\n"
   ]
  },
  {
   "cell_type": "markdown",
   "metadata": {},
   "source": [
    "Sometimes, as with the gapminder dataset, we have multiple types of observed data. It is somewhere in between the purely long and wide data formats. We have 3 ID variables (continent, country, year) and 3 “Observation variables” (pop,lifeExp,gdpPercap). This is often preferred due to readability, flexibility when analyzing, and units being on different scales. \n",
    "\n",
    "While using many of the functions in R you usually do not want to do mathematical operations on values with different units. For example, using the purely long format, a single mean for all of the values of population, life expectancy, and GDP would not be meaningful. The solution would be to restructure your dataframe or use a dplyr function for grouping. "
   ]
  },
  {
   "cell_type": "markdown",
   "metadata": {},
   "source": [
    "## From wide to long format with tidyr::gather()"
   ]
  },
  {
   "cell_type": "markdown",
   "metadata": {},
   "source": [
    "Until now, we’ve been using the nicely formatted original gapminder dataset, but ‘real’ data (i.e. our own research data) will never be so well organized. Here let’s start with the wide format version of the gapminder dataset. \n",
    "\n",
    "**Download/read in the wide version of the gapminder data.**\n",
    "\n",
    "\n",
    "We’ll load the data file and look at it. Note: we don’t want our continent and country columns to be factors, so we use the stringsAsFactors argument for read.csv() to disable that."
   ]
  },
  {
   "cell_type": "code",
   "execution_count": 3,
   "metadata": {},
   "outputs": [
    {
     "data": {
      "text/html": [
       "<table>\n",
       "<thead><tr><th scope=col>country</th><th scope=col>continent</th><th scope=col>gdpPercap_1952</th><th scope=col>gdpPercap_1957</th><th scope=col>gdpPercap_1962</th><th scope=col>gdpPercap_1967</th><th scope=col>gdpPercap_1972</th><th scope=col>gdpPercap_1977</th><th scope=col>gdpPercap_1982</th><th scope=col>gdpPercap_1987</th><th scope=col>⋯</th><th scope=col>pop_1962</th><th scope=col>pop_1967</th><th scope=col>pop_1972</th><th scope=col>pop_1977</th><th scope=col>pop_1982</th><th scope=col>pop_1987</th><th scope=col>pop_1992</th><th scope=col>pop_1997</th><th scope=col>pop_2002</th><th scope=col>pop_2007</th></tr></thead>\n",
       "<tbody>\n",
       "\t<tr><td>Afghanistan</td><td>Asia       </td><td>  779.4453 </td><td>  820.853  </td><td>  853.1007 </td><td>  836.1971 </td><td>  739.9811 </td><td>  786.1134 </td><td>  978.0114 </td><td>  852.3959 </td><td>⋯          </td><td>10267083   </td><td>11537966   </td><td>13079460   </td><td>14880372   </td><td>12881816   </td><td>13867957   </td><td>16317921   </td><td>22227415   </td><td>25268405   </td><td>31889923   </td></tr>\n",
       "\t<tr><td>Albania    </td><td>Europe     </td><td> 1601.0561 </td><td> 1942.284  </td><td> 2312.8890 </td><td> 2760.1969 </td><td> 3313.4222 </td><td> 3533.0039 </td><td> 3630.8807 </td><td> 3738.9327 </td><td>⋯          </td><td> 1728137   </td><td> 1984060   </td><td> 2263554   </td><td> 2509048   </td><td> 2780097   </td><td> 3075321   </td><td> 3326498   </td><td> 3428038   </td><td> 3508512   </td><td> 3600523   </td></tr>\n",
       "\t<tr><td>Algeria    </td><td>Africa     </td><td> 2449.0082 </td><td> 3013.976  </td><td> 2550.8169 </td><td> 3246.9918 </td><td> 4182.6638 </td><td> 4910.4168 </td><td> 5745.1602 </td><td> 5681.3585 </td><td>⋯          </td><td>11000948   </td><td>12760499   </td><td>14760787   </td><td>17152804   </td><td>20033753   </td><td>23254956   </td><td>26298373   </td><td>29072015   </td><td>31287142   </td><td>33333216   </td></tr>\n",
       "\t<tr><td>Angola     </td><td>Africa     </td><td> 3520.6103 </td><td> 3827.940  </td><td> 4269.2767 </td><td> 5522.7764 </td><td> 5473.2880 </td><td> 3008.6474 </td><td> 2756.9537 </td><td> 2430.2083 </td><td>⋯          </td><td> 4826015   </td><td> 5247469   </td><td> 5894858   </td><td> 6162675   </td><td> 7016384   </td><td> 7874230   </td><td> 8735988   </td><td> 9875024   </td><td>10866106   </td><td>12420476   </td></tr>\n",
       "\t<tr><td>Argentina  </td><td>Americas   </td><td> 5911.3151 </td><td> 6856.856  </td><td> 7133.1660 </td><td> 8052.9530 </td><td> 9443.0385 </td><td>10079.0267 </td><td> 8997.8974 </td><td> 9139.6714 </td><td>⋯          </td><td>21283783   </td><td>22934225   </td><td>24779799   </td><td>26983828   </td><td>29341374   </td><td>31620918   </td><td>33958947   </td><td>36203463   </td><td>38331121   </td><td>40301927   </td></tr>\n",
       "\t<tr><td>Australia  </td><td>Oceania    </td><td>10039.5956 </td><td>10949.650  </td><td>12217.2269 </td><td>14526.1246 </td><td>16788.6295 </td><td>18334.1975 </td><td>19477.0093 </td><td>21888.8890 </td><td>⋯          </td><td>10794968   </td><td>11872264   </td><td>13177000   </td><td>14074100   </td><td>15184200   </td><td>16257249   </td><td>17481977   </td><td>18565243   </td><td>19546792   </td><td>20434176   </td></tr>\n",
       "</tbody>\n",
       "</table>\n"
      ],
      "text/latex": [
       "\\begin{tabular}{r|llllllllllllllllllllllllllllllllllllll}\n",
       " country & continent & gdpPercap\\_1952 & gdpPercap\\_1957 & gdpPercap\\_1962 & gdpPercap\\_1967 & gdpPercap\\_1972 & gdpPercap\\_1977 & gdpPercap\\_1982 & gdpPercap\\_1987 & ⋯ & pop\\_1962 & pop\\_1967 & pop\\_1972 & pop\\_1977 & pop\\_1982 & pop\\_1987 & pop\\_1992 & pop\\_1997 & pop\\_2002 & pop\\_2007\\\\\n",
       "\\hline\n",
       "\t Afghanistan & Asia        &   779.4453  &   820.853   &   853.1007  &   836.1971  &   739.9811  &   786.1134  &   978.0114  &   852.3959  & ⋯           & 10267083    & 11537966    & 13079460    & 14880372    & 12881816    & 13867957    & 16317921    & 22227415    & 25268405    & 31889923   \\\\\n",
       "\t Albania     & Europe      &  1601.0561  &  1942.284   &  2312.8890  &  2760.1969  &  3313.4222  &  3533.0039  &  3630.8807  &  3738.9327  & ⋯           &  1728137    &  1984060    &  2263554    &  2509048    &  2780097    &  3075321    &  3326498    &  3428038    &  3508512    &  3600523   \\\\\n",
       "\t Algeria     & Africa      &  2449.0082  &  3013.976   &  2550.8169  &  3246.9918  &  4182.6638  &  4910.4168  &  5745.1602  &  5681.3585  & ⋯           & 11000948    & 12760499    & 14760787    & 17152804    & 20033753    & 23254956    & 26298373    & 29072015    & 31287142    & 33333216   \\\\\n",
       "\t Angola      & Africa      &  3520.6103  &  3827.940   &  4269.2767  &  5522.7764  &  5473.2880  &  3008.6474  &  2756.9537  &  2430.2083  & ⋯           &  4826015    &  5247469    &  5894858    &  6162675    &  7016384    &  7874230    &  8735988    &  9875024    & 10866106    & 12420476   \\\\\n",
       "\t Argentina   & Americas    &  5911.3151  &  6856.856   &  7133.1660  &  8052.9530  &  9443.0385  & 10079.0267  &  8997.8974  &  9139.6714  & ⋯           & 21283783    & 22934225    & 24779799    & 26983828    & 29341374    & 31620918    & 33958947    & 36203463    & 38331121    & 40301927   \\\\\n",
       "\t Australia   & Oceania     & 10039.5956  & 10949.650   & 12217.2269  & 14526.1246  & 16788.6295  & 18334.1975  & 19477.0093  & 21888.8890  & ⋯           & 10794968    & 11872264    & 13177000    & 14074100    & 15184200    & 16257249    & 17481977    & 18565243    & 19546792    & 20434176   \\\\\n",
       "\\end{tabular}\n"
      ],
      "text/markdown": [
       "\n",
       "country | continent | gdpPercap_1952 | gdpPercap_1957 | gdpPercap_1962 | gdpPercap_1967 | gdpPercap_1972 | gdpPercap_1977 | gdpPercap_1982 | gdpPercap_1987 | ⋯ | pop_1962 | pop_1967 | pop_1972 | pop_1977 | pop_1982 | pop_1987 | pop_1992 | pop_1997 | pop_2002 | pop_2007 | \n",
       "|---|---|---|---|---|---|\n",
       "| Afghanistan | Asia        |   779.4453  |   820.853   |   853.1007  |   836.1971  |   739.9811  |   786.1134  |   978.0114  |   852.3959  | ⋯           | 10267083    | 11537966    | 13079460    | 14880372    | 12881816    | 13867957    | 16317921    | 22227415    | 25268405    | 31889923    | \n",
       "| Albania     | Europe      |  1601.0561  |  1942.284   |  2312.8890  |  2760.1969  |  3313.4222  |  3533.0039  |  3630.8807  |  3738.9327  | ⋯           |  1728137    |  1984060    |  2263554    |  2509048    |  2780097    |  3075321    |  3326498    |  3428038    |  3508512    |  3600523    | \n",
       "| Algeria     | Africa      |  2449.0082  |  3013.976   |  2550.8169  |  3246.9918  |  4182.6638  |  4910.4168  |  5745.1602  |  5681.3585  | ⋯           | 11000948    | 12760499    | 14760787    | 17152804    | 20033753    | 23254956    | 26298373    | 29072015    | 31287142    | 33333216    | \n",
       "| Angola      | Africa      |  3520.6103  |  3827.940   |  4269.2767  |  5522.7764  |  5473.2880  |  3008.6474  |  2756.9537  |  2430.2083  | ⋯           |  4826015    |  5247469    |  5894858    |  6162675    |  7016384    |  7874230    |  8735988    |  9875024    | 10866106    | 12420476    | \n",
       "| Argentina   | Americas    |  5911.3151  |  6856.856   |  7133.1660  |  8052.9530  |  9443.0385  | 10079.0267  |  8997.8974  |  9139.6714  | ⋯           | 21283783    | 22934225    | 24779799    | 26983828    | 29341374    | 31620918    | 33958947    | 36203463    | 38331121    | 40301927    | \n",
       "| Australia   | Oceania     | 10039.5956  | 10949.650   | 12217.2269  | 14526.1246  | 16788.6295  | 18334.1975  | 19477.0093  | 21888.8890  | ⋯           | 10794968    | 11872264    | 13177000    | 14074100    | 15184200    | 16257249    | 17481977    | 18565243    | 19546792    | 20434176    | \n",
       "\n",
       "\n"
      ],
      "text/plain": [
       "  country     continent gdpPercap_1952 gdpPercap_1957 gdpPercap_1962\n",
       "1 Afghanistan Asia        779.4453       820.853        853.1007    \n",
       "2 Albania     Europe     1601.0561      1942.284       2312.8890    \n",
       "3 Algeria     Africa     2449.0082      3013.976       2550.8169    \n",
       "4 Angola      Africa     3520.6103      3827.940       4269.2767    \n",
       "5 Argentina   Americas   5911.3151      6856.856       7133.1660    \n",
       "6 Australia   Oceania   10039.5956     10949.650      12217.2269    \n",
       "  gdpPercap_1967 gdpPercap_1972 gdpPercap_1977 gdpPercap_1982 gdpPercap_1987 ⋯\n",
       "1   836.1971       739.9811       786.1134       978.0114       852.3959     ⋯\n",
       "2  2760.1969      3313.4222      3533.0039      3630.8807      3738.9327     ⋯\n",
       "3  3246.9918      4182.6638      4910.4168      5745.1602      5681.3585     ⋯\n",
       "4  5522.7764      5473.2880      3008.6474      2756.9537      2430.2083     ⋯\n",
       "5  8052.9530      9443.0385     10079.0267      8997.8974      9139.6714     ⋯\n",
       "6 14526.1246     16788.6295     18334.1975     19477.0093     21888.8890     ⋯\n",
       "  pop_1962 pop_1967 pop_1972 pop_1977 pop_1982 pop_1987 pop_1992 pop_1997\n",
       "1 10267083 11537966 13079460 14880372 12881816 13867957 16317921 22227415\n",
       "2  1728137  1984060  2263554  2509048  2780097  3075321  3326498  3428038\n",
       "3 11000948 12760499 14760787 17152804 20033753 23254956 26298373 29072015\n",
       "4  4826015  5247469  5894858  6162675  7016384  7874230  8735988  9875024\n",
       "5 21283783 22934225 24779799 26983828 29341374 31620918 33958947 36203463\n",
       "6 10794968 11872264 13177000 14074100 15184200 16257249 17481977 18565243\n",
       "  pop_2002 pop_2007\n",
       "1 25268405 31889923\n",
       "2  3508512  3600523\n",
       "3 31287142 33333216\n",
       "4 10866106 12420476\n",
       "5 38331121 40301927\n",
       "6 19546792 20434176"
      ]
     },
     "metadata": {},
     "output_type": "display_data"
    }
   ],
   "source": [
    "gap_wide <- read.csv(\"../data/gapminder_wide.csv\", stringsAsFactors = FALSE)\n",
    "\n",
    "head(gap_wide)"
   ]
  },
  {
   "cell_type": "markdown",
   "metadata": {},
   "source": [
    "![](https://swcarpentry.github.io/r-novice-gapminder/fig/14-tidyr-fig2.png)\n"
   ]
  },
  {
   "cell_type": "markdown",
   "metadata": {},
   "source": [
    "The first step towards getting our nice intermediate data format is to convert from the wide to the long format. The tidyr function gather() will ‘gather’ your observation variables into a single variable.\n",
    "\n"
   ]
  },
  {
   "cell_type": "markdown",
   "metadata": {},
   "source": [
    "![](https://swcarpentry.github.io/r-novice-gapminder/fig/14-tidyr-fig3.png)"
   ]
  },
  {
   "cell_type": "code",
   "execution_count": 4,
   "metadata": {},
   "outputs": [
    {
     "data": {
      "text/html": [
       "<table>\n",
       "<thead><tr><th scope=col>country</th><th scope=col>continent</th><th scope=col>obstype_year</th><th scope=col>obs_values</th></tr></thead>\n",
       "<tbody>\n",
       "\t<tr><td>Afghanistan</td><td>Asia       </td><td>pop_1952   </td><td> 8425333   </td></tr>\n",
       "\t<tr><td>Albania    </td><td>Europe     </td><td>pop_1952   </td><td> 1282697   </td></tr>\n",
       "\t<tr><td>Algeria    </td><td>Africa     </td><td>pop_1952   </td><td> 9279525   </td></tr>\n",
       "\t<tr><td>Angola     </td><td>Africa     </td><td>pop_1952   </td><td> 4232095   </td></tr>\n",
       "\t<tr><td>Argentina  </td><td>Americas   </td><td>pop_1952   </td><td>17876956   </td></tr>\n",
       "\t<tr><td>Australia  </td><td>Oceania    </td><td>pop_1952   </td><td> 8691212   </td></tr>\n",
       "</tbody>\n",
       "</table>\n"
      ],
      "text/latex": [
       "\\begin{tabular}{r|llll}\n",
       " country & continent & obstype\\_year & obs\\_values\\\\\n",
       "\\hline\n",
       "\t Afghanistan & Asia        & pop\\_1952  &  8425333   \\\\\n",
       "\t Albania     & Europe      & pop\\_1952  &  1282697   \\\\\n",
       "\t Algeria     & Africa      & pop\\_1952  &  9279525   \\\\\n",
       "\t Angola      & Africa      & pop\\_1952  &  4232095   \\\\\n",
       "\t Argentina   & Americas    & pop\\_1952  & 17876956   \\\\\n",
       "\t Australia   & Oceania     & pop\\_1952  &  8691212   \\\\\n",
       "\\end{tabular}\n"
      ],
      "text/markdown": [
       "\n",
       "country | continent | obstype_year | obs_values | \n",
       "|---|---|---|---|---|---|\n",
       "| Afghanistan | Asia        | pop_1952    |  8425333    | \n",
       "| Albania     | Europe      | pop_1952    |  1282697    | \n",
       "| Algeria     | Africa      | pop_1952    |  9279525    | \n",
       "| Angola      | Africa      | pop_1952    |  4232095    | \n",
       "| Argentina   | Americas    | pop_1952    | 17876956    | \n",
       "| Australia   | Oceania     | pop_1952    |  8691212    | \n",
       "\n",
       "\n"
      ],
      "text/plain": [
       "  country     continent obstype_year obs_values\n",
       "1 Afghanistan Asia      pop_1952      8425333  \n",
       "2 Albania     Europe    pop_1952      1282697  \n",
       "3 Algeria     Africa    pop_1952      9279525  \n",
       "4 Angola      Africa    pop_1952      4232095  \n",
       "5 Argentina   Americas  pop_1952     17876956  \n",
       "6 Australia   Oceania   pop_1952      8691212  "
      ]
     },
     "metadata": {},
     "output_type": "display_data"
    }
   ],
   "source": [
    "gap_long <- gap_wide %>%\n",
    "    gather(key = \"obstype_year\", value = \"obs_values\", starts_with('pop'),\n",
    "           starts_with('lifeExp'), starts_with('gdpPercap'))\n",
    "head(gap_long)"
   ]
  },
  {
   "cell_type": "markdown",
   "metadata": {},
   "source": [
    "Here we have used piping syntax which is similar to what we were doing in the previous lesson with dplyr. In fact, these are compatible and you can use a mix of tidyr and dplyr functions by piping them together.\n",
    "\n",
    "Inside gather() we first name the new column for the new ID variable (obstype_year), the name for the new amalgamated observation variable (obs_value), then the names of the old observation variable. We could have typed out all the observation variables, but as in the select() function (see dplyr lesson), we can use the starts_with() argument to select all variables that starts with the desired character string. Gather also allows the alternative syntax of using the - symbol to identify which variables are not to be gathered (i.e. ID variables)"
   ]
  },
  {
   "cell_type": "markdown",
   "metadata": {},
   "source": [
    "![](https://swcarpentry.github.io/r-novice-gapminder/fig/14-tidyr-fig4.png)"
   ]
  },
  {
   "cell_type": "code",
   "execution_count": 5,
   "metadata": {},
   "outputs": [
    {
     "data": {
      "text/html": [
       "<table>\n",
       "<thead><tr><th scope=col>country</th><th scope=col>continent</th><th scope=col>obstype_year</th><th scope=col>obs_values</th></tr></thead>\n",
       "<tbody>\n",
       "\t<tr><td>Afghanistan   </td><td>Asia          </td><td>gdpPercap_1952</td><td>  779.4453    </td></tr>\n",
       "\t<tr><td>Albania       </td><td>Europe        </td><td>gdpPercap_1952</td><td> 1601.0561    </td></tr>\n",
       "\t<tr><td>Algeria       </td><td>Africa        </td><td>gdpPercap_1952</td><td> 2449.0082    </td></tr>\n",
       "\t<tr><td>Angola        </td><td>Africa        </td><td>gdpPercap_1952</td><td> 3520.6103    </td></tr>\n",
       "\t<tr><td>Argentina     </td><td>Americas      </td><td>gdpPercap_1952</td><td> 5911.3151    </td></tr>\n",
       "\t<tr><td>Australia     </td><td>Oceania       </td><td>gdpPercap_1952</td><td>10039.5956    </td></tr>\n",
       "</tbody>\n",
       "</table>\n"
      ],
      "text/latex": [
       "\\begin{tabular}{r|llll}\n",
       " country & continent & obstype\\_year & obs\\_values\\\\\n",
       "\\hline\n",
       "\t Afghanistan      & Asia             & gdpPercap\\_1952 &   779.4453      \\\\\n",
       "\t Albania          & Europe           & gdpPercap\\_1952 &  1601.0561      \\\\\n",
       "\t Algeria          & Africa           & gdpPercap\\_1952 &  2449.0082      \\\\\n",
       "\t Angola           & Africa           & gdpPercap\\_1952 &  3520.6103      \\\\\n",
       "\t Argentina        & Americas         & gdpPercap\\_1952 &  5911.3151      \\\\\n",
       "\t Australia        & Oceania          & gdpPercap\\_1952 & 10039.5956      \\\\\n",
       "\\end{tabular}\n"
      ],
      "text/markdown": [
       "\n",
       "country | continent | obstype_year | obs_values | \n",
       "|---|---|---|---|---|---|\n",
       "| Afghanistan    | Asia           | gdpPercap_1952 |   779.4453     | \n",
       "| Albania        | Europe         | gdpPercap_1952 |  1601.0561     | \n",
       "| Algeria        | Africa         | gdpPercap_1952 |  2449.0082     | \n",
       "| Angola         | Africa         | gdpPercap_1952 |  3520.6103     | \n",
       "| Argentina      | Americas       | gdpPercap_1952 |  5911.3151     | \n",
       "| Australia      | Oceania        | gdpPercap_1952 | 10039.5956     | \n",
       "\n",
       "\n"
      ],
      "text/plain": [
       "  country     continent obstype_year   obs_values\n",
       "1 Afghanistan Asia      gdpPercap_1952   779.4453\n",
       "2 Albania     Europe    gdpPercap_1952  1601.0561\n",
       "3 Algeria     Africa    gdpPercap_1952  2449.0082\n",
       "4 Angola      Africa    gdpPercap_1952  3520.6103\n",
       "5 Argentina   Americas  gdpPercap_1952  5911.3151\n",
       "6 Australia   Oceania   gdpPercap_1952 10039.5956"
      ]
     },
     "metadata": {},
     "output_type": "display_data"
    },
    {
     "name": "stdout",
     "output_type": "stream",
     "text": [
      "'data.frame':\t5112 obs. of  4 variables:\n",
      " $ country     : chr  \"Afghanistan\" \"Albania\" \"Algeria\" \"Angola\" ...\n",
      " $ continent   : chr  \"Asia\" \"Europe\" \"Africa\" \"Africa\" ...\n",
      " $ obstype_year: chr  \"gdpPercap_1952\" \"gdpPercap_1952\" \"gdpPercap_1952\" \"gdpPercap_1952\" ...\n",
      " $ obs_values  : num  779 1601 2449 3521 5911 ...\n"
     ]
    }
   ],
   "source": [
    "gap_long <- gap_wide %>% gather(key = \"obstype_year\", value = \"obs_values\",-continent,-country)\n",
    "\n",
    "head(gap_long)\n",
    "str(gap_long)"
   ]
  },
  {
   "cell_type": "markdown",
   "metadata": {},
   "source": [
    "That may seem trivial with this particular dataframe, but sometimes you have 1 ID variable and 40 Observation variables with irregular variables names. The flexibility is a huge time saver!\n",
    "\n",
    "Now obstype_year actually contains 2 pieces of information, the observation type (pop,lifeExp, or gdpPercap) and the year. We can use the **separate()** function to split the character strings into multiple variables."
   ]
  },
  {
   "cell_type": "code",
   "execution_count": 6,
   "metadata": {},
   "outputs": [],
   "source": [
    "gap_long <- gap_long %>% separate(obstype_year,into=c('obs_type','year'),sep=\"_\")\n",
    "gap_long$year <- as.integer(gap_long$year)"
   ]
  },
  {
   "cell_type": "markdown",
   "metadata": {},
   "source": [
    "### Question 2\n",
    "**Using gap_long, create a line graph using ggplot showing the gdpPercap trend over time for Canada. Hint: use the filter and ggplot functions.**"
   ]
  },
  {
   "cell_type": "code",
   "execution_count": 29,
   "metadata": {},
   "outputs": [],
   "source": [
    "library(ggplot2)\n",
    "#gap_long %>% filter(country == \"Canada\" & obs_type == \"gdpPercap\") %>% ggplot2::ggplot(aes(x = year, y = obs_values)) + geom_line()"
   ]
  },
  {
   "cell_type": "markdown",
   "metadata": {},
   "source": [
    "## From long to intermediate format with tidyr::spread()\n"
   ]
  },
  {
   "cell_type": "markdown",
   "metadata": {},
   "source": [
    "Now let’s use the opposite of gather(), to spread our observation variables back out with the aptly named spread(). We can then spread our gap_long() to the original intermediate format or the widest format. Let’s start with the intermediate format."
   ]
  },
  {
   "cell_type": "code",
   "execution_count": 7,
   "metadata": {},
   "outputs": [
    {
     "data": {
      "text/html": [
       "<table>\n",
       "<thead><tr><th scope=col>country</th><th scope=col>continent</th><th scope=col>year</th><th scope=col>gdpPercap</th><th scope=col>lifeExp</th><th scope=col>pop</th></tr></thead>\n",
       "<tbody>\n",
       "\t<tr><td>Afghanistan</td><td>Asia       </td><td>1952       </td><td>779.4453   </td><td>28.801     </td><td> 8425333   </td></tr>\n",
       "\t<tr><td>Afghanistan</td><td>Asia       </td><td>1957       </td><td>820.8530   </td><td>30.332     </td><td> 9240934   </td></tr>\n",
       "\t<tr><td>Afghanistan</td><td>Asia       </td><td>1962       </td><td>853.1007   </td><td>31.997     </td><td>10267083   </td></tr>\n",
       "\t<tr><td>Afghanistan</td><td>Asia       </td><td>1967       </td><td>836.1971   </td><td>34.020     </td><td>11537966   </td></tr>\n",
       "\t<tr><td>Afghanistan</td><td>Asia       </td><td>1972       </td><td>739.9811   </td><td>36.088     </td><td>13079460   </td></tr>\n",
       "\t<tr><td>Afghanistan</td><td>Asia       </td><td>1977       </td><td>786.1134   </td><td>38.438     </td><td>14880372   </td></tr>\n",
       "</tbody>\n",
       "</table>\n"
      ],
      "text/latex": [
       "\\begin{tabular}{r|llllll}\n",
       " country & continent & year & gdpPercap & lifeExp & pop\\\\\n",
       "\\hline\n",
       "\t Afghanistan & Asia        & 1952        & 779.4453    & 28.801      &  8425333   \\\\\n",
       "\t Afghanistan & Asia        & 1957        & 820.8530    & 30.332      &  9240934   \\\\\n",
       "\t Afghanistan & Asia        & 1962        & 853.1007    & 31.997      & 10267083   \\\\\n",
       "\t Afghanistan & Asia        & 1967        & 836.1971    & 34.020      & 11537966   \\\\\n",
       "\t Afghanistan & Asia        & 1972        & 739.9811    & 36.088      & 13079460   \\\\\n",
       "\t Afghanistan & Asia        & 1977        & 786.1134    & 38.438      & 14880372   \\\\\n",
       "\\end{tabular}\n"
      ],
      "text/markdown": [
       "\n",
       "country | continent | year | gdpPercap | lifeExp | pop | \n",
       "|---|---|---|---|---|---|\n",
       "| Afghanistan | Asia        | 1952        | 779.4453    | 28.801      |  8425333    | \n",
       "| Afghanistan | Asia        | 1957        | 820.8530    | 30.332      |  9240934    | \n",
       "| Afghanistan | Asia        | 1962        | 853.1007    | 31.997      | 10267083    | \n",
       "| Afghanistan | Asia        | 1967        | 836.1971    | 34.020      | 11537966    | \n",
       "| Afghanistan | Asia        | 1972        | 739.9811    | 36.088      | 13079460    | \n",
       "| Afghanistan | Asia        | 1977        | 786.1134    | 38.438      | 14880372    | \n",
       "\n",
       "\n"
      ],
      "text/plain": [
       "  country     continent year gdpPercap lifeExp pop     \n",
       "1 Afghanistan Asia      1952 779.4453  28.801   8425333\n",
       "2 Afghanistan Asia      1957 820.8530  30.332   9240934\n",
       "3 Afghanistan Asia      1962 853.1007  31.997  10267083\n",
       "4 Afghanistan Asia      1967 836.1971  34.020  11537966\n",
       "5 Afghanistan Asia      1972 739.9811  36.088  13079460\n",
       "6 Afghanistan Asia      1977 786.1134  38.438  14880372"
      ]
     },
     "metadata": {},
     "output_type": "display_data"
    },
    {
     "data": {
      "text/html": [
       "<table>\n",
       "<thead><tr><th scope=col>country</th><th scope=col>continent</th><th scope=col>year</th><th scope=col>lifeExp</th><th scope=col>pop</th><th scope=col>gdpPercap</th></tr></thead>\n",
       "<tbody>\n",
       "\t<tr><td>Afghanistan</td><td>Asia       </td><td>1952       </td><td>28.801     </td><td> 8425333   </td><td>779.4453   </td></tr>\n",
       "\t<tr><td>Afghanistan</td><td>Asia       </td><td>1957       </td><td>30.332     </td><td> 9240934   </td><td>820.8530   </td></tr>\n",
       "\t<tr><td>Afghanistan</td><td>Asia       </td><td>1962       </td><td>31.997     </td><td>10267083   </td><td>853.1007   </td></tr>\n",
       "\t<tr><td>Afghanistan</td><td>Asia       </td><td>1967       </td><td>34.020     </td><td>11537966   </td><td>836.1971   </td></tr>\n",
       "\t<tr><td>Afghanistan</td><td>Asia       </td><td>1972       </td><td>36.088     </td><td>13079460   </td><td>739.9811   </td></tr>\n",
       "\t<tr><td>Afghanistan</td><td>Asia       </td><td>1977       </td><td>38.438     </td><td>14880372   </td><td>786.1134   </td></tr>\n",
       "</tbody>\n",
       "</table>\n"
      ],
      "text/latex": [
       "\\begin{tabular}{r|llllll}\n",
       " country & continent & year & lifeExp & pop & gdpPercap\\\\\n",
       "\\hline\n",
       "\t Afghanistan & Asia        & 1952        & 28.801      &  8425333    & 779.4453   \\\\\n",
       "\t Afghanistan & Asia        & 1957        & 30.332      &  9240934    & 820.8530   \\\\\n",
       "\t Afghanistan & Asia        & 1962        & 31.997      & 10267083    & 853.1007   \\\\\n",
       "\t Afghanistan & Asia        & 1967        & 34.020      & 11537966    & 836.1971   \\\\\n",
       "\t Afghanistan & Asia        & 1972        & 36.088      & 13079460    & 739.9811   \\\\\n",
       "\t Afghanistan & Asia        & 1977        & 38.438      & 14880372    & 786.1134   \\\\\n",
       "\\end{tabular}\n"
      ],
      "text/markdown": [
       "\n",
       "country | continent | year | lifeExp | pop | gdpPercap | \n",
       "|---|---|---|---|---|---|\n",
       "| Afghanistan | Asia        | 1952        | 28.801      |  8425333    | 779.4453    | \n",
       "| Afghanistan | Asia        | 1957        | 30.332      |  9240934    | 820.8530    | \n",
       "| Afghanistan | Asia        | 1962        | 31.997      | 10267083    | 853.1007    | \n",
       "| Afghanistan | Asia        | 1967        | 34.020      | 11537966    | 836.1971    | \n",
       "| Afghanistan | Asia        | 1972        | 36.088      | 13079460    | 739.9811    | \n",
       "| Afghanistan | Asia        | 1977        | 38.438      | 14880372    | 786.1134    | \n",
       "\n",
       "\n"
      ],
      "text/plain": [
       "  country     continent year lifeExp pop      gdpPercap\n",
       "1 Afghanistan Asia      1952 28.801   8425333 779.4453 \n",
       "2 Afghanistan Asia      1957 30.332   9240934 820.8530 \n",
       "3 Afghanistan Asia      1962 31.997  10267083 853.1007 \n",
       "4 Afghanistan Asia      1967 34.020  11537966 836.1971 \n",
       "5 Afghanistan Asia      1972 36.088  13079460 739.9811 \n",
       "6 Afghanistan Asia      1977 38.438  14880372 786.1134 "
      ]
     },
     "metadata": {},
     "output_type": "display_data"
    }
   ],
   "source": [
    "gap_normal <- gap_long %>% spread(key = \"obs_type\", value = \"obs_values\")\n",
    "\n",
    "head(gap_normal)\n",
    "head(gapminder)"
   ]
  },
  {
   "cell_type": "code",
   "execution_count": 8,
   "metadata": {},
   "outputs": [
    {
     "data": {
      "text/html": [
       "<ol class=list-inline>\n",
       "\t<li>'country'</li>\n",
       "\t<li>'continent'</li>\n",
       "\t<li>'year'</li>\n",
       "\t<li>'gdpPercap'</li>\n",
       "\t<li>'lifeExp'</li>\n",
       "\t<li>'pop'</li>\n",
       "</ol>\n"
      ],
      "text/latex": [
       "\\begin{enumerate*}\n",
       "\\item 'country'\n",
       "\\item 'continent'\n",
       "\\item 'year'\n",
       "\\item 'gdpPercap'\n",
       "\\item 'lifeExp'\n",
       "\\item 'pop'\n",
       "\\end{enumerate*}\n"
      ],
      "text/markdown": [
       "1. 'country'\n",
       "2. 'continent'\n",
       "3. 'year'\n",
       "4. 'gdpPercap'\n",
       "5. 'lifeExp'\n",
       "6. 'pop'\n",
       "\n",
       "\n"
      ],
      "text/plain": [
       "[1] \"country\"   \"continent\" \"year\"      \"gdpPercap\" \"lifeExp\"   \"pop\"      "
      ]
     },
     "metadata": {},
     "output_type": "display_data"
    },
    {
     "data": {
      "text/html": [
       "<ol class=list-inline>\n",
       "\t<li>'country'</li>\n",
       "\t<li>'continent'</li>\n",
       "\t<li>'year'</li>\n",
       "\t<li>'lifeExp'</li>\n",
       "\t<li>'pop'</li>\n",
       "\t<li>'gdpPercap'</li>\n",
       "</ol>\n"
      ],
      "text/latex": [
       "\\begin{enumerate*}\n",
       "\\item 'country'\n",
       "\\item 'continent'\n",
       "\\item 'year'\n",
       "\\item 'lifeExp'\n",
       "\\item 'pop'\n",
       "\\item 'gdpPercap'\n",
       "\\end{enumerate*}\n"
      ],
      "text/markdown": [
       "1. 'country'\n",
       "2. 'continent'\n",
       "3. 'year'\n",
       "4. 'lifeExp'\n",
       "5. 'pop'\n",
       "6. 'gdpPercap'\n",
       "\n",
       "\n"
      ],
      "text/plain": [
       "[1] \"country\"   \"continent\" \"year\"      \"lifeExp\"   \"pop\"       \"gdpPercap\""
      ]
     },
     "metadata": {},
     "output_type": "display_data"
    }
   ],
   "source": [
    "names(gap_normal)\n",
    "names(gapminder)"
   ]
  },
  {
   "cell_type": "markdown",
   "metadata": {},
   "source": [
    "Now we’ve got an intermediate dataframe gap_normal with the same dimensions as the original gapminder, but the order of the variables is different. Let’s fix that before checking if they are all.equal()."
   ]
  },
  {
   "cell_type": "code",
   "execution_count": 9,
   "metadata": {},
   "outputs": [
    {
     "data": {
      "text/html": [
       "TRUE"
      ],
      "text/latex": [
       "TRUE"
      ],
      "text/markdown": [
       "TRUE"
      ],
      "text/plain": [
       "[1] TRUE"
      ]
     },
     "metadata": {},
     "output_type": "display_data"
    }
   ],
   "source": [
    "gap_normal <- gap_normal[,names(gapminder)]\n",
    "all.equal(gap_normal,gapminder)"
   ]
  },
  {
   "cell_type": "code",
   "execution_count": 10,
   "metadata": {},
   "outputs": [
    {
     "data": {
      "text/html": [
       "<table>\n",
       "<thead><tr><th scope=col>country</th><th scope=col>continent</th><th scope=col>year</th><th scope=col>lifeExp</th><th scope=col>pop</th><th scope=col>gdpPercap</th></tr></thead>\n",
       "<tbody>\n",
       "\t<tr><td>Afghanistan</td><td>Asia       </td><td>1952       </td><td>28.801     </td><td> 8425333   </td><td>779.4453   </td></tr>\n",
       "\t<tr><td>Afghanistan</td><td>Asia       </td><td>1957       </td><td>30.332     </td><td> 9240934   </td><td>820.8530   </td></tr>\n",
       "\t<tr><td>Afghanistan</td><td>Asia       </td><td>1962       </td><td>31.997     </td><td>10267083   </td><td>853.1007   </td></tr>\n",
       "\t<tr><td>Afghanistan</td><td>Asia       </td><td>1967       </td><td>34.020     </td><td>11537966   </td><td>836.1971   </td></tr>\n",
       "\t<tr><td>Afghanistan</td><td>Asia       </td><td>1972       </td><td>36.088     </td><td>13079460   </td><td>739.9811   </td></tr>\n",
       "\t<tr><td>Afghanistan</td><td>Asia       </td><td>1977       </td><td>38.438     </td><td>14880372   </td><td>786.1134   </td></tr>\n",
       "</tbody>\n",
       "</table>\n"
      ],
      "text/latex": [
       "\\begin{tabular}{r|llllll}\n",
       " country & continent & year & lifeExp & pop & gdpPercap\\\\\n",
       "\\hline\n",
       "\t Afghanistan & Asia        & 1952        & 28.801      &  8425333    & 779.4453   \\\\\n",
       "\t Afghanistan & Asia        & 1957        & 30.332      &  9240934    & 820.8530   \\\\\n",
       "\t Afghanistan & Asia        & 1962        & 31.997      & 10267083    & 853.1007   \\\\\n",
       "\t Afghanistan & Asia        & 1967        & 34.020      & 11537966    & 836.1971   \\\\\n",
       "\t Afghanistan & Asia        & 1972        & 36.088      & 13079460    & 739.9811   \\\\\n",
       "\t Afghanistan & Asia        & 1977        & 38.438      & 14880372    & 786.1134   \\\\\n",
       "\\end{tabular}\n"
      ],
      "text/markdown": [
       "\n",
       "country | continent | year | lifeExp | pop | gdpPercap | \n",
       "|---|---|---|---|---|---|\n",
       "| Afghanistan | Asia        | 1952        | 28.801      |  8425333    | 779.4453    | \n",
       "| Afghanistan | Asia        | 1957        | 30.332      |  9240934    | 820.8530    | \n",
       "| Afghanistan | Asia        | 1962        | 31.997      | 10267083    | 853.1007    | \n",
       "| Afghanistan | Asia        | 1967        | 34.020      | 11537966    | 836.1971    | \n",
       "| Afghanistan | Asia        | 1972        | 36.088      | 13079460    | 739.9811    | \n",
       "| Afghanistan | Asia        | 1977        | 38.438      | 14880372    | 786.1134    | \n",
       "\n",
       "\n"
      ],
      "text/plain": [
       "  country     continent year lifeExp pop      gdpPercap\n",
       "1 Afghanistan Asia      1952 28.801   8425333 779.4453 \n",
       "2 Afghanistan Asia      1957 30.332   9240934 820.8530 \n",
       "3 Afghanistan Asia      1962 31.997  10267083 853.1007 \n",
       "4 Afghanistan Asia      1967 34.020  11537966 836.1971 \n",
       "5 Afghanistan Asia      1972 36.088  13079460 739.9811 \n",
       "6 Afghanistan Asia      1977 38.438  14880372 786.1134 "
      ]
     },
     "metadata": {},
     "output_type": "display_data"
    },
    {
     "data": {
      "text/html": [
       "<table>\n",
       "<thead><tr><th scope=col>country</th><th scope=col>continent</th><th scope=col>year</th><th scope=col>lifeExp</th><th scope=col>pop</th><th scope=col>gdpPercap</th></tr></thead>\n",
       "<tbody>\n",
       "\t<tr><td>Afghanistan</td><td>Asia       </td><td>1952       </td><td>28.801     </td><td> 8425333   </td><td>779.4453   </td></tr>\n",
       "\t<tr><td>Afghanistan</td><td>Asia       </td><td>1957       </td><td>30.332     </td><td> 9240934   </td><td>820.8530   </td></tr>\n",
       "\t<tr><td>Afghanistan</td><td>Asia       </td><td>1962       </td><td>31.997     </td><td>10267083   </td><td>853.1007   </td></tr>\n",
       "\t<tr><td>Afghanistan</td><td>Asia       </td><td>1967       </td><td>34.020     </td><td>11537966   </td><td>836.1971   </td></tr>\n",
       "\t<tr><td>Afghanistan</td><td>Asia       </td><td>1972       </td><td>36.088     </td><td>13079460   </td><td>739.9811   </td></tr>\n",
       "\t<tr><td>Afghanistan</td><td>Asia       </td><td>1977       </td><td>38.438     </td><td>14880372   </td><td>786.1134   </td></tr>\n",
       "</tbody>\n",
       "</table>\n"
      ],
      "text/latex": [
       "\\begin{tabular}{r|llllll}\n",
       " country & continent & year & lifeExp & pop & gdpPercap\\\\\n",
       "\\hline\n",
       "\t Afghanistan & Asia        & 1952        & 28.801      &  8425333    & 779.4453   \\\\\n",
       "\t Afghanistan & Asia        & 1957        & 30.332      &  9240934    & 820.8530   \\\\\n",
       "\t Afghanistan & Asia        & 1962        & 31.997      & 10267083    & 853.1007   \\\\\n",
       "\t Afghanistan & Asia        & 1967        & 34.020      & 11537966    & 836.1971   \\\\\n",
       "\t Afghanistan & Asia        & 1972        & 36.088      & 13079460    & 739.9811   \\\\\n",
       "\t Afghanistan & Asia        & 1977        & 38.438      & 14880372    & 786.1134   \\\\\n",
       "\\end{tabular}\n"
      ],
      "text/markdown": [
       "\n",
       "country | continent | year | lifeExp | pop | gdpPercap | \n",
       "|---|---|---|---|---|---|\n",
       "| Afghanistan | Asia        | 1952        | 28.801      |  8425333    | 779.4453    | \n",
       "| Afghanistan | Asia        | 1957        | 30.332      |  9240934    | 820.8530    | \n",
       "| Afghanistan | Asia        | 1962        | 31.997      | 10267083    | 853.1007    | \n",
       "| Afghanistan | Asia        | 1967        | 34.020      | 11537966    | 836.1971    | \n",
       "| Afghanistan | Asia        | 1972        | 36.088      | 13079460    | 739.9811    | \n",
       "| Afghanistan | Asia        | 1977        | 38.438      | 14880372    | 786.1134    | \n",
       "\n",
       "\n"
      ],
      "text/plain": [
       "  country     continent year lifeExp pop      gdpPercap\n",
       "1 Afghanistan Asia      1952 28.801   8425333 779.4453 \n",
       "2 Afghanistan Asia      1957 30.332   9240934 820.8530 \n",
       "3 Afghanistan Asia      1962 31.997  10267083 853.1007 \n",
       "4 Afghanistan Asia      1967 34.020  11537966 836.1971 \n",
       "5 Afghanistan Asia      1972 36.088  13079460 739.9811 \n",
       "6 Afghanistan Asia      1977 38.438  14880372 786.1134 "
      ]
     },
     "metadata": {},
     "output_type": "display_data"
    }
   ],
   "source": [
    "head(gap_normal)\n",
    "head(gapminder)"
   ]
  },
  {
   "cell_type": "markdown",
   "metadata": {},
   "source": [
    "We’re almost there, the original was sorted by country, continent, then year."
   ]
  },
  {
   "cell_type": "code",
   "execution_count": 11,
   "metadata": {},
   "outputs": [
    {
     "data": {
      "text/html": [
       "TRUE"
      ],
      "text/latex": [
       "TRUE"
      ],
      "text/markdown": [
       "TRUE"
      ],
      "text/plain": [
       "[1] TRUE"
      ]
     },
     "metadata": {},
     "output_type": "display_data"
    }
   ],
   "source": [
    "gap_normal <- gap_normal %>% arrange(country,continent,year)\n",
    "all.equal(gap_normal,gapminder)"
   ]
  },
  {
   "cell_type": "code",
   "execution_count": 12,
   "metadata": {},
   "outputs": [
    {
     "data": {
      "text/html": [
       "<table>\n",
       "<thead><tr><th scope=col>country</th><th scope=col>continent</th><th scope=col>year</th><th scope=col>lifeExp</th><th scope=col>pop</th><th scope=col>gdpPercap</th></tr></thead>\n",
       "<tbody>\n",
       "\t<tr><td>Afghanistan</td><td>Asia       </td><td>1952       </td><td>28.801     </td><td> 8425333   </td><td>779.4453   </td></tr>\n",
       "\t<tr><td>Afghanistan</td><td>Asia       </td><td>1957       </td><td>30.332     </td><td> 9240934   </td><td>820.8530   </td></tr>\n",
       "\t<tr><td>Afghanistan</td><td>Asia       </td><td>1962       </td><td>31.997     </td><td>10267083   </td><td>853.1007   </td></tr>\n",
       "\t<tr><td>Afghanistan</td><td>Asia       </td><td>1967       </td><td>34.020     </td><td>11537966   </td><td>836.1971   </td></tr>\n",
       "\t<tr><td>Afghanistan</td><td>Asia       </td><td>1972       </td><td>36.088     </td><td>13079460   </td><td>739.9811   </td></tr>\n",
       "\t<tr><td>Afghanistan</td><td>Asia       </td><td>1977       </td><td>38.438     </td><td>14880372   </td><td>786.1134   </td></tr>\n",
       "</tbody>\n",
       "</table>\n"
      ],
      "text/latex": [
       "\\begin{tabular}{r|llllll}\n",
       " country & continent & year & lifeExp & pop & gdpPercap\\\\\n",
       "\\hline\n",
       "\t Afghanistan & Asia        & 1952        & 28.801      &  8425333    & 779.4453   \\\\\n",
       "\t Afghanistan & Asia        & 1957        & 30.332      &  9240934    & 820.8530   \\\\\n",
       "\t Afghanistan & Asia        & 1962        & 31.997      & 10267083    & 853.1007   \\\\\n",
       "\t Afghanistan & Asia        & 1967        & 34.020      & 11537966    & 836.1971   \\\\\n",
       "\t Afghanistan & Asia        & 1972        & 36.088      & 13079460    & 739.9811   \\\\\n",
       "\t Afghanistan & Asia        & 1977        & 38.438      & 14880372    & 786.1134   \\\\\n",
       "\\end{tabular}\n"
      ],
      "text/markdown": [
       "\n",
       "country | continent | year | lifeExp | pop | gdpPercap | \n",
       "|---|---|---|---|---|---|\n",
       "| Afghanistan | Asia        | 1952        | 28.801      |  8425333    | 779.4453    | \n",
       "| Afghanistan | Asia        | 1957        | 30.332      |  9240934    | 820.8530    | \n",
       "| Afghanistan | Asia        | 1962        | 31.997      | 10267083    | 853.1007    | \n",
       "| Afghanistan | Asia        | 1967        | 34.020      | 11537966    | 836.1971    | \n",
       "| Afghanistan | Asia        | 1972        | 36.088      | 13079460    | 739.9811    | \n",
       "| Afghanistan | Asia        | 1977        | 38.438      | 14880372    | 786.1134    | \n",
       "\n",
       "\n"
      ],
      "text/plain": [
       "  country     continent year lifeExp pop      gdpPercap\n",
       "1 Afghanistan Asia      1952 28.801   8425333 779.4453 \n",
       "2 Afghanistan Asia      1957 30.332   9240934 820.8530 \n",
       "3 Afghanistan Asia      1962 31.997  10267083 853.1007 \n",
       "4 Afghanistan Asia      1967 34.020  11537966 836.1971 \n",
       "5 Afghanistan Asia      1972 36.088  13079460 739.9811 \n",
       "6 Afghanistan Asia      1977 38.438  14880372 786.1134 "
      ]
     },
     "metadata": {},
     "output_type": "display_data"
    },
    {
     "data": {
      "text/html": [
       "<table>\n",
       "<thead><tr><th scope=col>country</th><th scope=col>continent</th><th scope=col>year</th><th scope=col>lifeExp</th><th scope=col>pop</th><th scope=col>gdpPercap</th></tr></thead>\n",
       "<tbody>\n",
       "\t<tr><td>Afghanistan</td><td>Asia       </td><td>1952       </td><td>28.801     </td><td> 8425333   </td><td>779.4453   </td></tr>\n",
       "\t<tr><td>Afghanistan</td><td>Asia       </td><td>1957       </td><td>30.332     </td><td> 9240934   </td><td>820.8530   </td></tr>\n",
       "\t<tr><td>Afghanistan</td><td>Asia       </td><td>1962       </td><td>31.997     </td><td>10267083   </td><td>853.1007   </td></tr>\n",
       "\t<tr><td>Afghanistan</td><td>Asia       </td><td>1967       </td><td>34.020     </td><td>11537966   </td><td>836.1971   </td></tr>\n",
       "\t<tr><td>Afghanistan</td><td>Asia       </td><td>1972       </td><td>36.088     </td><td>13079460   </td><td>739.9811   </td></tr>\n",
       "\t<tr><td>Afghanistan</td><td>Asia       </td><td>1977       </td><td>38.438     </td><td>14880372   </td><td>786.1134   </td></tr>\n",
       "</tbody>\n",
       "</table>\n"
      ],
      "text/latex": [
       "\\begin{tabular}{r|llllll}\n",
       " country & continent & year & lifeExp & pop & gdpPercap\\\\\n",
       "\\hline\n",
       "\t Afghanistan & Asia        & 1952        & 28.801      &  8425333    & 779.4453   \\\\\n",
       "\t Afghanistan & Asia        & 1957        & 30.332      &  9240934    & 820.8530   \\\\\n",
       "\t Afghanistan & Asia        & 1962        & 31.997      & 10267083    & 853.1007   \\\\\n",
       "\t Afghanistan & Asia        & 1967        & 34.020      & 11537966    & 836.1971   \\\\\n",
       "\t Afghanistan & Asia        & 1972        & 36.088      & 13079460    & 739.9811   \\\\\n",
       "\t Afghanistan & Asia        & 1977        & 38.438      & 14880372    & 786.1134   \\\\\n",
       "\\end{tabular}\n"
      ],
      "text/markdown": [
       "\n",
       "country | continent | year | lifeExp | pop | gdpPercap | \n",
       "|---|---|---|---|---|---|\n",
       "| Afghanistan | Asia        | 1952        | 28.801      |  8425333    | 779.4453    | \n",
       "| Afghanistan | Asia        | 1957        | 30.332      |  9240934    | 820.8530    | \n",
       "| Afghanistan | Asia        | 1962        | 31.997      | 10267083    | 853.1007    | \n",
       "| Afghanistan | Asia        | 1967        | 34.020      | 11537966    | 836.1971    | \n",
       "| Afghanistan | Asia        | 1972        | 36.088      | 13079460    | 739.9811    | \n",
       "| Afghanistan | Asia        | 1977        | 38.438      | 14880372    | 786.1134    | \n",
       "\n",
       "\n"
      ],
      "text/plain": [
       "  country     continent year lifeExp pop      gdpPercap\n",
       "1 Afghanistan Asia      1952 28.801   8425333 779.4453 \n",
       "2 Afghanistan Asia      1957 30.332   9240934 820.8530 \n",
       "3 Afghanistan Asia      1962 31.997  10267083 853.1007 \n",
       "4 Afghanistan Asia      1967 34.020  11537966 836.1971 \n",
       "5 Afghanistan Asia      1972 36.088  13079460 739.9811 \n",
       "6 Afghanistan Asia      1977 38.438  14880372 786.1134 "
      ]
     },
     "metadata": {},
     "output_type": "display_data"
    }
   ],
   "source": [
    "head(gap_normal)\n",
    "head(gapminder)"
   ]
  },
  {
   "cell_type": "markdown",
   "metadata": {},
   "source": [
    "That’s great! We’ve gone from the longest format back to the intermediate and we didn’t introduce any errors in our code."
   ]
  },
  {
   "cell_type": "markdown",
   "metadata": {},
   "source": [
    "## From long to wide format with tidyr::unite() and spread() "
   ]
  },
  {
   "cell_type": "markdown",
   "metadata": {},
   "source": [
    "Now lets convert the long data (gap_long) and make it wide. "
   ]
  },
  {
   "cell_type": "code",
   "execution_count": 19,
   "metadata": {},
   "outputs": [
    {
     "data": {
      "text/html": [
       "<table>\n",
       "<thead><tr><th scope=col>country</th><th scope=col>continent</th><th scope=col>obs_type</th><th scope=col>year</th><th scope=col>obs_values</th></tr></thead>\n",
       "<tbody>\n",
       "\t<tr><td>Afghanistan</td><td>Asia       </td><td>gdpPercap  </td><td>1952       </td><td>  779.4453 </td></tr>\n",
       "\t<tr><td>Albania    </td><td>Europe     </td><td>gdpPercap  </td><td>1952       </td><td> 1601.0561 </td></tr>\n",
       "\t<tr><td>Algeria    </td><td>Africa     </td><td>gdpPercap  </td><td>1952       </td><td> 2449.0082 </td></tr>\n",
       "\t<tr><td>Angola     </td><td>Africa     </td><td>gdpPercap  </td><td>1952       </td><td> 3520.6103 </td></tr>\n",
       "\t<tr><td>Argentina  </td><td>Americas   </td><td>gdpPercap  </td><td>1952       </td><td> 5911.3151 </td></tr>\n",
       "\t<tr><td>Australia  </td><td>Oceania    </td><td>gdpPercap  </td><td>1952       </td><td>10039.5956 </td></tr>\n",
       "</tbody>\n",
       "</table>\n"
      ],
      "text/latex": [
       "\\begin{tabular}{r|lllll}\n",
       " country & continent & obs\\_type & year & obs\\_values\\\\\n",
       "\\hline\n",
       "\t Afghanistan & Asia        & gdpPercap   & 1952        &   779.4453 \\\\\n",
       "\t Albania     & Europe      & gdpPercap   & 1952        &  1601.0561 \\\\\n",
       "\t Algeria     & Africa      & gdpPercap   & 1952        &  2449.0082 \\\\\n",
       "\t Angola      & Africa      & gdpPercap   & 1952        &  3520.6103 \\\\\n",
       "\t Argentina   & Americas    & gdpPercap   & 1952        &  5911.3151 \\\\\n",
       "\t Australia   & Oceania     & gdpPercap   & 1952        & 10039.5956 \\\\\n",
       "\\end{tabular}\n"
      ],
      "text/markdown": [
       "\n",
       "country | continent | obs_type | year | obs_values | \n",
       "|---|---|---|---|---|---|\n",
       "| Afghanistan | Asia        | gdpPercap   | 1952        |   779.4453  | \n",
       "| Albania     | Europe      | gdpPercap   | 1952        |  1601.0561  | \n",
       "| Algeria     | Africa      | gdpPercap   | 1952        |  2449.0082  | \n",
       "| Angola      | Africa      | gdpPercap   | 1952        |  3520.6103  | \n",
       "| Argentina   | Americas    | gdpPercap   | 1952        |  5911.3151  | \n",
       "| Australia   | Oceania     | gdpPercap   | 1952        | 10039.5956  | \n",
       "\n",
       "\n"
      ],
      "text/plain": [
       "  country     continent obs_type  year obs_values\n",
       "1 Afghanistan Asia      gdpPercap 1952   779.4453\n",
       "2 Albania     Europe    gdpPercap 1952  1601.0561\n",
       "3 Algeria     Africa    gdpPercap 1952  2449.0082\n",
       "4 Angola      Africa    gdpPercap 1952  3520.6103\n",
       "5 Argentina   Americas  gdpPercap 1952  5911.3151\n",
       "6 Australia   Oceania   gdpPercap 1952 10039.5956"
      ]
     },
     "metadata": {},
     "output_type": "display_data"
    },
    {
     "data": {
      "text/html": [
       "<table>\n",
       "<thead><tr><th scope=col>country</th><th scope=col>continent</th><th scope=col>gdpPercap_1952</th><th scope=col>gdpPercap_1957</th><th scope=col>gdpPercap_1962</th><th scope=col>gdpPercap_1967</th><th scope=col>gdpPercap_1972</th><th scope=col>gdpPercap_1977</th><th scope=col>gdpPercap_1982</th><th scope=col>gdpPercap_1987</th><th scope=col>⋯</th><th scope=col>pop_1962</th><th scope=col>pop_1967</th><th scope=col>pop_1972</th><th scope=col>pop_1977</th><th scope=col>pop_1982</th><th scope=col>pop_1987</th><th scope=col>pop_1992</th><th scope=col>pop_1997</th><th scope=col>pop_2002</th><th scope=col>pop_2007</th></tr></thead>\n",
       "<tbody>\n",
       "\t<tr><td>Afghanistan</td><td>Asia       </td><td>  779.4453 </td><td>  820.853  </td><td>  853.1007 </td><td>  836.1971 </td><td>  739.9811 </td><td>  786.1134 </td><td>  978.0114 </td><td>  852.3959 </td><td>⋯          </td><td>10267083   </td><td>11537966   </td><td>13079460   </td><td>14880372   </td><td>12881816   </td><td>13867957   </td><td>16317921   </td><td>22227415   </td><td>25268405   </td><td>31889923   </td></tr>\n",
       "\t<tr><td>Albania    </td><td>Europe     </td><td> 1601.0561 </td><td> 1942.284  </td><td> 2312.8890 </td><td> 2760.1969 </td><td> 3313.4222 </td><td> 3533.0039 </td><td> 3630.8807 </td><td> 3738.9327 </td><td>⋯          </td><td> 1728137   </td><td> 1984060   </td><td> 2263554   </td><td> 2509048   </td><td> 2780097   </td><td> 3075321   </td><td> 3326498   </td><td> 3428038   </td><td> 3508512   </td><td> 3600523   </td></tr>\n",
       "\t<tr><td>Algeria    </td><td>Africa     </td><td> 2449.0082 </td><td> 3013.976  </td><td> 2550.8169 </td><td> 3246.9918 </td><td> 4182.6638 </td><td> 4910.4168 </td><td> 5745.1602 </td><td> 5681.3585 </td><td>⋯          </td><td>11000948   </td><td>12760499   </td><td>14760787   </td><td>17152804   </td><td>20033753   </td><td>23254956   </td><td>26298373   </td><td>29072015   </td><td>31287142   </td><td>33333216   </td></tr>\n",
       "\t<tr><td>Angola     </td><td>Africa     </td><td> 3520.6103 </td><td> 3827.940  </td><td> 4269.2767 </td><td> 5522.7764 </td><td> 5473.2880 </td><td> 3008.6474 </td><td> 2756.9537 </td><td> 2430.2083 </td><td>⋯          </td><td> 4826015   </td><td> 5247469   </td><td> 5894858   </td><td> 6162675   </td><td> 7016384   </td><td> 7874230   </td><td> 8735988   </td><td> 9875024   </td><td>10866106   </td><td>12420476   </td></tr>\n",
       "\t<tr><td>Argentina  </td><td>Americas   </td><td> 5911.3151 </td><td> 6856.856  </td><td> 7133.1660 </td><td> 8052.9530 </td><td> 9443.0385 </td><td>10079.0267 </td><td> 8997.8974 </td><td> 9139.6714 </td><td>⋯          </td><td>21283783   </td><td>22934225   </td><td>24779799   </td><td>26983828   </td><td>29341374   </td><td>31620918   </td><td>33958947   </td><td>36203463   </td><td>38331121   </td><td>40301927   </td></tr>\n",
       "\t<tr><td>Australia  </td><td>Oceania    </td><td>10039.5956 </td><td>10949.650  </td><td>12217.2269 </td><td>14526.1246 </td><td>16788.6295 </td><td>18334.1975 </td><td>19477.0093 </td><td>21888.8890 </td><td>⋯          </td><td>10794968   </td><td>11872264   </td><td>13177000   </td><td>14074100   </td><td>15184200   </td><td>16257249   </td><td>17481977   </td><td>18565243   </td><td>19546792   </td><td>20434176   </td></tr>\n",
       "</tbody>\n",
       "</table>\n"
      ],
      "text/latex": [
       "\\begin{tabular}{r|llllllllllllllllllllllllllllllllllllll}\n",
       " country & continent & gdpPercap\\_1952 & gdpPercap\\_1957 & gdpPercap\\_1962 & gdpPercap\\_1967 & gdpPercap\\_1972 & gdpPercap\\_1977 & gdpPercap\\_1982 & gdpPercap\\_1987 & ⋯ & pop\\_1962 & pop\\_1967 & pop\\_1972 & pop\\_1977 & pop\\_1982 & pop\\_1987 & pop\\_1992 & pop\\_1997 & pop\\_2002 & pop\\_2007\\\\\n",
       "\\hline\n",
       "\t Afghanistan & Asia        &   779.4453  &   820.853   &   853.1007  &   836.1971  &   739.9811  &   786.1134  &   978.0114  &   852.3959  & ⋯           & 10267083    & 11537966    & 13079460    & 14880372    & 12881816    & 13867957    & 16317921    & 22227415    & 25268405    & 31889923   \\\\\n",
       "\t Albania     & Europe      &  1601.0561  &  1942.284   &  2312.8890  &  2760.1969  &  3313.4222  &  3533.0039  &  3630.8807  &  3738.9327  & ⋯           &  1728137    &  1984060    &  2263554    &  2509048    &  2780097    &  3075321    &  3326498    &  3428038    &  3508512    &  3600523   \\\\\n",
       "\t Algeria     & Africa      &  2449.0082  &  3013.976   &  2550.8169  &  3246.9918  &  4182.6638  &  4910.4168  &  5745.1602  &  5681.3585  & ⋯           & 11000948    & 12760499    & 14760787    & 17152804    & 20033753    & 23254956    & 26298373    & 29072015    & 31287142    & 33333216   \\\\\n",
       "\t Angola      & Africa      &  3520.6103  &  3827.940   &  4269.2767  &  5522.7764  &  5473.2880  &  3008.6474  &  2756.9537  &  2430.2083  & ⋯           &  4826015    &  5247469    &  5894858    &  6162675    &  7016384    &  7874230    &  8735988    &  9875024    & 10866106    & 12420476   \\\\\n",
       "\t Argentina   & Americas    &  5911.3151  &  6856.856   &  7133.1660  &  8052.9530  &  9443.0385  & 10079.0267  &  8997.8974  &  9139.6714  & ⋯           & 21283783    & 22934225    & 24779799    & 26983828    & 29341374    & 31620918    & 33958947    & 36203463    & 38331121    & 40301927   \\\\\n",
       "\t Australia   & Oceania     & 10039.5956  & 10949.650   & 12217.2269  & 14526.1246  & 16788.6295  & 18334.1975  & 19477.0093  & 21888.8890  & ⋯           & 10794968    & 11872264    & 13177000    & 14074100    & 15184200    & 16257249    & 17481977    & 18565243    & 19546792    & 20434176   \\\\\n",
       "\\end{tabular}\n"
      ],
      "text/markdown": [
       "\n",
       "country | continent | gdpPercap_1952 | gdpPercap_1957 | gdpPercap_1962 | gdpPercap_1967 | gdpPercap_1972 | gdpPercap_1977 | gdpPercap_1982 | gdpPercap_1987 | ⋯ | pop_1962 | pop_1967 | pop_1972 | pop_1977 | pop_1982 | pop_1987 | pop_1992 | pop_1997 | pop_2002 | pop_2007 | \n",
       "|---|---|---|---|---|---|\n",
       "| Afghanistan | Asia        |   779.4453  |   820.853   |   853.1007  |   836.1971  |   739.9811  |   786.1134  |   978.0114  |   852.3959  | ⋯           | 10267083    | 11537966    | 13079460    | 14880372    | 12881816    | 13867957    | 16317921    | 22227415    | 25268405    | 31889923    | \n",
       "| Albania     | Europe      |  1601.0561  |  1942.284   |  2312.8890  |  2760.1969  |  3313.4222  |  3533.0039  |  3630.8807  |  3738.9327  | ⋯           |  1728137    |  1984060    |  2263554    |  2509048    |  2780097    |  3075321    |  3326498    |  3428038    |  3508512    |  3600523    | \n",
       "| Algeria     | Africa      |  2449.0082  |  3013.976   |  2550.8169  |  3246.9918  |  4182.6638  |  4910.4168  |  5745.1602  |  5681.3585  | ⋯           | 11000948    | 12760499    | 14760787    | 17152804    | 20033753    | 23254956    | 26298373    | 29072015    | 31287142    | 33333216    | \n",
       "| Angola      | Africa      |  3520.6103  |  3827.940   |  4269.2767  |  5522.7764  |  5473.2880  |  3008.6474  |  2756.9537  |  2430.2083  | ⋯           |  4826015    |  5247469    |  5894858    |  6162675    |  7016384    |  7874230    |  8735988    |  9875024    | 10866106    | 12420476    | \n",
       "| Argentina   | Americas    |  5911.3151  |  6856.856   |  7133.1660  |  8052.9530  |  9443.0385  | 10079.0267  |  8997.8974  |  9139.6714  | ⋯           | 21283783    | 22934225    | 24779799    | 26983828    | 29341374    | 31620918    | 33958947    | 36203463    | 38331121    | 40301927    | \n",
       "| Australia   | Oceania     | 10039.5956  | 10949.650   | 12217.2269  | 14526.1246  | 16788.6295  | 18334.1975  | 19477.0093  | 21888.8890  | ⋯           | 10794968    | 11872264    | 13177000    | 14074100    | 15184200    | 16257249    | 17481977    | 18565243    | 19546792    | 20434176    | \n",
       "\n",
       "\n"
      ],
      "text/plain": [
       "  country     continent gdpPercap_1952 gdpPercap_1957 gdpPercap_1962\n",
       "1 Afghanistan Asia        779.4453       820.853        853.1007    \n",
       "2 Albania     Europe     1601.0561      1942.284       2312.8890    \n",
       "3 Algeria     Africa     2449.0082      3013.976       2550.8169    \n",
       "4 Angola      Africa     3520.6103      3827.940       4269.2767    \n",
       "5 Argentina   Americas   5911.3151      6856.856       7133.1660    \n",
       "6 Australia   Oceania   10039.5956     10949.650      12217.2269    \n",
       "  gdpPercap_1967 gdpPercap_1972 gdpPercap_1977 gdpPercap_1982 gdpPercap_1987 ⋯\n",
       "1   836.1971       739.9811       786.1134       978.0114       852.3959     ⋯\n",
       "2  2760.1969      3313.4222      3533.0039      3630.8807      3738.9327     ⋯\n",
       "3  3246.9918      4182.6638      4910.4168      5745.1602      5681.3585     ⋯\n",
       "4  5522.7764      5473.2880      3008.6474      2756.9537      2430.2083     ⋯\n",
       "5  8052.9530      9443.0385     10079.0267      8997.8974      9139.6714     ⋯\n",
       "6 14526.1246     16788.6295     18334.1975     19477.0093     21888.8890     ⋯\n",
       "  pop_1962 pop_1967 pop_1972 pop_1977 pop_1982 pop_1987 pop_1992 pop_1997\n",
       "1 10267083 11537966 13079460 14880372 12881816 13867957 16317921 22227415\n",
       "2  1728137  1984060  2263554  2509048  2780097  3075321  3326498  3428038\n",
       "3 11000948 12760499 14760787 17152804 20033753 23254956 26298373 29072015\n",
       "4  4826015  5247469  5894858  6162675  7016384  7874230  8735988  9875024\n",
       "5 21283783 22934225 24779799 26983828 29341374 31620918 33958947 36203463\n",
       "6 10794968 11872264 13177000 14074100 15184200 16257249 17481977 18565243\n",
       "  pop_2002 pop_2007\n",
       "1 25268405 31889923\n",
       "2  3508512  3600523\n",
       "3 31287142 33333216\n",
       "4 10866106 12420476\n",
       "5 38331121 40301927\n",
       "6 19546792 20434176"
      ]
     },
     "metadata": {},
     "output_type": "display_data"
    }
   ],
   "source": [
    "head(gap_long)\n",
    "head(gap_wide)"
   ]
  },
  {
   "cell_type": "code",
   "execution_count": 24,
   "metadata": {},
   "outputs": [
    {
     "data": {
      "text/html": [
       "<table>\n",
       "<thead><tr><th scope=col>country</th><th scope=col>continent</th><th scope=col>obs_type_year</th><th scope=col>obs_values</th></tr></thead>\n",
       "<tbody>\n",
       "\t<tr><td>Afghanistan   </td><td>Asia          </td><td>gdpPercap_1952</td><td>  779.4453    </td></tr>\n",
       "\t<tr><td>Albania       </td><td>Europe        </td><td>gdpPercap_1952</td><td> 1601.0561    </td></tr>\n",
       "\t<tr><td>Algeria       </td><td>Africa        </td><td>gdpPercap_1952</td><td> 2449.0082    </td></tr>\n",
       "\t<tr><td>Angola        </td><td>Africa        </td><td>gdpPercap_1952</td><td> 3520.6103    </td></tr>\n",
       "\t<tr><td>Argentina     </td><td>Americas      </td><td>gdpPercap_1952</td><td> 5911.3151    </td></tr>\n",
       "\t<tr><td>Australia     </td><td>Oceania       </td><td>gdpPercap_1952</td><td>10039.5956    </td></tr>\n",
       "</tbody>\n",
       "</table>\n"
      ],
      "text/latex": [
       "\\begin{tabular}{r|llll}\n",
       " country & continent & obs\\_type\\_year & obs\\_values\\\\\n",
       "\\hline\n",
       "\t Afghanistan      & Asia             & gdpPercap\\_1952 &   779.4453      \\\\\n",
       "\t Albania          & Europe           & gdpPercap\\_1952 &  1601.0561      \\\\\n",
       "\t Algeria          & Africa           & gdpPercap\\_1952 &  2449.0082      \\\\\n",
       "\t Angola           & Africa           & gdpPercap\\_1952 &  3520.6103      \\\\\n",
       "\t Argentina        & Americas         & gdpPercap\\_1952 &  5911.3151      \\\\\n",
       "\t Australia        & Oceania          & gdpPercap\\_1952 & 10039.5956      \\\\\n",
       "\\end{tabular}\n"
      ],
      "text/markdown": [
       "\n",
       "country | continent | obs_type_year | obs_values | \n",
       "|---|---|---|---|---|---|\n",
       "| Afghanistan    | Asia           | gdpPercap_1952 |   779.4453     | \n",
       "| Albania        | Europe         | gdpPercap_1952 |  1601.0561     | \n",
       "| Algeria        | Africa         | gdpPercap_1952 |  2449.0082     | \n",
       "| Angola         | Africa         | gdpPercap_1952 |  3520.6103     | \n",
       "| Argentina      | Americas       | gdpPercap_1952 |  5911.3151     | \n",
       "| Australia      | Oceania        | gdpPercap_1952 | 10039.5956     | \n",
       "\n",
       "\n"
      ],
      "text/plain": [
       "  country     continent obs_type_year  obs_values\n",
       "1 Afghanistan Asia      gdpPercap_1952   779.4453\n",
       "2 Albania     Europe    gdpPercap_1952  1601.0561\n",
       "3 Algeria     Africa    gdpPercap_1952  2449.0082\n",
       "4 Angola      Africa    gdpPercap_1952  3520.6103\n",
       "5 Argentina   Americas  gdpPercap_1952  5911.3151\n",
       "6 Australia   Oceania   gdpPercap_1952 10039.5956"
      ]
     },
     "metadata": {},
     "output_type": "display_data"
    }
   ],
   "source": [
    "gap_temp <- gap_long %>% unite(col = \"obs_type_year\", obs_type, year, sep = \"_\")\n",
    "head(gap_temp)"
   ]
  },
  {
   "cell_type": "code",
   "execution_count": 27,
   "metadata": {},
   "outputs": [
    {
     "data": {
      "text/html": [
       "<table>\n",
       "<thead><tr><th scope=col>country</th><th scope=col>continent</th><th scope=col>gdpPercap_1952</th><th scope=col>gdpPercap_1957</th><th scope=col>gdpPercap_1962</th><th scope=col>gdpPercap_1967</th><th scope=col>gdpPercap_1972</th><th scope=col>gdpPercap_1977</th><th scope=col>gdpPercap_1982</th><th scope=col>gdpPercap_1987</th><th scope=col>⋯</th><th scope=col>pop_1962</th><th scope=col>pop_1967</th><th scope=col>pop_1972</th><th scope=col>pop_1977</th><th scope=col>pop_1982</th><th scope=col>pop_1987</th><th scope=col>pop_1992</th><th scope=col>pop_1997</th><th scope=col>pop_2002</th><th scope=col>pop_2007</th></tr></thead>\n",
       "<tbody>\n",
       "\t<tr><td>Afghanistan</td><td>Asia       </td><td>  779.4453 </td><td>  820.853  </td><td>  853.1007 </td><td>  836.1971 </td><td>  739.9811 </td><td>  786.1134 </td><td>  978.0114 </td><td>  852.3959 </td><td>⋯          </td><td>10267083   </td><td>11537966   </td><td>13079460   </td><td>14880372   </td><td>12881816   </td><td>13867957   </td><td>16317921   </td><td>22227415   </td><td>25268405   </td><td>31889923   </td></tr>\n",
       "\t<tr><td>Albania    </td><td>Europe     </td><td> 1601.0561 </td><td> 1942.284  </td><td> 2312.8890 </td><td> 2760.1969 </td><td> 3313.4222 </td><td> 3533.0039 </td><td> 3630.8807 </td><td> 3738.9327 </td><td>⋯          </td><td> 1728137   </td><td> 1984060   </td><td> 2263554   </td><td> 2509048   </td><td> 2780097   </td><td> 3075321   </td><td> 3326498   </td><td> 3428038   </td><td> 3508512   </td><td> 3600523   </td></tr>\n",
       "\t<tr><td>Algeria    </td><td>Africa     </td><td> 2449.0082 </td><td> 3013.976  </td><td> 2550.8169 </td><td> 3246.9918 </td><td> 4182.6638 </td><td> 4910.4168 </td><td> 5745.1602 </td><td> 5681.3585 </td><td>⋯          </td><td>11000948   </td><td>12760499   </td><td>14760787   </td><td>17152804   </td><td>20033753   </td><td>23254956   </td><td>26298373   </td><td>29072015   </td><td>31287142   </td><td>33333216   </td></tr>\n",
       "\t<tr><td>Angola     </td><td>Africa     </td><td> 3520.6103 </td><td> 3827.940  </td><td> 4269.2767 </td><td> 5522.7764 </td><td> 5473.2880 </td><td> 3008.6474 </td><td> 2756.9537 </td><td> 2430.2083 </td><td>⋯          </td><td> 4826015   </td><td> 5247469   </td><td> 5894858   </td><td> 6162675   </td><td> 7016384   </td><td> 7874230   </td><td> 8735988   </td><td> 9875024   </td><td>10866106   </td><td>12420476   </td></tr>\n",
       "\t<tr><td>Argentina  </td><td>Americas   </td><td> 5911.3151 </td><td> 6856.856  </td><td> 7133.1660 </td><td> 8052.9530 </td><td> 9443.0385 </td><td>10079.0267 </td><td> 8997.8974 </td><td> 9139.6714 </td><td>⋯          </td><td>21283783   </td><td>22934225   </td><td>24779799   </td><td>26983828   </td><td>29341374   </td><td>31620918   </td><td>33958947   </td><td>36203463   </td><td>38331121   </td><td>40301927   </td></tr>\n",
       "\t<tr><td>Australia  </td><td>Oceania    </td><td>10039.5956 </td><td>10949.650  </td><td>12217.2269 </td><td>14526.1246 </td><td>16788.6295 </td><td>18334.1975 </td><td>19477.0093 </td><td>21888.8890 </td><td>⋯          </td><td>10794968   </td><td>11872264   </td><td>13177000   </td><td>14074100   </td><td>15184200   </td><td>16257249   </td><td>17481977   </td><td>18565243   </td><td>19546792   </td><td>20434176   </td></tr>\n",
       "</tbody>\n",
       "</table>\n"
      ],
      "text/latex": [
       "\\begin{tabular}{r|llllllllllllllllllllllllllllllllllllll}\n",
       " country & continent & gdpPercap\\_1952 & gdpPercap\\_1957 & gdpPercap\\_1962 & gdpPercap\\_1967 & gdpPercap\\_1972 & gdpPercap\\_1977 & gdpPercap\\_1982 & gdpPercap\\_1987 & ⋯ & pop\\_1962 & pop\\_1967 & pop\\_1972 & pop\\_1977 & pop\\_1982 & pop\\_1987 & pop\\_1992 & pop\\_1997 & pop\\_2002 & pop\\_2007\\\\\n",
       "\\hline\n",
       "\t Afghanistan & Asia        &   779.4453  &   820.853   &   853.1007  &   836.1971  &   739.9811  &   786.1134  &   978.0114  &   852.3959  & ⋯           & 10267083    & 11537966    & 13079460    & 14880372    & 12881816    & 13867957    & 16317921    & 22227415    & 25268405    & 31889923   \\\\\n",
       "\t Albania     & Europe      &  1601.0561  &  1942.284   &  2312.8890  &  2760.1969  &  3313.4222  &  3533.0039  &  3630.8807  &  3738.9327  & ⋯           &  1728137    &  1984060    &  2263554    &  2509048    &  2780097    &  3075321    &  3326498    &  3428038    &  3508512    &  3600523   \\\\\n",
       "\t Algeria     & Africa      &  2449.0082  &  3013.976   &  2550.8169  &  3246.9918  &  4182.6638  &  4910.4168  &  5745.1602  &  5681.3585  & ⋯           & 11000948    & 12760499    & 14760787    & 17152804    & 20033753    & 23254956    & 26298373    & 29072015    & 31287142    & 33333216   \\\\\n",
       "\t Angola      & Africa      &  3520.6103  &  3827.940   &  4269.2767  &  5522.7764  &  5473.2880  &  3008.6474  &  2756.9537  &  2430.2083  & ⋯           &  4826015    &  5247469    &  5894858    &  6162675    &  7016384    &  7874230    &  8735988    &  9875024    & 10866106    & 12420476   \\\\\n",
       "\t Argentina   & Americas    &  5911.3151  &  6856.856   &  7133.1660  &  8052.9530  &  9443.0385  & 10079.0267  &  8997.8974  &  9139.6714  & ⋯           & 21283783    & 22934225    & 24779799    & 26983828    & 29341374    & 31620918    & 33958947    & 36203463    & 38331121    & 40301927   \\\\\n",
       "\t Australia   & Oceania     & 10039.5956  & 10949.650   & 12217.2269  & 14526.1246  & 16788.6295  & 18334.1975  & 19477.0093  & 21888.8890  & ⋯           & 10794968    & 11872264    & 13177000    & 14074100    & 15184200    & 16257249    & 17481977    & 18565243    & 19546792    & 20434176   \\\\\n",
       "\\end{tabular}\n"
      ],
      "text/markdown": [
       "\n",
       "country | continent | gdpPercap_1952 | gdpPercap_1957 | gdpPercap_1962 | gdpPercap_1967 | gdpPercap_1972 | gdpPercap_1977 | gdpPercap_1982 | gdpPercap_1987 | ⋯ | pop_1962 | pop_1967 | pop_1972 | pop_1977 | pop_1982 | pop_1987 | pop_1992 | pop_1997 | pop_2002 | pop_2007 | \n",
       "|---|---|---|---|---|---|\n",
       "| Afghanistan | Asia        |   779.4453  |   820.853   |   853.1007  |   836.1971  |   739.9811  |   786.1134  |   978.0114  |   852.3959  | ⋯           | 10267083    | 11537966    | 13079460    | 14880372    | 12881816    | 13867957    | 16317921    | 22227415    | 25268405    | 31889923    | \n",
       "| Albania     | Europe      |  1601.0561  |  1942.284   |  2312.8890  |  2760.1969  |  3313.4222  |  3533.0039  |  3630.8807  |  3738.9327  | ⋯           |  1728137    |  1984060    |  2263554    |  2509048    |  2780097    |  3075321    |  3326498    |  3428038    |  3508512    |  3600523    | \n",
       "| Algeria     | Africa      |  2449.0082  |  3013.976   |  2550.8169  |  3246.9918  |  4182.6638  |  4910.4168  |  5745.1602  |  5681.3585  | ⋯           | 11000948    | 12760499    | 14760787    | 17152804    | 20033753    | 23254956    | 26298373    | 29072015    | 31287142    | 33333216    | \n",
       "| Angola      | Africa      |  3520.6103  |  3827.940   |  4269.2767  |  5522.7764  |  5473.2880  |  3008.6474  |  2756.9537  |  2430.2083  | ⋯           |  4826015    |  5247469    |  5894858    |  6162675    |  7016384    |  7874230    |  8735988    |  9875024    | 10866106    | 12420476    | \n",
       "| Argentina   | Americas    |  5911.3151  |  6856.856   |  7133.1660  |  8052.9530  |  9443.0385  | 10079.0267  |  8997.8974  |  9139.6714  | ⋯           | 21283783    | 22934225    | 24779799    | 26983828    | 29341374    | 31620918    | 33958947    | 36203463    | 38331121    | 40301927    | \n",
       "| Australia   | Oceania     | 10039.5956  | 10949.650   | 12217.2269  | 14526.1246  | 16788.6295  | 18334.1975  | 19477.0093  | 21888.8890  | ⋯           | 10794968    | 11872264    | 13177000    | 14074100    | 15184200    | 16257249    | 17481977    | 18565243    | 19546792    | 20434176    | \n",
       "\n",
       "\n"
      ],
      "text/plain": [
       "  country     continent gdpPercap_1952 gdpPercap_1957 gdpPercap_1962\n",
       "1 Afghanistan Asia        779.4453       820.853        853.1007    \n",
       "2 Albania     Europe     1601.0561      1942.284       2312.8890    \n",
       "3 Algeria     Africa     2449.0082      3013.976       2550.8169    \n",
       "4 Angola      Africa     3520.6103      3827.940       4269.2767    \n",
       "5 Argentina   Americas   5911.3151      6856.856       7133.1660    \n",
       "6 Australia   Oceania   10039.5956     10949.650      12217.2269    \n",
       "  gdpPercap_1967 gdpPercap_1972 gdpPercap_1977 gdpPercap_1982 gdpPercap_1987 ⋯\n",
       "1   836.1971       739.9811       786.1134       978.0114       852.3959     ⋯\n",
       "2  2760.1969      3313.4222      3533.0039      3630.8807      3738.9327     ⋯\n",
       "3  3246.9918      4182.6638      4910.4168      5745.1602      5681.3585     ⋯\n",
       "4  5522.7764      5473.2880      3008.6474      2756.9537      2430.2083     ⋯\n",
       "5  8052.9530      9443.0385     10079.0267      8997.8974      9139.6714     ⋯\n",
       "6 14526.1246     16788.6295     18334.1975     19477.0093     21888.8890     ⋯\n",
       "  pop_1962 pop_1967 pop_1972 pop_1977 pop_1982 pop_1987 pop_1992 pop_1997\n",
       "1 10267083 11537966 13079460 14880372 12881816 13867957 16317921 22227415\n",
       "2  1728137  1984060  2263554  2509048  2780097  3075321  3326498  3428038\n",
       "3 11000948 12760499 14760787 17152804 20033753 23254956 26298373 29072015\n",
       "4  4826015  5247469  5894858  6162675  7016384  7874230  8735988  9875024\n",
       "5 21283783 22934225 24779799 26983828 29341374 31620918 33958947 36203463\n",
       "6 10794968 11872264 13177000 14074100 15184200 16257249 17481977 18565243\n",
       "  pop_2002 pop_2007\n",
       "1 25268405 31889923\n",
       "2  3508512  3600523\n",
       "3 31287142 33333216\n",
       "4 10866106 12420476\n",
       "5 38331121 40301927\n",
       "6 19546792 20434176"
      ]
     },
     "metadata": {},
     "output_type": "display_data"
    }
   ],
   "source": [
    "gap_long_to_wide <- gap_temp %>% spread(key = \"obs_type_year\", value = \"obs_values\")\n",
    "head(gap_long_to_wide)"
   ]
  },
  {
   "cell_type": "markdown",
   "metadata": {},
   "source": [
    "### Question 3\n",
    "**Take this 1 step further and create a gap_ludicrously_wide format data by spreading over countries, year and the 3 metrics? Hint this new dataframe should only have 5 rows.** Hint: your columns should look like this `gdpPercap_1952_Afghanistan`"
   ]
  },
  {
   "cell_type": "code",
   "execution_count": 31,
   "metadata": {},
   "outputs": [
    {
     "data": {
      "text/html": [
       "<table>\n",
       "<thead><tr><th scope=col>continent</th><th scope=col>gdpPercap_1952_Afghanistan</th><th scope=col>gdpPercap_1952_Albania</th><th scope=col>gdpPercap_1952_Algeria</th><th scope=col>gdpPercap_1952_Angola</th><th scope=col>gdpPercap_1952_Argentina</th><th scope=col>gdpPercap_1952_Australia</th><th scope=col>gdpPercap_1952_Austria</th><th scope=col>gdpPercap_1952_Bahrain</th><th scope=col>gdpPercap_1952_Bangladesh</th><th scope=col>⋯</th><th scope=col>pop_2007_Uganda</th><th scope=col>pop_2007_United Kingdom</th><th scope=col>pop_2007_United States</th><th scope=col>pop_2007_Uruguay</th><th scope=col>pop_2007_Venezuela</th><th scope=col>pop_2007_Vietnam</th><th scope=col>pop_2007_West Bank and Gaza</th><th scope=col>pop_2007_Yemen, Rep.</th><th scope=col>pop_2007_Zambia</th><th scope=col>pop_2007_Zimbabwe</th></tr></thead>\n",
       "<tbody>\n",
       "\t<tr><td>Africa   </td><td>      NA </td><td>      NA </td><td>2449.008 </td><td>3520.61  </td><td>      NA </td><td>     NA  </td><td>      NA </td><td>      NA </td><td>      NA </td><td>⋯        </td><td>29170398 </td><td>      NA </td><td>       NA</td><td>     NA  </td><td>      NA </td><td>      NA </td><td>     NA  </td><td>      NA </td><td>11746035 </td><td>12311143 </td></tr>\n",
       "\t<tr><td>Americas </td><td>      NA </td><td>      NA </td><td>      NA </td><td>     NA  </td><td>5911.315 </td><td>     NA  </td><td>      NA </td><td>      NA </td><td>      NA </td><td>⋯        </td><td>      NA </td><td>      NA </td><td>301139947</td><td>3447496  </td><td>26084662 </td><td>      NA </td><td>     NA  </td><td>      NA </td><td>      NA </td><td>      NA </td></tr>\n",
       "\t<tr><td>Asia     </td><td>779.4453 </td><td>      NA </td><td>      NA </td><td>     NA  </td><td>      NA </td><td>     NA  </td><td>      NA </td><td>9867.085 </td><td>684.2442 </td><td>⋯        </td><td>      NA </td><td>      NA </td><td>       NA</td><td>     NA  </td><td>      NA </td><td>85262356 </td><td>4018332  </td><td>22211743 </td><td>      NA </td><td>      NA </td></tr>\n",
       "\t<tr><td>Europe   </td><td>      NA </td><td>1601.056 </td><td>      NA </td><td>     NA  </td><td>      NA </td><td>     NA  </td><td>6137.076 </td><td>      NA </td><td>      NA </td><td>⋯        </td><td>      NA </td><td>60776238 </td><td>       NA</td><td>     NA  </td><td>      NA </td><td>      NA </td><td>     NA  </td><td>      NA </td><td>      NA </td><td>      NA </td></tr>\n",
       "\t<tr><td>Oceania  </td><td>      NA </td><td>      NA </td><td>      NA </td><td>     NA  </td><td>      NA </td><td>10039.6  </td><td>      NA </td><td>      NA </td><td>      NA </td><td>⋯        </td><td>      NA </td><td>      NA </td><td>       NA</td><td>     NA  </td><td>      NA </td><td>      NA </td><td>     NA  </td><td>      NA </td><td>      NA </td><td>      NA </td></tr>\n",
       "</tbody>\n",
       "</table>\n"
      ],
      "text/latex": [
       "\\begin{tabular}{r|lllllllllllllllllllllllllllllllllllllllllllllllllllllllllllllllllllllllllllllllllllllllllllllllllllllllllllllllllllllllllllllllllllllllllllllllllllllllllllllllllllllllllllllllllllllllllllllllllllllllllllllllllllllllllllllllllllllllllllllllllllllllllllllllllllllllllllllllllllllllllllllllllllllllllllllllllllllllllllllllllllllllllllllllllllllllllllllllllllllllllllllllllllllllllllllllllllllllllllllllllllllllllllllllllllllllllllllllllllllllllllllllllllllllllllllllllllllllllllllllllllllllllllllllllllllllllllllllllllllllllllllllllllllllllllllllllllllllllllllllllllllllllllllllllllllllllllllllllllllllllllllllllllllllllllllllllllllllllllllllllllllllllllllllllllllllllllllllllllllllllllllllllllllllllllllllllllllllllllllllllllllllllllllllllllllllllllllllllllllllllllllllllllllllllllllllllllllllllllllllllllllllllllllllllllllllllllllllllllllllllllllllllllllllllllllllllllllllllllllllllllllllllllllllllllllllllllllllllllllllllllllllllllllllllllllllllllllllllllllllllllllllllllllllllllllllllllllllllllllllllllllllllllllllllllllllllllllllllllllllllllllllllllllllllllllllllllllllllllllllllllllllllllllllllllllllllllllllllllllllllllllllllllllllllllllllllllllllllllllllllllllllllllllllllllllllllllllllllllllllllllllllllllllllllllllllllllllllllllllllllllllllllllllllllllllllllllllllllllllllllllllllllllllllllllllllllllllllllllllllllllllllllllllllllllllllllllllllllllllllllllllllllllllllllllllllllllllllllllllllllllllllllllllllllllllllllllllllllllllllllllllllllllllllllllllllllllllllllllllllllllllllllllllllllllllllllllllllllllllllllllllllllllllllllllllllllllllllllllllllllllllllllllllllllllllllllllllllllllllllllllllllllllllllllllllllllllllllllllllllllllllllllllllllllllllllllllllllllllllllllllllllllllllllllllllllllllllllllllllllllllllllllllllllllllllllllllllllllllllllllllllllllllllllllllllllllllllllllllllllllllllllllllllllllllllllllllllllllllllllllllllllllllllllllllllllllllllllllllllllllllllllllllllllllllllllllllllllllllllllllllllllllllllllllllllllllllllllllllllllllllllllllllllllllllllllllllllllllllllllllllllllllllllllllllllllllllllllllllllllllllllllllllllllllllllllllllllllllllllllllllllllllllllllllllllllllllllllllllllllllllllllllllllllllllllllllllllllllllllllllllllllllllllllllllllllllllllllllllllllllllllllllllllllllllllllllllllllllllllllllllllllllllllllllllllllllllllllllllllllllllllllllllllllllllllllllllllllllllllllllllllllllllllllllllllllllllllllllllllllllllllllllllllllllllllllllllllllllllllllllllllllllllllllllllllllllllllllllllllllllllllllllllllllllllllllllllllllllllllllllllllllllllllllllllllllllllllllllllllllllllllllllllllllllllllllllllllllllllllllllllllllllllllllllllllllllllllllllllllllllllllllllllllllllllllllllllllllllllllllllllllllllllllllllllllllllllllllllllllllllllllllllllllllllllllllllllllllllllllllllllllllllllllllllllllllllllllllllllllllllllllllllllllllllllllllllllllllllllllllllllllllllllllllllllllllllllllllllllllllllllllllllllllllllllllllllllllllllllllllllllllllllllllllllllllllllllllllllllllllllllllllllllllllllllllllllllllllllllllllllllllllllllllllllllllllllllllllllllllllllllllllllllllllllllllllllllllllllllllllllllllllllllllllllllllllllllllllllllllllllllllllllllllllllllllllllllllllllllllllllllllllllllllllllllllllllllllllllllllllllllllllllllllllllllllllllllllllllllllllllllllllllllllllllllllllllllllllllllllllllllllllllllllllllllllllllllllllllllllllllllllllllllllllllllllllllllllllllllllllllllllllllllllllllllllllllllllllllllllllllllllllllllllllllllllllllllllllllllllllllllllllllllllllllllllllllllllllllllllllllllllllllllllllllllllllllllllllllllllllllllllllllllllllllllllllllllllllllllllllllllllllllllllllllllllllllllllllllllllllllllllllllllllllllllllllllllllllllllllllllllllllllllllllllllllllllllllllllllllllllllllllllllllllllllllllllllllllllllllllllllllllllllllllllllllllllllllllllllllllllllllllllllllllllllllllllllllllllllllllllllllllllllllllllllllllllllllllllllllllllllllllllllllllllllllllllllllllllllllllllllllllllllllllllllllllllllllllllllllllllllllllllllllllllllllllllllllllllllllllllllllllllllllllllllllllllllllllllllllllllllllllllllllllllllllllllllllllllllllllllllllllllllllllllllllllllllllllllllllllllllllllllllllllllllllllllllllllllllllllllllllllllllllllllllllllllllllllllllllllllllllllllllllllllllllllllllllllllllllllllllllllllllllllllllllllllllllllllllllllllllllllllllllllllllllllllllllllllllllllllllllllllllllllllllllllllllllllllllllllllllllllllllllllllllllllllllllllllllllllllllllllllllllllllllllllllllllllllllllllllllllllllllllllllllllllllllllllllllllllllllllllllllllllllllllllllllllllllllllllllllllllllllllllllllllllllllllllllllllllllllllllllllllllllllllllllllllllllllllllllllllllllllllllllllllllllllllllllllllllllllllllllllllllllllllllllllllllllllllllllllllllllllllllllllllllllllllllllllllllllllllllllllllllllllllllllllllllllllllllllllllllllllllllllllllllllllllllllllllllllllllllllllllllllllllllllllllllllllllllllllllllllllllllllllllllllllllllllllllllllllllllllllllllllllllllllllllllllllllllllllllllllllllllllllllllllllllllllllllllllllllllllllllllllllllllllllllllllllllllllllllllllllllllllllllllllllllllllllllllllllllllllllllllllllllllllllllllllllllllllllllllllllllllllllllllllllllllllllllllllllllllllllllllllllllllllllllllllllllllllllllllllllllllllllllllllllllllll}\n",
       " continent & gdpPercap\\_1952\\_Afghanistan & gdpPercap\\_1952\\_Albania & gdpPercap\\_1952\\_Algeria & gdpPercap\\_1952\\_Angola & gdpPercap\\_1952\\_Argentina & gdpPercap\\_1952\\_Australia & gdpPercap\\_1952\\_Austria & gdpPercap\\_1952\\_Bahrain & gdpPercap\\_1952\\_Bangladesh & ⋯ & pop\\_2007\\_Uganda & pop\\_2007\\_United Kingdom & pop\\_2007\\_United States & pop\\_2007\\_Uruguay & pop\\_2007\\_Venezuela & pop\\_2007\\_Vietnam & pop\\_2007\\_West Bank and Gaza & pop\\_2007\\_Yemen, Rep. & pop\\_2007\\_Zambia & pop\\_2007\\_Zimbabwe\\\\\n",
       "\\hline\n",
       "\t Africa    &       NA  &       NA  & 2449.008  & 3520.61   &       NA  &      NA   &       NA  &       NA  &       NA  & ⋯         & 29170398  &       NA  &        NA &      NA   &       NA  &       NA  &      NA   &       NA  & 11746035  & 12311143 \\\\\n",
       "\t Americas  &       NA  &       NA  &       NA  &      NA   & 5911.315  &      NA   &       NA  &       NA  &       NA  & ⋯         &       NA  &       NA  & 301139947 & 3447496   & 26084662  &       NA  &      NA   &       NA  &       NA  &       NA \\\\\n",
       "\t Asia      & 779.4453  &       NA  &       NA  &      NA   &       NA  &      NA   &       NA  & 9867.085  & 684.2442  & ⋯         &       NA  &       NA  &        NA &      NA   &       NA  & 85262356  & 4018332   & 22211743  &       NA  &       NA \\\\\n",
       "\t Europe    &       NA  & 1601.056  &       NA  &      NA   &       NA  &      NA   & 6137.076  &       NA  &       NA  & ⋯         &       NA  & 60776238  &        NA &      NA   &       NA  &       NA  &      NA   &       NA  &       NA  &       NA \\\\\n",
       "\t Oceania   &       NA  &       NA  &       NA  &      NA   &       NA  & 10039.6   &       NA  &       NA  &       NA  & ⋯         &       NA  &       NA  &        NA &      NA   &       NA  &       NA  &      NA   &       NA  &       NA  &       NA \\\\\n",
       "\\end{tabular}\n"
      ],
      "text/markdown": [
       "\n",
       "continent | gdpPercap_1952_Afghanistan | gdpPercap_1952_Albania | gdpPercap_1952_Algeria | gdpPercap_1952_Angola | gdpPercap_1952_Argentina | gdpPercap_1952_Australia | gdpPercap_1952_Austria | gdpPercap_1952_Bahrain | gdpPercap_1952_Bangladesh | ⋯ | pop_2007_Uganda | pop_2007_United Kingdom | pop_2007_United States | pop_2007_Uruguay | pop_2007_Venezuela | pop_2007_Vietnam | pop_2007_West Bank and Gaza | pop_2007_Yemen, Rep. | pop_2007_Zambia | pop_2007_Zimbabwe | \n",
       "|---|---|---|---|---|\n",
       "| Africa    |       NA  |       NA  | 2449.008  | 3520.61   |       NA  |      NA   |       NA  |       NA  |       NA  | ⋯         | 29170398  |       NA  |        NA |      NA   |       NA  |       NA  |      NA   |       NA  | 11746035  | 12311143  | \n",
       "| Americas  |       NA  |       NA  |       NA  |      NA   | 5911.315  |      NA   |       NA  |       NA  |       NA  | ⋯         |       NA  |       NA  | 301139947 | 3447496   | 26084662  |       NA  |      NA   |       NA  |       NA  |       NA  | \n",
       "| Asia      | 779.4453  |       NA  |       NA  |      NA   |       NA  |      NA   |       NA  | 9867.085  | 684.2442  | ⋯         |       NA  |       NA  |        NA |      NA   |       NA  | 85262356  | 4018332   | 22211743  |       NA  |       NA  | \n",
       "| Europe    |       NA  | 1601.056  |       NA  |      NA   |       NA  |      NA   | 6137.076  |       NA  |       NA  | ⋯         |       NA  | 60776238  |        NA |      NA   |       NA  |       NA  |      NA   |       NA  |       NA  |       NA  | \n",
       "| Oceania   |       NA  |       NA  |       NA  |      NA   |       NA  | 10039.6   |       NA  |       NA  |       NA  | ⋯         |       NA  |       NA  |        NA |      NA   |       NA  |       NA  |      NA   |       NA  |       NA  |       NA  | \n",
       "\n",
       "\n"
      ],
      "text/plain": [
       "  continent gdpPercap_1952_Afghanistan gdpPercap_1952_Albania\n",
       "1 Africa          NA                         NA              \n",
       "2 Americas        NA                         NA              \n",
       "3 Asia      779.4453                         NA              \n",
       "4 Europe          NA                   1601.056              \n",
       "5 Oceania         NA                         NA              \n",
       "  gdpPercap_1952_Algeria gdpPercap_1952_Angola gdpPercap_1952_Argentina\n",
       "1 2449.008               3520.61                     NA                \n",
       "2       NA                    NA               5911.315                \n",
       "3       NA                    NA                     NA                \n",
       "4       NA                    NA                     NA                \n",
       "5       NA                    NA                     NA                \n",
       "  gdpPercap_1952_Australia gdpPercap_1952_Austria gdpPercap_1952_Bahrain\n",
       "1      NA                        NA                     NA              \n",
       "2      NA                        NA                     NA              \n",
       "3      NA                        NA               9867.085              \n",
       "4      NA                  6137.076                     NA              \n",
       "5 10039.6                        NA                     NA              \n",
       "  gdpPercap_1952_Bangladesh ⋯ pop_2007_Uganda pop_2007_United Kingdom\n",
       "1       NA                  ⋯ 29170398              NA               \n",
       "2       NA                  ⋯       NA              NA               \n",
       "3 684.2442                  ⋯       NA              NA               \n",
       "4       NA                  ⋯       NA        60776238               \n",
       "5       NA                  ⋯       NA              NA               \n",
       "  pop_2007_United States pop_2007_Uruguay pop_2007_Venezuela pop_2007_Vietnam\n",
       "1        NA                   NA                NA                 NA        \n",
       "2 301139947              3447496          26084662                 NA        \n",
       "3        NA                   NA                NA           85262356        \n",
       "4        NA                   NA                NA                 NA        \n",
       "5        NA                   NA                NA                 NA        \n",
       "  pop_2007_West Bank and Gaza pop_2007_Yemen, Rep. pop_2007_Zambia\n",
       "1      NA                           NA             11746035       \n",
       "2      NA                           NA                   NA       \n",
       "3 4018332                     22211743                   NA       \n",
       "4      NA                           NA                   NA       \n",
       "5      NA                           NA                   NA       \n",
       "  pop_2007_Zimbabwe\n",
       "1 12311143         \n",
       "2       NA         \n",
       "3       NA         \n",
       "4       NA         \n",
       "5       NA         "
      ]
     },
     "metadata": {},
     "output_type": "display_data"
    }
   ],
   "source": [
    "gap_ludicrously_wide <- gap_long %>%\n",
    "   unite(col = \"var_names\",obs_type,year,country,sep= \"_\") %>%\n",
    "   spread(var_names,obs_values)"
   ]
  },
  {
   "cell_type": "markdown",
   "metadata": {},
   "source": [
    "## Key Points"
   ]
  },
  {
   "cell_type": "markdown",
   "metadata": {},
   "source": [
    "The **tidyr** package is used to change the layout of dataframes.  \n",
    "**gather()** to go from wide to long format.  \n",
    "**spread()** to go from long to wide format.  \n",
    "\n",
    "**seperate()** to split character strings into multiple variables.\n",
    "**unite()** to"
   ]
  }
 ],
 "metadata": {
  "kernelspec": {
   "display_name": "R",
   "language": "R",
   "name": "ir"
  },
  "language_info": {
   "codemirror_mode": "r",
   "file_extension": ".r",
   "mimetype": "text/x-r-source",
   "name": "R",
   "pygments_lexer": "r",
   "version": "3.5.1"
  }
 },
 "nbformat": 4,
 "nbformat_minor": 2
}
